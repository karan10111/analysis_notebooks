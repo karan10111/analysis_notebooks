{
 "cells": [
  {
   "cell_type": "code",
   "execution_count": 60,
   "metadata": {},
   "outputs": [],
   "source": [
    "import pandas as pd\n",
    "import seaborn as sns"
   ]
  },
  {
   "cell_type": "code",
   "execution_count": 86,
   "metadata": {},
   "outputs": [],
   "source": [
    "all_data = pd.read_csv('/shared/suryansh.tiwari/output_csv/HI_FA_2_all_287_data_till_now.csv')"
   ]
  },
  {
   "cell_type": "code",
   "execution_count": 87,
   "metadata": {},
   "outputs": [
    {
     "data": {
      "text/plain": [
       "Index(['Tag', 'Text_id', 'Type_of_text', 'Raw_GT', 'GT', 'GT(english)',\n",
       "       'utf_text', 'Machine_Transcribed_text',\n",
       "       'Machine_Transcribed_text(English)', 'GT_len', 'Total_edit', 'WER',\n",
       "       'WER*GT_len', 'GT_char_len', 'Total_char_edit', 'CER',\n",
       "       'CER*GT_char_len', 'confidence', 'verified_time', 'audio_path', 'HI_FA',\n",
       "       '2'],\n",
       "      dtype='object')"
      ]
     },
     "execution_count": 87,
     "metadata": {},
     "output_type": "execute_result"
    }
   ],
   "source": [
    "all_data.columns"
   ]
  },
  {
   "cell_type": "code",
   "execution_count": 88,
   "metadata": {},
   "outputs": [],
   "source": [
    "all_data = all_data[(all_data.Type_of_text == 'multi_speaker_replaced_by_blank') | (all_data.Type_of_text == 'primary_speaker_with_wildcard')]"
   ]
  },
  {
   "cell_type": "code",
   "execution_count": 89,
   "metadata": {},
   "outputs": [
    {
     "data": {
      "text/plain": [
       "(39461, 22)"
      ]
     },
     "execution_count": 89,
     "metadata": {},
     "output_type": "execute_result"
    }
   ],
   "source": [
    "all_data.shape"
   ]
  },
  {
   "cell_type": "code",
   "execution_count": 90,
   "metadata": {},
   "outputs": [
    {
     "data": {
      "text/html": [
       "<div>\n",
       "<style scoped>\n",
       "    .dataframe tbody tr th:only-of-type {\n",
       "        vertical-align: middle;\n",
       "    }\n",
       "\n",
       "    .dataframe tbody tr th {\n",
       "        vertical-align: top;\n",
       "    }\n",
       "\n",
       "    .dataframe thead th {\n",
       "        text-align: right;\n",
       "    }\n",
       "</style>\n",
       "<table border=\"1\" class=\"dataframe\">\n",
       "  <thead>\n",
       "    <tr style=\"text-align: right;\">\n",
       "      <th></th>\n",
       "      <th>Tag</th>\n",
       "      <th>Text_id</th>\n",
       "      <th>Type_of_text</th>\n",
       "      <th>Raw_GT</th>\n",
       "      <th>GT</th>\n",
       "      <th>GT(english)</th>\n",
       "      <th>utf_text</th>\n",
       "      <th>Machine_Transcribed_text</th>\n",
       "      <th>Machine_Transcribed_text(English)</th>\n",
       "      <th>GT_len</th>\n",
       "      <th>...</th>\n",
       "      <th>WER*GT_len</th>\n",
       "      <th>GT_char_len</th>\n",
       "      <th>Total_char_edit</th>\n",
       "      <th>CER</th>\n",
       "      <th>CER*GT_char_len</th>\n",
       "      <th>confidence</th>\n",
       "      <th>verified_time</th>\n",
       "      <th>audio_path</th>\n",
       "      <th>HI_FA</th>\n",
       "      <th>2</th>\n",
       "    </tr>\n",
       "  </thead>\n",
       "  <tbody>\n",
       "    <tr>\n",
       "      <th>1</th>\n",
       "      <td>287</td>\n",
       "      <td>44554378</td>\n",
       "      <td>multi_speaker_replaced_by_blank</td>\n",
       "      <td>@ _ @ माइक्रोमैक्स फोन @ _ @</td>\n",
       "      <td>माइक्रोमैक्स फोन</td>\n",
       "      <td>micromax phone</td>\n",
       "      <td>माइक्रोमैक्स फोन नेट</td>\n",
       "      <td>माइक्रोमैक्स फोन</td>\n",
       "      <td>micromax phone</td>\n",
       "      <td>2</td>\n",
       "      <td>...</td>\n",
       "      <td>0.0</td>\n",
       "      <td>16</td>\n",
       "      <td>0.0</td>\n",
       "      <td>0.000000</td>\n",
       "      <td>0.0</td>\n",
       "      <td>0.855613</td>\n",
       "      <td>2020-07-13 20:10:27</td>\n",
       "      <td>api_EN_S_13Jul20/app_1955976751_37889410890381...</td>\n",
       "      <td>NaN</td>\n",
       "      <td>NaN</td>\n",
       "    </tr>\n",
       "    <tr>\n",
       "      <th>3</th>\n",
       "      <td>287</td>\n",
       "      <td>44554383</td>\n",
       "      <td>multi_speaker_replaced_by_blank</td>\n",
       "      <td>@ _ @ जॉनसन बॉडी वाश @ _ @ @ _ @</td>\n",
       "      <td>जॉनसन बॉडी वाश</td>\n",
       "      <td>johnson body wash</td>\n",
       "      <td>जॉनसन बॉडी वाश एक सोनी</td>\n",
       "      <td>जॉनसन बॉडी वाश एक सोने</td>\n",
       "      <td>johnson body wash ek sone</td>\n",
       "      <td>3</td>\n",
       "      <td>...</td>\n",
       "      <td>2.0</td>\n",
       "      <td>14</td>\n",
       "      <td>8.0</td>\n",
       "      <td>0.571429</td>\n",
       "      <td>8.0</td>\n",
       "      <td>0.663385</td>\n",
       "      <td>2020-07-13 20:15:18</td>\n",
       "      <td>api_EN_S_13Jul20/app_1084732743_37889435509352...</td>\n",
       "      <td>NaN</td>\n",
       "      <td>NaN</td>\n",
       "    </tr>\n",
       "    <tr>\n",
       "      <th>4</th>\n",
       "      <td>287</td>\n",
       "      <td>44554384</td>\n",
       "      <td>primary_speaker_with_wildcard</td>\n",
       "      <td>प्लैटिना का शॉकर प्राइज</td>\n",
       "      <td>प्लैटिना का शॉकर प्राइज</td>\n",
       "      <td>platina ka shocker prize</td>\n",
       "      <td>प्लेटिना का साकार प्राइस</td>\n",
       "      <td>प्लैटिना का शॉकर प्राइस</td>\n",
       "      <td>platina ka shocker price</td>\n",
       "      <td>4</td>\n",
       "      <td>...</td>\n",
       "      <td>0.0</td>\n",
       "      <td>23</td>\n",
       "      <td>0.0</td>\n",
       "      <td>0.000000</td>\n",
       "      <td>0.0</td>\n",
       "      <td>0.716516</td>\n",
       "      <td>2020-07-13 20:15:16</td>\n",
       "      <td>api_EN_S_13Jul20/app_1075223140_37889435499621...</td>\n",
       "      <td>NaN</td>\n",
       "      <td>NaN</td>\n",
       "    </tr>\n",
       "    <tr>\n",
       "      <th>7</th>\n",
       "      <td>287</td>\n",
       "      <td>44554439</td>\n",
       "      <td>multi_speaker_replaced_by_blank</td>\n",
       "      <td>@ _ @ फास्ट्रैक चैन वॉच @ _ फास्ट्रैक _ @</td>\n",
       "      <td>फास्ट्रैक चैन वॉच</td>\n",
       "      <td>fastrack chain watch</td>\n",
       "      <td>क्राइस्ट ट्रैक चेन वाला पांच केराटिन</td>\n",
       "      <td>फास्टट्रैक चेन वॉच</td>\n",
       "      <td>fastrack chen watch</td>\n",
       "      <td>3</td>\n",
       "      <td>...</td>\n",
       "      <td>1.0</td>\n",
       "      <td>18</td>\n",
       "      <td>1.0</td>\n",
       "      <td>0.055556</td>\n",
       "      <td>1.0</td>\n",
       "      <td>0.740703</td>\n",
       "      <td>2020-07-13 20:32:24</td>\n",
       "      <td>api_HI_S_13Jul20/app_891176999_378895208134423...</td>\n",
       "      <td>NaN</td>\n",
       "      <td>NaN</td>\n",
       "    </tr>\n",
       "    <tr>\n",
       "      <th>8</th>\n",
       "      <td>287</td>\n",
       "      <td>44554440</td>\n",
       "      <td>primary_speaker_with_wildcard</td>\n",
       "      <td>पैंट कोट</td>\n",
       "      <td>पैंट कोट</td>\n",
       "      <td>pant coat</td>\n",
       "      <td>पैंट कोट</td>\n",
       "      <td>पैंट कोट</td>\n",
       "      <td>pant coat</td>\n",
       "      <td>2</td>\n",
       "      <td>...</td>\n",
       "      <td>0.0</td>\n",
       "      <td>8</td>\n",
       "      <td>0.0</td>\n",
       "      <td>0.000000</td>\n",
       "      <td>0.0</td>\n",
       "      <td>0.733439</td>\n",
       "      <td>2020-07-13 20:32:12</td>\n",
       "      <td>api_HI_S_13Jul20/app_765000402_378895205549893...</td>\n",
       "      <td>NaN</td>\n",
       "      <td>NaN</td>\n",
       "    </tr>\n",
       "  </tbody>\n",
       "</table>\n",
       "<p>5 rows × 22 columns</p>\n",
       "</div>"
      ],
      "text/plain": [
       "   Tag   Text_id                     Type_of_text  \\\n",
       "1  287  44554378  multi_speaker_replaced_by_blank   \n",
       "3  287  44554383  multi_speaker_replaced_by_blank   \n",
       "4  287  44554384    primary_speaker_with_wildcard   \n",
       "7  287  44554439  multi_speaker_replaced_by_blank   \n",
       "8  287  44554440    primary_speaker_with_wildcard   \n",
       "\n",
       "                                      Raw_GT                       GT  \\\n",
       "1               @ _ @ माइक्रोमैक्स फोन @ _ @       माइक्रोमैक्स फोन     \n",
       "3           @ _ @ जॉनसन बॉडी वाश @ _ @ @ _ @       जॉनसन बॉडी वाश       \n",
       "4                    प्लैटिना का शॉकर प्राइज  प्लैटिना का शॉकर प्राइज   \n",
       "7  @ _ @ फास्ट्रैक चैन वॉच @ _ फास्ट्रैक _ @      फास्ट्रैक चैन वॉच     \n",
       "8                                   पैंट कोट                 पैंट कोट   \n",
       "\n",
       "                GT(english)                              utf_text  \\\n",
       "1            micromax phone                  माइक्रोमैक्स फोन नेट   \n",
       "3         johnson body wash                जॉनसन बॉडी वाश एक सोनी   \n",
       "4  platina ka shocker prize              प्लेटिना का साकार प्राइस   \n",
       "7      fastrack chain watch  क्राइस्ट ट्रैक चेन वाला पांच केराटिन   \n",
       "8                 pant coat                              पैंट कोट   \n",
       "\n",
       "    Machine_Transcribed_text Machine_Transcribed_text(English)  GT_len  ...  \\\n",
       "1         माइक्रोमैक्स फोन                      micromax phone       2  ...   \n",
       "3   जॉनसन बॉडी वाश एक सोने           johnson body wash ek sone       3  ...   \n",
       "4  प्लैटिना का शॉकर प्राइस            platina ka shocker price       4  ...   \n",
       "7       फास्टट्रैक चेन वॉच                 fastrack chen watch       3  ...   \n",
       "8                 पैंट कोट                           pant coat       2  ...   \n",
       "\n",
       "   WER*GT_len  GT_char_len  Total_char_edit       CER  CER*GT_char_len  \\\n",
       "1         0.0           16              0.0  0.000000              0.0   \n",
       "3         2.0           14              8.0  0.571429              8.0   \n",
       "4         0.0           23              0.0  0.000000              0.0   \n",
       "7         1.0           18              1.0  0.055556              1.0   \n",
       "8         0.0            8              0.0  0.000000              0.0   \n",
       "\n",
       "   confidence        verified_time  \\\n",
       "1    0.855613  2020-07-13 20:10:27   \n",
       "3    0.663385  2020-07-13 20:15:18   \n",
       "4    0.716516  2020-07-13 20:15:16   \n",
       "7    0.740703  2020-07-13 20:32:24   \n",
       "8    0.733439  2020-07-13 20:32:12   \n",
       "\n",
       "                                          audio_path HI_FA   2  \n",
       "1  api_EN_S_13Jul20/app_1955976751_37889410890381...   NaN NaN  \n",
       "3  api_EN_S_13Jul20/app_1084732743_37889435509352...   NaN NaN  \n",
       "4  api_EN_S_13Jul20/app_1075223140_37889435499621...   NaN NaN  \n",
       "7  api_HI_S_13Jul20/app_891176999_378895208134423...   NaN NaN  \n",
       "8  api_HI_S_13Jul20/app_765000402_378895205549893...   NaN NaN  \n",
       "\n",
       "[5 rows x 22 columns]"
      ]
     },
     "execution_count": 90,
     "metadata": {},
     "output_type": "execute_result"
    }
   ],
   "source": [
    "all_data.head()"
   ]
  },
  {
   "cell_type": "code",
   "execution_count": 151,
   "metadata": {},
   "outputs": [
    {
     "data": {
      "text/plain": [
       "(7575, 22)"
      ]
     },
     "execution_count": 151,
     "metadata": {},
     "output_type": "execute_result"
    }
   ],
   "source": [
    "all_data[all_data.verified_time.str.contains('2020-09-02')].shape"
   ]
  },
  {
   "cell_type": "code",
   "execution_count": 157,
   "metadata": {},
   "outputs": [
    {
     "data": {
      "text/plain": [
       "(3899, 22)"
      ]
     },
     "execution_count": 157,
     "metadata": {},
     "output_type": "execute_result"
    }
   ],
   "source": [
    "all_data[all_data.verified_time.str.contains('2020-10-01')].shape"
   ]
  },
  {
   "cell_type": "code",
   "execution_count": 156,
   "metadata": {},
   "outputs": [
    {
     "data": {
      "text/plain": [
       "0.7053468594511414"
      ]
     },
     "execution_count": 156,
     "metadata": {},
     "output_type": "execute_result"
    }
   ],
   "source": [
    "all_data[all_data.verified_time.str.contains('2020-10-01')]['confidence'].mean()\n",
    "# all_data[all_data.verified_time.str.contains('2020-09-30')]['confidence'].mean()\n"
   ]
  },
  {
   "cell_type": "code",
   "execution_count": 150,
   "metadata": {},
   "outputs": [
    {
     "data": {
      "text/plain": [
       "0.729453"
      ]
     },
     "execution_count": 150,
     "metadata": {},
     "output_type": "execute_result"
    }
   ],
   "source": [
    "# all_data[all_data.verified_time.str.contains('2020-10-01')]['confidence'].median()\n",
    "all_data[all_data.verified_time.str.contains('2020-09-30')]['confidence'].median()# high confidence"
   ]
  },
  {
   "cell_type": "code",
   "execution_count": 164,
   "metadata": {},
   "outputs": [
    {
     "data": {
      "text/plain": [
       "<AxesSubplot:xlabel='confidence', ylabel='Count'>"
      ]
     },
     "execution_count": 164,
     "metadata": {},
     "output_type": "execute_result"
    },
    {
     "data": {
      "image/png": "[encoded data removed]",
      "text/plain": [
       "<Figure size 432x288 with 1 Axes>"
      ]
     },
     "metadata": {
      "needs_background": "light"
     },
     "output_type": "display_data"
    }
   ],
   "source": [
    "sns.histplot(all_data[all_data.verified_time.str.contains('2020-10-01')]['confidence'],color=\"blue\")\n",
    "sns.histplot(all_data[all_data.verified_time.str.contains('2020-09-30')]['confidence'],color=\"red\")\n",
    "sns.histplot(all_data[all_data.verified_time.str.contains('2020-09-02')].sample(3893)['confidence'],color=\"yellow\")\n",
    "\n",
    "\n",
    "#sns.histplot(sept_all_data[(sept_all_data.uploaded_time.str.contains('2020-09-02')) & (sept_all_data.Type_of_text=='primary_speaker_with_wildcard')].sample(635)['confidence'],color=\"green\")"
   ]
  },
  {
   "cell_type": "code",
   "execution_count": 131,
   "metadata": {},
   "outputs": [
    {
     "data": {
      "text/plain": [
       "<AxesSubplot:xlabel='confidence', ylabel='Count'>"
      ]
     },
     "execution_count": 131,
     "metadata": {},
     "output_type": "execute_result"
    },
    {
     "data": {
      "image/png": "[encoded data removed]",
      "text/plain": [
       "<Figure size 432x288 with 1 Axes>"
      ]
     },
     "metadata": {
      "needs_background": "light"
     },
     "output_type": "display_data"
    }
   ],
   "source": [
    "sns.histplot(all_data[all_data.verified_time.str.contains('2020-09-26')]['confidence'],color=\"yellow\")\n",
    "sns.histplot(all_data[all_data.verified_time.str.contains('2020-09-25')]['confidence'],color=\"brown\")"
   ]
  },
  {
   "cell_type": "code",
   "execution_count": 77,
   "metadata": {},
   "outputs": [
    {
     "name": "stderr",
     "output_type": "stream",
     "text": [
      "<ipython-input-77-efc064c41913>:1: UserWarning: Boolean Series key will be reindexed to match DataFrame index.\n",
      "  sns.histplot(aug_all_data[aug_all_data.uploaded_time.str.contains('2020-10-03')][aug_all_data.Type_of_text=='primary_speaker_with_wildcard']['confidence'],color=\"red\")\n"
     ]
    },
    {
     "data": {
      "text/plain": [
       "<AxesSubplot:xlabel='confidence', ylabel='Count'>"
      ]
     },
     "execution_count": 77,
     "metadata": {},
     "output_type": "execute_result"
    },
    {
     "data": {
      "image/png": "[encoded data removed]",
      "text/plain": [
       "<Figure size 432x288 with 1 Axes>"
      ]
     },
     "metadata": {
      "needs_background": "light"
     },
     "output_type": "display_data"
    }
   ],
   "source": [
    "sns.histplot(aug_all_data[aug_all_data.uploaded_time.str.contains('2020-10-03')][aug_all_data.Type_of_text=='primary_speaker_with_wildcard']['confidence'],color=\"red\")\n",
    "\n",
    "\n"
   ]
  },
  {
   "cell_type": "code",
   "execution_count": 78,
   "metadata": {},
   "outputs": [
    {
     "name": "stderr",
     "output_type": "stream",
     "text": [
      "<ipython-input-78-b6e4d0101304>:1: UserWarning: Boolean Series key will be reindexed to match DataFrame index.\n",
      "  sns.histplot(sept_all_data[sept_all_data.uploaded_time.str.contains('2020-10-01')][sept_all_data.Type_of_text=='primary_speaker_with_wildcard']['confidence'],color=\"blue\")\n"
     ]
    },
    {
     "data": {
      "text/plain": [
       "<AxesSubplot:>"
      ]
     },
     "execution_count": 78,
     "metadata": {},
     "output_type": "execute_result"
    },
    {
     "data": {
      "image/png": "[encoded data removed]",
      "text/plain": [
       "<Figure size 432x288 with 1 Axes>"
      ]
     },
     "metadata": {
      "needs_background": "light"
     },
     "output_type": "display_data"
    }
   ],
   "source": [
    "sns.histplot(sept_all_data[sept_all_data.uploaded_time.str.contains('2020-10-01')][sept_all_data.Type_of_text=='primary_speaker_with_wildcard']['confidence'],color=\"blue\")"
   ]
  },
  {
   "cell_type": "code",
   "execution_count": null,
   "metadata": {},
   "outputs": [],
   "source": []
  }
 ],
 "metadata": {
  "kernelspec": {
   "display_name": "Python 3",
   "language": "python",
   "name": "python3"
  },
  "language_info": {
   "codemirror_mode": {
    "name": "ipython",
    "version": 3
   },
   "file_extension": ".py",
   "mimetype": "text/x-python",
   "name": "python",
   "nbconvert_exporter": "python",
   "pygments_lexer": "ipython3",
   "version": "3.8.3"
  }
 },
 "nbformat": 4,
 "nbformat_minor": 4
}
