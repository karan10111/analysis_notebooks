{
 "cells": [
  {
   "cell_type": "code",
   "execution_count": 129,
   "metadata": {},
   "outputs": [],
   "source": [
    "import pandas as pd\n",
    "import seaborn as sns"
   ]
  },
  {
   "cell_type": "code",
   "execution_count": 158,
   "metadata": {},
   "outputs": [],
   "source": [
    "oa_ol = pd.read_csv(\"/shared/suryansh.tiwari/output_csv/HI_FA_2_10k_new_dataset.csv\")  # baseline"
   ]
  },
  {
   "cell_type": "code",
   "execution_count": 159,
   "metadata": {},
   "outputs": [
    {
     "data": {
      "text/plain": [
       "Index(['Tag', 'Text_id', 'Type_of_text', 'Raw_GT', 'GT', 'GT(english)',\n",
       "       'utf_text', 'Machine_Transcribed_text',\n",
       "       'Machine_Transcribed_text(English)', 'GT_len', 'Total_edit', 'WER',\n",
       "       'WER*GT_len', 'GT_char_len', 'Total_char_edit', 'CER',\n",
       "       'CER*GT_char_len', 'confidence', 'uploaded_time', 'audio_path', 'HI_FA',\n",
       "       '2'],\n",
       "      dtype='object')"
      ]
     },
     "execution_count": 159,
     "metadata": {},
     "output_type": "execute_result"
    }
   ],
   "source": [
    "oa_ol.columns"
   ]
  },
  {
   "cell_type": "code",
   "execution_count": null,
   "metadata": {},
   "outputs": [],
   "source": []
  },
  {
   "cell_type": "code",
   "execution_count": 160,
   "metadata": {},
   "outputs": [
    {
     "name": "stdout",
     "output_type": "stream",
     "text": [
      "0        48477928\n",
      "1        48477928\n",
      "2        48477929\n",
      "3        48477929\n",
      "4        48477931\n",
      "           ...   \n",
      "18829    48489906\n",
      "18830    48489910\n",
      "18831    48489910\n",
      "18832    48489920\n",
      "18833    48489920\n",
      "Name: Text_id, Length: 18834, dtype: int64\n"
     ]
    }
   ],
   "source": [
    "print(oa_ol.Text_id)"
   ]
  },
  {
   "cell_type": "code",
   "execution_count": 161,
   "metadata": {},
   "outputs": [
    {
     "data": {
      "text/plain": [
       "0    48477928\n",
       "1    48477928\n",
       "2    48477929\n",
       "3    48477929\n",
       "4    48477931\n",
       "Name: Text_id, dtype: int64"
      ]
     },
     "execution_count": 161,
     "metadata": {},
     "output_type": "execute_result"
    }
   ],
   "source": [
    "oa_ol.Text_id.head()"
   ]
  },
  {
   "cell_type": "code",
   "execution_count": 162,
   "metadata": {},
   "outputs": [],
   "source": [
    "oa_ol = oa_ol[(oa_ol.Type_of_text == 'multi_speaker_replaced_by_blank')]\n",
    "x = oa_ol[['Text_id', 'Type_of_text', 'Raw_GT', 'GT', 'Machine_Transcribed_text', 'GT_len', 'WER*GT_len', 'WER', 'confidence']]"
   ]
  },
  {
   "cell_type": "code",
   "execution_count": 164,
   "metadata": {},
   "outputs": [
    {
     "name": "stdout",
     "output_type": "stream",
     "text": [
      "(5097, 9) 18612 4977.0\n"
     ]
    }
   ],
   "source": [
    "print(x.shape, x['GT_len'].sum(),x['WER*GT_len'].sum())"
   ]
  },
  {
   "cell_type": "markdown",
   "metadata": {},
   "source": [
    "#### print(x.GT_len.sum(),x['WER*GT_len'].sum())"
   ]
  },
  {
   "cell_type": "code",
   "execution_count": 165,
   "metadata": {},
   "outputs": [],
   "source": [
    "x_high_conf = x[(x.WER != 0)]"
   ]
  },
  {
   "cell_type": "code",
   "execution_count": 166,
   "metadata": {},
   "outputs": [
    {
     "data": {
      "text/plain": [
       "(2540, 9)"
      ]
     },
     "execution_count": 166,
     "metadata": {},
     "output_type": "execute_result"
    }
   ],
   "source": [
    "x_high_conf.shape"
   ]
  },
  {
   "cell_type": "code",
   "execution_count": 167,
   "metadata": {},
   "outputs": [
    {
     "name": "stdout",
     "output_type": "stream",
     "text": [
      "10648 4977.0\n"
     ]
    }
   ],
   "source": [
    "print(x_high_conf.GT_len.sum(),x_high_conf['WER*GT_len'].sum())"
   ]
  },
  {
   "cell_type": "code",
   "execution_count": 146,
   "metadata": {},
   "outputs": [
    {
     "data": {
      "text/html": [
       "<div>\n",
       "<style scoped>\n",
       "    .dataframe tbody tr th:only-of-type {\n",
       "        vertical-align: middle;\n",
       "    }\n",
       "\n",
       "    .dataframe tbody tr th {\n",
       "        vertical-align: top;\n",
       "    }\n",
       "\n",
       "    .dataframe thead th {\n",
       "        text-align: right;\n",
       "    }\n",
       "</style>\n",
       "<table border=\"1\" class=\"dataframe\">\n",
       "  <thead>\n",
       "    <tr style=\"text-align: right;\">\n",
       "      <th></th>\n",
       "      <th>Text_id</th>\n",
       "      <th>Type_of_text</th>\n",
       "      <th>Raw_GT</th>\n",
       "      <th>GT</th>\n",
       "      <th>Machine_Transcribed_text</th>\n",
       "      <th>GT_len</th>\n",
       "      <th>WER*GT_len</th>\n",
       "      <th>WER</th>\n",
       "      <th>confidence</th>\n",
       "    </tr>\n",
       "  </thead>\n",
       "  <tbody>\n",
       "    <tr>\n",
       "      <th>0</th>\n",
       "      <td>48477928</td>\n",
       "      <td>primary_speaker_with_wildcard</td>\n",
       "      <td>घर में रोज पहनने वाला साड़ी दिखाओ</td>\n",
       "      <td>घर में रोज पहनने वाला साड़ी दिखाओ</td>\n",
       "      <td>घर में रोज पहनने वाला साड़ी दिखाओ</td>\n",
       "      <td>7</td>\n",
       "      <td>0.0</td>\n",
       "      <td>0.000000</td>\n",
       "      <td>0.772045</td>\n",
       "    </tr>\n",
       "    <tr>\n",
       "      <th>3</th>\n",
       "      <td>48477929</td>\n",
       "      <td>multi_speaker_replaced_by_blank</td>\n",
       "      <td>विंटर क्लॉथ फूर फूर पाद @ _ @</td>\n",
       "      <td>विंटर क्लॉथ फूर फूर पाद</td>\n",
       "      <td>विंटर क्लॉथ पुरपुरा पाद</td>\n",
       "      <td>5</td>\n",
       "      <td>2.0</td>\n",
       "      <td>0.400000</td>\n",
       "      <td>0.593204</td>\n",
       "    </tr>\n",
       "    <tr>\n",
       "      <th>5</th>\n",
       "      <td>48477931</td>\n",
       "      <td>multi_speaker_replaced_by_blank</td>\n",
       "      <td>@ _ @ सैमसंग जे सेवन मोबाइल प्राइस</td>\n",
       "      <td>सैमसंग जे सेवन मोबाइल प्राइस</td>\n",
       "      <td>सैमसंग जे सेवन मोबाइल प्राइस</td>\n",
       "      <td>5</td>\n",
       "      <td>0.0</td>\n",
       "      <td>0.000000</td>\n",
       "      <td>0.874107</td>\n",
       "    </tr>\n",
       "    <tr>\n",
       "      <th>6</th>\n",
       "      <td>48477932</td>\n",
       "      <td>primary_speaker_with_wildcard</td>\n",
       "      <td>पाँच नंबर बॉयज के सॉक्स</td>\n",
       "      <td>पाँच नंबर बॉयज के सॉक्स</td>\n",
       "      <td>पांच नंबर बॉयज के सॉक्स</td>\n",
       "      <td>5</td>\n",
       "      <td>0.0</td>\n",
       "      <td>0.000000</td>\n",
       "      <td>0.736979</td>\n",
       "    </tr>\n",
       "    <tr>\n",
       "      <th>8</th>\n",
       "      <td>48477933</td>\n",
       "      <td>primary_speaker_with_wildcard</td>\n",
       "      <td>दशहरा ऑफर्स मोबाइल्स</td>\n",
       "      <td>दशहरा ऑफर्स मोबाइल्स</td>\n",
       "      <td>गारा ऑफर्स मोबाइल</td>\n",
       "      <td>3</td>\n",
       "      <td>2.0</td>\n",
       "      <td>0.666667</td>\n",
       "      <td>0.729890</td>\n",
       "    </tr>\n",
       "  </tbody>\n",
       "</table>\n",
       "</div>"
      ],
      "text/plain": [
       "    Text_id                     Type_of_text  \\\n",
       "0  48477928    primary_speaker_with_wildcard   \n",
       "3  48477929  multi_speaker_replaced_by_blank   \n",
       "5  48477931  multi_speaker_replaced_by_blank   \n",
       "6  48477932    primary_speaker_with_wildcard   \n",
       "8  48477933    primary_speaker_with_wildcard   \n",
       "\n",
       "                               Raw_GT                                 GT  \\\n",
       "0   घर में रोज पहनने वाला साड़ी दिखाओ  घर में रोज पहनने वाला साड़ी दिखाओ   \n",
       "3       विंटर क्लॉथ फूर फूर पाद @ _ @          विंटर क्लॉथ फूर फूर पाद     \n",
       "5  @ _ @ सैमसंग जे सेवन मोबाइल प्राइस       सैमसंग जे सेवन मोबाइल प्राइस   \n",
       "6             पाँच नंबर बॉयज के सॉक्स            पाँच नंबर बॉयज के सॉक्स   \n",
       "8                दशहरा ऑफर्स मोबाइल्स               दशहरा ऑफर्स मोबाइल्स   \n",
       "\n",
       "              Machine_Transcribed_text  GT_len  WER*GT_len       WER  \\\n",
       "0  घर में रोज पहनने वाला साड़ी दिखाओ         7         0.0  0.000000   \n",
       "3            विंटर क्लॉथ पुरपुरा पाद         5         2.0  0.400000   \n",
       "5       सैमसंग जे सेवन मोबाइल प्राइस         5         0.0  0.000000   \n",
       "6            पांच नंबर बॉयज के सॉक्स         5         0.0  0.000000   \n",
       "8                  गारा ऑफर्स मोबाइल         3         2.0  0.666667   \n",
       "\n",
       "   confidence  \n",
       "0    0.772045  \n",
       "3    0.593204  \n",
       "5    0.874107  \n",
       "6    0.736979  \n",
       "8    0.729890  "
      ]
     },
     "execution_count": 146,
     "metadata": {},
     "output_type": "execute_result"
    }
   ],
   "source": [
    "x.head()"
   ]
  },
  {
   "cell_type": "markdown",
   "metadata": {},
   "source": [
    "# sada Haq\n"
   ]
  },
  {
   "cell_type": "code",
   "execution_count": 147,
   "metadata": {},
   "outputs": [],
   "source": [
    "x_high_conf.to_csv('/shared/suryansh.tiwari/new_output_text_ids.csv',index=False)"
   ]
  },
  {
   "cell_type": "code",
   "execution_count": 104,
   "metadata": {},
   "outputs": [],
   "source": [
    "x_high_conf = x[(x.WER != 0)]"
   ]
  },
  {
   "cell_type": "code",
   "execution_count": 105,
   "metadata": {},
   "outputs": [
    {
     "data": {
      "text/plain": [
       "(4276, 8)"
      ]
     },
     "execution_count": 105,
     "metadata": {},
     "output_type": "execute_result"
    }
   ],
   "source": [
    "x_high_conf.shape"
   ]
  },
  {
   "cell_type": "code",
   "execution_count": 72,
   "metadata": {},
   "outputs": [
    {
     "data": {
      "text/plain": [
       "(416, 8)"
      ]
     },
     "execution_count": 72,
     "metadata": {},
     "output_type": "execute_result"
    }
   ],
   "source": [
    "x_high_conf.shape"
   ]
  },
  {
   "cell_type": "code",
   "execution_count": 82,
   "metadata": {},
   "outputs": [
    {
     "data": {
      "text/plain": [
       "550.0"
      ]
     },
     "execution_count": 82,
     "metadata": {},
     "output_type": "execute_result"
    }
   ],
   "source": [
    "x_high_conf['WER*GT_len'].sum()"
   ]
  },
  {
   "cell_type": "code",
   "execution_count": 43,
   "metadata": {},
   "outputs": [],
   "source": [
    "x_high_conf.to_csv('/shared/suryansh.tiwari/new_output_text_ids.csv',index=False)"
   ]
  },
  {
   "cell_type": "raw",
   "metadata": {},
   "source": []
  }
 ],
 "metadata": {
  "kernelspec": {
   "display_name": "Python 3",
   "language": "python",
   "name": "python3"
  },
  "language_info": {
   "codemirror_mode": {
    "name": "ipython",
    "version": 3
   },
   "file_extension": ".py",
   "mimetype": "text/x-python",
   "name": "python",
   "nbconvert_exporter": "python",
   "pygments_lexer": "ipython3",
   "version": "3.8.3"
  }
 },
 "nbformat": 4,
 "nbformat_minor": 4
}
