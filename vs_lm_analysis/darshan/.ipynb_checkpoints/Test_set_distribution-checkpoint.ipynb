{
 "cells": [
  {
   "cell_type": "code",
   "execution_count": null,
   "metadata": {},
   "outputs": [],
   "source": []
  },
  {
   "cell_type": "code",
   "execution_count": 1,
   "metadata": {},
   "outputs": [],
   "source": [
    "import pandas as pd\n",
    "import shlex, subprocess\n",
    "import seaborn as sns\n",
    "import pickle\n",
    "import json"
   ]
  },
  {
   "cell_type": "code",
   "execution_count": 2,
   "metadata": {},
   "outputs": [
    {
     "name": "stdout",
     "output_type": "stream",
     "text": [
      "cat /shared/darshan.tumballi/test_set_logs/2020-10-10/*.txt | grep conf_distribution | grep overall |  cut -d '|' -f 4 | awk '{print int($1*20)*5}' | sort | uniq -c | sed -e 's/^[[:space:]]*//' | sed -e 's/ /,/'\n"
     ]
    }
   ],
   "source": [
    "base_dir = \"/shared/darshan.tumballi/test_set_logs/\"\n",
    "date_folder = \"2020-10-10\" \n",
    "path_folder = base_dir + date_folder + \"/\"\n",
    "cmd_create_time_dist_overall = 'cat '+ path_folder +\"*.txt | grep conf_distribution | grep 'overall' |  cut -d '|' -f 6 | cut -d ':' -f 1 | tr ' ' - | sort | uniq -c | sed -e 's/^[[:space:]]*//' | sed -e 's/ /,/'\"\n",
    "cmd_create_time_dist_test_set = 'cat '+ path_folder +\"*.txt | grep conf_distribution_for_metric |  cut -d '|' -f 5 | cut -d ':' -f 1 | tr ' ' - | sort | uniq -c | sed -e 's/^[[:space:]]*//' | sed -e 's/ /,/'\"\n",
    "cmd_conf_dist_overall = \"cat \"+ path_folder +\"*.txt | grep conf_distribution | grep overall |  cut -d '|' -f 4 | awk '{print int($1*20)*5}' | sort | uniq -c | sed -e 's/^[[:space:]]*//' | sed -e 's/ /,/'\"\n",
    "cmd_conf_dist_tset_set = \"cat \"+ path_folder +\"*.txt | grep conf_distribution_for_metric |  cut -d '|' -f 4 |awk '{print int($1*20)*5}' | sort | uniq -c | sed -e 's/^[[:space:]]*//' | sed -e 's/ /,/'\"\n",
    "print(cmd_conf_dist_overall)"
   ]
  },
  {
   "cell_type": "code",
   "execution_count": 3,
   "metadata": {},
   "outputs": [],
   "source": [
    "def createReqList(ip_list):\n",
    "    op_list = []\n",
    "    for item in ip_list:\n",
    "        splits = item.split(',')\n",
    "        op_list.append([splits[1], int(splits[0])])\n",
    "\n",
    "    return op_list\n",
    "        "
   ]
  },
  {
   "cell_type": "code",
   "execution_count": 4,
   "metadata": {},
   "outputs": [
    {
     "name": "stdout",
     "output_type": "stream",
     "text": [
      "[['2020-10-03-06', 13046], ['2020-10-03-07', 37160], ['2020-10-03-08', 51132], ['2020-10-03-09', 61246], ['2020-10-03-10', 66848], ['2020-10-03-11', 71148], ['2020-10-03-12', 76098], ['2020-10-03-13', 77058], ['2020-10-03-14', 76350], ['2020-10-03-15', 69084], ['2020-10-03-16', 60709], ['2020-10-03-17', 56202], ['2020-10-03-18', 65345], ['2020-10-03-19', 74519], ['2020-10-03-20', 81147], ['2020-10-03-21', 72128], ['2020-10-03-22', 58236], ['2020-10-03-23', 33962], ['2020-10-04-00', 16297], ['2020-10-04-01', 7941], ['2020-10-04-02', 3835], ['2020-10-04-03', 2410], ['2020-10-04-04', 2842], ['2020-10-04-05', 6923], ['2020-10-04-06', 19048], ['2020-10-04-07', 37186], ['2020-10-04-08', 55090], ['2020-10-04-09', 66316], ['2020-10-04-10', 72517], ['2020-10-04-11', 77616], ['2020-10-04-12', 79973], ['2020-10-04-13', 83744], ['2020-10-04-14', 82918], ['2020-10-04-15', 77684], ['2020-10-04-16', 67217], ['2020-10-04-17', 60555], ['2020-10-04-18', 67630], ['2020-10-04-19', 77278], ['2020-10-04-20', 85903], ['2020-10-04-21', 74812], ['2020-10-04-22', 58339], ['2020-10-04-23', 33766], ['2020-10-05-00', 16478], ['2020-10-05-01', 7194], ['2020-10-05-02', 3718], ['2020-10-05-03', 2231], ['2020-10-05-04', 2596], ['2020-10-05-05', 6538], ['2020-10-05-06', 19356], ['2020-10-05-07', 38361], ['2020-10-05-08', 51435], ['2020-10-05-09', 62582], ['2020-10-05-10', 68447], ['2020-10-05-11', 72814], ['2020-10-05-12', 75913], ['2020-10-05-13', 78436], ['2020-10-05-14', 76084], ['2020-10-05-15', 72475], ['2020-10-05-16', 64054], ['2020-10-05-17', 58393], ['2020-10-05-18', 66359], ['2020-10-05-19', 74265], ['2020-10-05-20', 78747], ['2020-10-05-21', 76096], ['2020-10-05-22', 58471], ['2020-10-05-23', 34520], ['2020-10-06-00', 15079], ['2020-10-06-01', 7729], ['2020-10-06-02', 3776], ['2020-10-06-03', 2360], ['2020-10-06-04', 2454], ['2020-10-06-05', 6288], ['2020-10-06-06', 18172], ['2020-10-06-07', 36269], ['2020-10-06-08', 51164], ['2020-10-06-09', 58280], ['2020-10-06-10', 63789], ['2020-10-06-11', 71511], ['2020-10-06-12', 75381], ['2020-10-06-13', 78037], ['2020-10-06-14', 76103], ['2020-10-06-15', 63788], ['2020-10-06-16', 47759], ['2020-10-06-17', 20496], ['2020-10-06-18', 30782], ['2020-10-06-19', 75533], ['2020-10-06-20', 82573], ['2020-10-06-21', 76404], ['2020-10-06-22', 60032], ['2020-10-06-23', 35009], ['2020-10-07-00', 16396], ['2020-10-07-01', 7718], ['2020-10-07-02', 3831], ['2020-10-07-03', 2677], ['2020-10-07-04', 2563], ['2020-10-07-05', 7016], ['2020-10-07-06', 19342], ['2020-10-07-07', 37318], ['2020-10-07-08', 51673], ['2020-10-07-09', 60484], ['2020-10-07-10', 71297], ['2020-10-07-11', 76636], ['2020-10-07-12', 77355], ['2020-10-07-13', 79364], ['2020-10-07-14', 79617], ['2020-10-07-15', 75664], ['2020-10-07-16', 64700], ['2020-10-07-17', 56841], ['2020-10-07-18', 67188], ['2020-10-07-19', 81536], ['2020-10-07-20', 83687], ['2020-10-07-21', 75477], ['2020-10-07-22', 59831], ['2020-10-07-23', 37224], ['2020-10-08-00', 17032], ['2020-10-08-01', 7735], ['2020-10-08-02', 3695], ['2020-10-08-03', 2341], ['2020-10-08-04', 2877], ['2020-10-08-05', 7153], ['2020-10-08-06', 19786], ['2020-10-08-07', 40587], ['2020-10-08-08', 56659], ['2020-10-08-09', 64038], ['2020-10-08-10', 71173], ['2020-10-08-11', 73806], ['2020-10-08-12', 77639], ['2020-10-08-13', 81488], ['2020-10-08-14', 78900], ['2020-10-08-15', 74448], ['2020-10-08-16', 66368], ['2020-10-08-17', 60762], ['2020-10-08-18', 70328], ['2020-10-08-19', 86587], ['2020-10-08-20', 84964], ['2020-10-08-21', 76475], ['2020-10-08-22', 62842], ['2020-10-08-23', 37196], ['2020-10-09-00', 18224], ['2020-10-09-01', 8739], ['2020-10-09-02', 3793], ['2020-10-09-03', 2660], ['2020-10-09-04', 2863], ['2020-10-09-05', 7544], ['2020-10-09-06', 20960], ['2020-10-09-07', 41096], ['2020-10-09-08', 34318]]\n"
     ]
    }
   ],
   "source": [
    "create_time_dist_overall_raw = !$cmd_create_time_dist_overall\n",
    "create_time_dist_overall = createReqList(create_time_dist_overall_raw)\n",
    "print(create_time_dist_overall)"
   ]
  },
  {
   "cell_type": "code",
   "execution_count": 5,
   "metadata": {},
   "outputs": [],
   "source": [
    "#wait for above result"
   ]
  },
  {
   "cell_type": "code",
   "execution_count": 6,
   "metadata": {},
   "outputs": [
    {
     "name": "stdout",
     "output_type": "stream",
     "text": [
      "[['2020-10-03-06', 21], ['2020-10-03-07', 52], ['2020-10-03-08', 65], ['2020-10-03-09', 83], ['2020-10-03-10', 96], ['2020-10-03-11', 87], ['2020-10-03-12', 100], ['2020-10-03-13', 91], ['2020-10-03-14', 123], ['2020-10-03-15', 106], ['2020-10-03-16', 104], ['2020-10-03-17', 86], ['2020-10-03-18', 90], ['2020-10-03-19', 110], ['2020-10-03-20', 105], ['2020-10-03-21', 106], ['2020-10-03-22', 73], ['2020-10-03-23', 46], ['2020-10-04-00', 26], ['2020-10-04-01', 7], ['2020-10-04-02', 6], ['2020-10-04-03', 5], ['2020-10-04-04', 6], ['2020-10-04-05', 11], ['2020-10-04-06', 34], ['2020-10-04-07', 35], ['2020-10-04-08', 82], ['2020-10-04-09', 94], ['2020-10-04-10', 112], ['2020-10-04-11', 124], ['2020-10-04-12', 117], ['2020-10-04-13', 117], ['2020-10-04-14', 118], ['2020-10-04-15', 100], ['2020-10-04-16', 99], ['2020-10-04-17', 95], ['2020-10-04-18', 99], ['2020-10-04-19', 92], ['2020-10-04-20', 115], ['2020-10-04-21', 106], ['2020-10-04-22', 89], ['2020-10-04-23', 40], ['2020-10-05-00', 22], ['2020-10-05-01', 9], ['2020-10-05-02', 8], ['2020-10-05-03', 4], ['2020-10-05-04', 2], ['2020-10-05-05', 12], ['2020-10-05-06', 22], ['2020-10-05-07', 69], ['2020-10-05-08', 66], ['2020-10-05-09', 77], ['2020-10-05-10', 97], ['2020-10-05-11', 94], ['2020-10-05-12', 124], ['2020-10-05-13', 120], ['2020-10-05-14', 89], ['2020-10-05-15', 91], ['2020-10-05-16', 110], ['2020-10-05-17', 83], ['2020-10-05-18', 102], ['2020-10-05-19', 123], ['2020-10-05-20', 109], ['2020-10-05-21', 106], ['2020-10-05-22', 74], ['2020-10-05-23', 44], ['2020-10-06-00', 25], ['2020-10-06-01', 15], ['2020-10-06-02', 3], ['2020-10-06-03', 3], ['2020-10-06-04', 1], ['2020-10-06-05', 6], ['2020-10-06-06', 20], ['2020-10-06-07', 68], ['2020-10-06-08', 74], ['2020-10-06-09', 90], ['2020-10-06-10', 100], ['2020-10-06-11', 118], ['2020-10-06-12', 118], ['2020-10-06-13', 120], ['2020-10-06-14', 112], ['2020-10-06-15', 101], ['2020-10-06-16', 58], ['2020-10-06-17', 38], ['2020-10-06-18', 50], ['2020-10-06-19', 109], ['2020-10-06-20', 115], ['2020-10-06-21', 109], ['2020-10-06-22', 107], ['2020-10-06-23', 57], ['2020-10-07-00', 17], ['2020-10-07-01', 6], ['2020-10-07-02', 7], ['2020-10-07-03', 2], ['2020-10-07-04', 6], ['2020-10-07-05', 7], ['2020-10-07-06', 32], ['2020-10-07-07', 55], ['2020-10-07-08', 61], ['2020-10-07-09', 80], ['2020-10-07-10', 90], ['2020-10-07-11', 115], ['2020-10-07-12', 111], ['2020-10-07-13', 120], ['2020-10-07-14', 135], ['2020-10-07-15', 125], ['2020-10-07-16', 95], ['2020-10-07-17', 83], ['2020-10-07-18', 89], ['2020-10-07-19', 118], ['2020-10-07-20', 126], ['2020-10-07-21', 94], ['2020-10-07-22', 76], ['2020-10-07-23', 63], ['2020-10-08-00', 22], ['2020-10-08-01', 13], ['2020-10-08-02', 2], ['2020-10-08-03', 2], ['2020-10-08-04', 3], ['2020-10-08-05', 6], ['2020-10-08-06', 14], ['2020-10-08-07', 57], ['2020-10-08-08', 65], ['2020-10-08-09', 72], ['2020-10-08-10', 92], ['2020-10-08-11', 106], ['2020-10-08-12', 103], ['2020-10-08-13', 97], ['2020-10-08-14', 108], ['2020-10-08-15', 87], ['2020-10-08-16', 95], ['2020-10-08-17', 82], ['2020-10-08-18', 90], ['2020-10-08-19', 122], ['2020-10-08-20', 106], ['2020-10-08-21', 102], ['2020-10-08-22', 76], ['2020-10-08-23', 41], ['2020-10-09-00', 25], ['2020-10-09-01', 16], ['2020-10-09-02', 2], ['2020-10-09-03', 1], ['2020-10-09-05', 13], ['2020-10-09-06', 22], ['2020-10-09-07', 48], ['2020-10-09-08', 50]]\n"
     ]
    }
   ],
   "source": [
    "create_time_dist_test_set_raw = !$cmd_create_time_dist_test_set\n",
    "create_time_dist_test_set = createReqList(create_time_dist_test_set_raw)\n",
    "\n",
    "print(create_time_dist_test_set)"
   ]
  },
  {
   "cell_type": "code",
   "execution_count": 7,
   "metadata": {},
   "outputs": [],
   "source": [
    "#wait for above result\n"
   ]
  },
  {
   "cell_type": "code",
   "execution_count": 8,
   "metadata": {},
   "outputs": [
    {
     "name": "stdout",
     "output_type": "stream",
     "text": [
      "[['0', 30238], ['35', 47909], ['40', 89973], ['45', 161887], ['50', 292963], ['55', 485577], ['60', 739713], ['65', 1050072], ['70', 1358675], ['75', 1513777], ['80', 1016656], ['85', 316660]]\n"
     ]
    }
   ],
   "source": [
    "conf_dist_overall_raw = !$cmd_conf_dist_overall\n",
    "conf_dist_overall = createReqList(conf_dist_overall_raw)\n",
    "print(conf_dist_overall)"
   ]
  },
  {
   "cell_type": "code",
   "execution_count": 9,
   "metadata": {},
   "outputs": [],
   "source": [
    "#wait for above result"
   ]
  },
  {
   "cell_type": "code",
   "execution_count": 10,
   "metadata": {},
   "outputs": [
    {
     "name": "stdout",
     "output_type": "stream",
     "text": [
      "[['0', 43], ['35', 59], ['40', 135], ['45', 255], ['50', 405], ['55', 660], ['60', 1029], ['65', 1466], ['70', 1880], ['75', 2167], ['80', 1456], ['85', 445]]\n"
     ]
    }
   ],
   "source": [
    "conf_dist_test_set_raw = !$cmd_conf_dist_tset_set\n",
    "conf_dist_test_set = createReqList(conf_dist_test_set_raw)\n",
    "print(conf_dist_test_set)"
   ]
  },
  {
   "cell_type": "code",
   "execution_count": 15,
   "metadata": {},
   "outputs": [
    {
     "data": {
      "text/html": [
       "<div>\n",
       "<style scoped>\n",
       "    .dataframe tbody tr th:only-of-type {\n",
       "        vertical-align: middle;\n",
       "    }\n",
       "\n",
       "    .dataframe tbody tr th {\n",
       "        vertical-align: top;\n",
       "    }\n",
       "\n",
       "    .dataframe thead th {\n",
       "        text-align: right;\n",
       "    }\n",
       "</style>\n",
       "<table border=\"1\" class=\"dataframe\">\n",
       "  <thead>\n",
       "    <tr style=\"text-align: right;\">\n",
       "      <th></th>\n",
       "      <th>Count</th>\n",
       "      <th>Time</th>\n",
       "    </tr>\n",
       "  </thead>\n",
       "  <tbody>\n",
       "    <tr>\n",
       "      <th>0</th>\n",
       "      <td>2020-10-03-06</td>\n",
       "      <td>13046</td>\n",
       "    </tr>\n",
       "    <tr>\n",
       "      <th>1</th>\n",
       "      <td>2020-10-03-07</td>\n",
       "      <td>37160</td>\n",
       "    </tr>\n",
       "    <tr>\n",
       "      <th>2</th>\n",
       "      <td>2020-10-03-08</td>\n",
       "      <td>51132</td>\n",
       "    </tr>\n",
       "    <tr>\n",
       "      <th>3</th>\n",
       "      <td>2020-10-03-09</td>\n",
       "      <td>61246</td>\n",
       "    </tr>\n",
       "    <tr>\n",
       "      <th>4</th>\n",
       "      <td>2020-10-03-10</td>\n",
       "      <td>66848</td>\n",
       "    </tr>\n",
       "    <tr>\n",
       "      <th>...</th>\n",
       "      <td>...</td>\n",
       "      <td>...</td>\n",
       "    </tr>\n",
       "    <tr>\n",
       "      <th>142</th>\n",
       "      <td>2020-10-09-04</td>\n",
       "      <td>2863</td>\n",
       "    </tr>\n",
       "    <tr>\n",
       "      <th>143</th>\n",
       "      <td>2020-10-09-05</td>\n",
       "      <td>7544</td>\n",
       "    </tr>\n",
       "    <tr>\n",
       "      <th>144</th>\n",
       "      <td>2020-10-09-06</td>\n",
       "      <td>20960</td>\n",
       "    </tr>\n",
       "    <tr>\n",
       "      <th>145</th>\n",
       "      <td>2020-10-09-07</td>\n",
       "      <td>41096</td>\n",
       "    </tr>\n",
       "    <tr>\n",
       "      <th>146</th>\n",
       "      <td>2020-10-09-08</td>\n",
       "      <td>34318</td>\n",
       "    </tr>\n",
       "  </tbody>\n",
       "</table>\n",
       "<p>147 rows × 2 columns</p>\n",
       "</div>"
      ],
      "text/plain": [
       "             Count   Time\n",
       "0    2020-10-03-06  13046\n",
       "1    2020-10-03-07  37160\n",
       "2    2020-10-03-08  51132\n",
       "3    2020-10-03-09  61246\n",
       "4    2020-10-03-10  66848\n",
       "..             ...    ...\n",
       "142  2020-10-09-04   2863\n",
       "143  2020-10-09-05   7544\n",
       "144  2020-10-09-06  20960\n",
       "145  2020-10-09-07  41096\n",
       "146  2020-10-09-08  34318\n",
       "\n",
       "[147 rows x 2 columns]"
      ]
     },
     "execution_count": 15,
     "metadata": {},
     "output_type": "execute_result"
    }
   ],
   "source": [
    "df_create_time_dist_overall = pd.DataFrame(create_time_dist_overall, columns = ['Time', 'Count'])\n",
    "df_create_time_dist_test_set = pd.DataFrame(create_time_dist_test_set, columns = ['Time', 'Count'])\n",
    "df_conf_dist_overall = pd.DataFrame(conf_dist_overall, columns = ['Percent_range', 'Count'])\n",
    "df_conf_dist_test_set = pd.DataFrame(conf_dist_test_set, columns = ['Percent_range', 'Count'])\n",
    "df_create_time_dist_overall"
   ]
  },
  {
   "cell_type": "code",
   "execution_count": 14,
   "metadata": {},
   "outputs": [
    {
     "data": {
      "text/plain": [
       "<AxesSubplot:ylabel='Count'>"
      ]
     },
     "execution_count": 14,
     "metadata": {},
     "output_type": "execute_result"
    },
    {
     "data": {
      "image/png": "[encoded data removed]",
      "text/plain": [
       "<Figure size 432x288 with 1 Axes>"
      ]
     },
     "metadata": {
      "needs_background": "light"
     },
     "output_type": "display_data"
    }
   ],
   "source": [
    "sns.histplot(df_create_time_dist_overall)"
   ]
  },
  {
   "cell_type": "code",
   "execution_count": null,
   "metadata": {},
   "outputs": [],
   "source": []
  }
 ],
 "metadata": {
  "kernelspec": {
   "display_name": "Python 3",
   "language": "python",
   "name": "python3"
  },
  "language_info": {
   "codemirror_mode": {
    "name": "ipython",
    "version": 3
   },
   "file_extension": ".py",
   "mimetype": "text/x-python",
   "name": "python",
   "nbconvert_exporter": "python",
   "pygments_lexer": "ipython3",
   "version": "3.8.3"
  }
 },
 "nbformat": 4,
 "nbformat_minor": 4
}
