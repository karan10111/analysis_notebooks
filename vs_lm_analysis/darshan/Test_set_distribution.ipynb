{
 "cells": [
  {
   "cell_type": "code",
   "execution_count": null,
   "metadata": {},
   "outputs": [],
   "source": []
  },
  {
   "cell_type": "code",
   "execution_count": null,
   "metadata": {},
   "outputs": [],
   "source": [
    "import pandas as pd\n",
    "import shlex, subprocess\n",
    "import seaborn as sns\n",
    "import pickle\n",
    "import json"
   ]
  },
  {
   "cell_type": "code",
   "execution_count": null,
   "metadata": {},
   "outputs": [],
   "source": [
    "base_dir = \"/shared/darshan.tumballi/test_set_logs/\"\n",
    "date_folder = \"2020-10-10\" \n",
    "path_folder = base_dir + date_folder + \"/\"\n",
    "cmd_create_time_dist_overall = 'cat '+ path_folder +\"*.txt | grep conf_distribution | grep 'overall' |  cut -d '|' -f 6 | cut -d ':' -f 1 | tr ' ' - | sort | uniq -c | sed -e 's/^[[:space:]]*//' | sed -e 's/ /,/'\"\n",
    "cmd_create_time_dist_test_set = 'cat '+ path_folder +\"*.txt | grep conf_distribution_for_metric |  cut -d '|' -f 5 | cut -d ':' -f 1 | tr ' ' - | sort | uniq -c | sed -e 's/^[[:space:]]*//' | sed -e 's/ /,/'\"\n",
    "cmd_conf_dist_overall = \"cat \"+ path_folder +\"*.txt | grep conf_distribution | grep overall |  cut -d '|' -f 4 | awk '{print int($1*20)*5}' | sort | uniq -c | sed -e 's/^[[:space:]]*//' | sed -e 's/ /,/'\"\n",
    "cmd_conf_dist_tset_set = \"cat \"+ path_folder +\"*.txt | grep conf_distribution_for_metric |  cut -d '|' -f 4 |awk '{print int($1*20)*5}' | sort | uniq -c | sed -e 's/^[[:space:]]*//' | sed -e 's/ /,/'\"\n",
    "\n",
    "cmd_test_set_count = \"cat \"+ path_folder +\"*.txt | grep conf_distribution_for_metric | wc -l\"\n",
    "cmd_overall_set_count = \"cat \"+ path_folder +\"*.txt | grep conf_distribution | grep overall | wc -l\" \n",
    "print(cmd_conf_dist_overall)"
   ]
  },
  {
   "cell_type": "code",
   "execution_count": null,
   "metadata": {},
   "outputs": [],
   "source": [
    "test_set_count_raw = !$cmd_test_set_count\n",
    "overall_set_count_raw = !$cmd_overall_set_count\n",
    "test_set_count = int(test_set_count_raw[0])\n",
    "overall_set_count = int(overall_set_count_raw[0])\n",
    "print(test_set_count)\n",
    "print(overall_set_count)"
   ]
  },
  {
   "cell_type": "code",
   "execution_count": null,
   "metadata": {},
   "outputs": [],
   "source": [
    "def createReqList(ip_list, total_count):\n",
    "    op_list = []\n",
    "    for item in ip_list:\n",
    "        splits = item.split(',')\n",
    "        op_list.append([splits[1],float(int(splits[0])/total_count)*100])\n",
    "\n",
    "    return op_list\n",
    "\n",
    "def get_hoursList(ip_list, total_count):\n",
    "    temp_dict = {}\n",
    "    op_list = []\n",
    "    for item in ip_list:\n",
    "        splits = item.split(',')\n",
    "        hour = splits[1].split('-')[3]\n",
    "        if hour not in temp_dict:\n",
    "            temp_dict[hour] = 0\n",
    "            \n",
    "        temp_dict += int(splits[0])\n",
    "\n",
    "    for key in temp_dict.keys():\n",
    "        op_list.append(key, float(temp_dict[key]/total_count))\n",
    "    return op_list\n",
    "    \n",
    "        "
   ]
  },
  {
   "cell_type": "code",
   "execution_count": null,
   "metadata": {},
   "outputs": [],
   "source": [
    "create_time_dist_overall_raw = !$cmd_create_time_dist_overall\n",
    "create_time_dist_overall = createReqList(create_time_dist_overall_raw, overall_set_count)\n",
    "\n",
    "print(create_time_dist_overall)"
   ]
  },
  {
   "cell_type": "code",
   "execution_count": null,
   "metadata": {},
   "outputs": [],
   "source": [
    "#wait for above result"
   ]
  },
  {
   "cell_type": "code",
   "execution_count": null,
   "metadata": {},
   "outputs": [],
   "source": [
    "create_time_dist_test_set_raw = !$cmd_create_time_dist_test_set\n",
    "create_time_dist_test_set = createReqList(create_time_dist_test_set_raw, test_set_count)\n",
    "\n",
    "print(create_time_dist_test_set)"
   ]
  },
  {
   "cell_type": "code",
   "execution_count": null,
   "metadata": {},
   "outputs": [],
   "source": [
    "#wait for above result\n"
   ]
  },
  {
   "cell_type": "code",
   "execution_count": null,
   "metadata": {},
   "outputs": [],
   "source": [
    "conf_dist_overall_raw = !$cmd_conf_dist_overall\n",
    "conf_dist_overall = createReqList(conf_dist_overall_raw, overall_set_count)\n",
    "print(conf_dist_overall)"
   ]
  },
  {
   "cell_type": "code",
   "execution_count": null,
   "metadata": {},
   "outputs": [],
   "source": [
    "#wait for above result"
   ]
  },
  {
   "cell_type": "code",
   "execution_count": null,
   "metadata": {},
   "outputs": [],
   "source": [
    "conf_dist_test_set_raw = !$cmd_conf_dist_tset_set\n",
    "conf_dist_test_set = createReqList(conf_dist_test_set_raw,test_set_count)\n",
    "print(conf_dist_test_set)"
   ]
  },
  {
   "cell_type": "code",
   "execution_count": null,
   "metadata": {},
   "outputs": [],
   "source": [
    "df_create_time_dist_overall = pd.DataFrame(create_time_dist_overall, columns = ['Time', 'Count'])\n",
    "df_create_time_dist_test_set = pd.DataFrame(create_time_dist_test_set, columns = ['Time', 'Count'])\n",
    "df_conf_dist_overall = pd.DataFrame(conf_dist_overall, columns = ['Percent_range', 'Count'])\n",
    "df_conf_dist_test_set = pd.DataFrame(conf_dist_test_set, columns = ['Percent_range', 'Count'])\n",
    "df_create_time_dist_overall"
   ]
  },
  {
   "cell_type": "code",
   "execution_count": null,
   "metadata": {},
   "outputs": [],
   "source": [
    "ax = df_create_time_dist_overall.plot()\n",
    "df_create_time_dist_test_set.plot(ax=ax)\n"
   ]
  },
  {
   "cell_type": "code",
   "execution_count": null,
   "metadata": {},
   "outputs": [],
   "source": [
    "ax = df_conf_dist_overall.plot()\n",
    "df_conf_dist_test_set.plot(ax=ax)"
   ]
  }
 ],
 "metadata": {
  "kernelspec": {
   "display_name": "Python 3",
   "language": "python",
   "name": "python3"
  },
  "language_info": {
   "codemirror_mode": {
    "name": "ipython",
    "version": 3
   },
   "file_extension": ".py",
   "mimetype": "text/x-python",
   "name": "python",
   "nbconvert_exporter": "python",
   "pygments_lexer": "ipython3",
   "version": "3.8.3"
  }
 },
 "nbformat": 4,
 "nbformat_minor": 4
}
