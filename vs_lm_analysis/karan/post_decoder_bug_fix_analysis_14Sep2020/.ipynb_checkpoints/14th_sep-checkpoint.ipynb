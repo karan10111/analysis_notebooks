{
 "cells": [
  {
   "cell_type": "code",
   "execution_count": 1,
   "metadata": {},
   "outputs": [],
   "source": [
    "import pandas as pd\n",
    "import seaborn as sns\n",
    "\n",
    "sns.set_style(\"darkgrid\")\n",
    "sns.set(rc={'figure.figsize':(11.7,8.27)})\n",
    "\n",
    "from matplotlib import pyplot as plt"
   ]
  },
  {
   "cell_type": "markdown",
   "metadata": {},
   "source": [
    "# Get Data"
   ]
  },
  {
   "cell_type": "code",
   "execution_count": 2,
   "metadata": {},
   "outputs": [],
   "source": [
    "oa_ol = pd.read_csv(\"/shared/suryansh.tiwari/output_csv/HI_FA_prod_voice_search_14th_sep.csv\")  # baseline\n",
    "na_nl = pd.read_csv(\"/shared/suryansh.tiwari/output_csv/HI_FA_EP6_lm_prod_voice_search_14th_sep.csv\")  # best model"
   ]
  },
  {
   "cell_type": "markdown",
   "metadata": {},
   "source": [
    "# WER/CER"
   ]
  },
  {
   "cell_type": "code",
   "execution_count": 4,
   "metadata": {},
   "outputs": [],
   "source": [
    "baseline_wer = (oa_ol.groupby(by=\"Type_of_text\")[\"WER*GT_len\"].agg('sum')/oa_ol.groupby(by=\"Type_of_text\")[\"GT_len\"].agg('sum')).reset_index()\n",
    "baseline_wer.columns = [['Type_of_text', \"wer\"]]\n",
    "best_model_wer = (na_nl.groupby(by=\"Type_of_text\")[\"WER*GT_len\"].agg('sum')/na_nl.groupby(by=\"Type_of_text\")[\"GT_len\"].agg('sum')).reset_index()\n",
    "best_model_wer.columns = [['Type_of_text', \"wer\"]]"
   ]
  },
  {
   "cell_type": "code",
   "execution_count": 6,
   "metadata": {},
   "outputs": [],
   "source": [
    "baseline_cer = (oa_ol.groupby(by=\"Type_of_text\")[\"CER*GT_char_len\"].agg('sum')/oa_ol.groupby(by=\"Type_of_text\")[\"GT_char_len\"].agg('sum')).reset_index()\n",
    "baseline_cer.columns = [['Type_of_text', \"cer\"]]\n",
    "best_model_cer = (na_nl.groupby(by=\"Type_of_text\")[\"CER*GT_char_len\"].agg('sum')/na_nl.groupby(by=\"Type_of_text\")[\"GT_char_len\"].agg('sum')).reset_index()\n",
    "best_model_cer.columns = [['Type_of_text', \"cer\"]]"
   ]
  },
  {
   "cell_type": "code",
   "execution_count": 66,
   "metadata": {},
   "outputs": [
    {
     "data": {
      "text/html": [
       "<div>\n",
       "<style scoped>\n",
       "    .dataframe tbody tr th:only-of-type {\n",
       "        vertical-align: middle;\n",
       "    }\n",
       "\n",
       "    .dataframe tbody tr th {\n",
       "        vertical-align: top;\n",
       "    }\n",
       "\n",
       "    .dataframe thead th {\n",
       "        text-align: right;\n",
       "    }\n",
       "</style>\n",
       "<table border=\"1\" class=\"dataframe\">\n",
       "  <thead>\n",
       "    <tr style=\"text-align: right;\">\n",
       "      <th></th>\n",
       "      <th>CER</th>\n",
       "      <th>CER*GT_char_len</th>\n",
       "      <th>GT_char_len</th>\n",
       "      <th>Machine_Transcribed_text</th>\n",
       "      <th>GT</th>\n",
       "    </tr>\n",
       "  </thead>\n",
       "  <tbody>\n",
       "    <tr>\n",
       "      <th>0</th>\n",
       "      <td>0.450000</td>\n",
       "      <td>9.0</td>\n",
       "      <td>20</td>\n",
       "      <td>ओप्पो ए फायर्स मिला थ्री जीबी</td>\n",
       "      <td>ओप्पो ए फाइव नीला _ रंग</td>\n",
       "    </tr>\n",
       "    <tr>\n",
       "      <th>1</th>\n",
       "      <td>0.400000</td>\n",
       "      <td>8.0</td>\n",
       "      <td>20</td>\n",
       "      <td>ओप्पो ए फायर्स मिला थ्री जीबी</td>\n",
       "      <td>_  ओप्पो ए फाइव नीला _ रंग  _</td>\n",
       "    </tr>\n",
       "    <tr>\n",
       "      <th>2</th>\n",
       "      <td>0.000000</td>\n",
       "      <td>0.0</td>\n",
       "      <td>19</td>\n",
       "      <td>रेडमी नोट फाइव प्रो</td>\n",
       "      <td>रेडमी नोट फाइव प्रो</td>\n",
       "    </tr>\n",
       "    <tr>\n",
       "      <th>3</th>\n",
       "      <td>0.000000</td>\n",
       "      <td>0.0</td>\n",
       "      <td>16</td>\n",
       "      <td>लेम्बोर्गिनी कार</td>\n",
       "      <td>लेम्बोर्गिनी कार</td>\n",
       "    </tr>\n",
       "    <tr>\n",
       "      <th>4</th>\n",
       "      <td>0.000000</td>\n",
       "      <td>0.0</td>\n",
       "      <td>15</td>\n",
       "      <td>आर्मी वाला जूता</td>\n",
       "      <td>आर्मी वाला जूता</td>\n",
       "    </tr>\n",
       "    <tr>\n",
       "      <th>5</th>\n",
       "      <td>0.000000</td>\n",
       "      <td>0.0</td>\n",
       "      <td>15</td>\n",
       "      <td>आर्मी वाला जूता</td>\n",
       "      <td>_  आर्मी वाला जूता  _</td>\n",
       "    </tr>\n",
       "    <tr>\n",
       "      <th>6</th>\n",
       "      <td>0.350000</td>\n",
       "      <td>7.0</td>\n",
       "      <td>20</td>\n",
       "      <td>लव लेसन कार वाकिंग मशीन</td>\n",
       "      <td>लव लेसन करवा की मशीन</td>\n",
       "    </tr>\n",
       "    <tr>\n",
       "      <th>7</th>\n",
       "      <td>0.142857</td>\n",
       "      <td>4.0</td>\n",
       "      <td>28</td>\n",
       "      <td>टी वाइ ए ब्लू टाइम स्मार्ट वॉच</td>\n",
       "      <td>टी व्हाई एम यू टाइम स्मार्टवॉच</td>\n",
       "    </tr>\n",
       "    <tr>\n",
       "      <th>8</th>\n",
       "      <td>0.142857</td>\n",
       "      <td>4.0</td>\n",
       "      <td>28</td>\n",
       "      <td>टी वाइ ए ब्लू टाइम स्मार्ट वॉच</td>\n",
       "      <td>टी व्हाई एम यू टाइम स्मार्टवॉच  _</td>\n",
       "    </tr>\n",
       "    <tr>\n",
       "      <th>9</th>\n",
       "      <td>0.000000</td>\n",
       "      <td>0.0</td>\n",
       "      <td>13</td>\n",
       "      <td>जिओ का चार्जर</td>\n",
       "      <td>जिओ का चार्जर</td>\n",
       "    </tr>\n",
       "    <tr>\n",
       "      <th>10</th>\n",
       "      <td>0.000000</td>\n",
       "      <td>0.0</td>\n",
       "      <td>13</td>\n",
       "      <td>जिओ का चार्जर</td>\n",
       "      <td>जिओ का चार्जर  _</td>\n",
       "    </tr>\n",
       "    <tr>\n",
       "      <th>11</th>\n",
       "      <td>0.263158</td>\n",
       "      <td>5.0</td>\n",
       "      <td>19</td>\n",
       "      <td>इंफीनिक्स का फोन टॉर्च</td>\n",
       "      <td>इनफिनिक्स का फोन टच</td>\n",
       "    </tr>\n",
       "    <tr>\n",
       "      <th>12</th>\n",
       "      <td>0.157895</td>\n",
       "      <td>3.0</td>\n",
       "      <td>19</td>\n",
       "      <td>इंफीनिक्स का फोन टॉर्च</td>\n",
       "      <td>इनफिनिक्स का फोन टच  _</td>\n",
       "    </tr>\n",
       "    <tr>\n",
       "      <th>13</th>\n",
       "      <td>0.181818</td>\n",
       "      <td>2.0</td>\n",
       "      <td>11</td>\n",
       "      <td>पबजी तो लिया</td>\n",
       "      <td>पबजी तौलिया</td>\n",
       "    </tr>\n",
       "    <tr>\n",
       "      <th>14</th>\n",
       "      <td>0.117647</td>\n",
       "      <td>2.0</td>\n",
       "      <td>17</td>\n",
       "      <td>बेबी मोटरसाइकिल</td>\n",
       "      <td>बेबी मोटरसाइकिल्स</td>\n",
       "    </tr>\n",
       "    <tr>\n",
       "      <th>15</th>\n",
       "      <td>0.300000</td>\n",
       "      <td>3.0</td>\n",
       "      <td>10</td>\n",
       "      <td>लहंगे उन बताओ</td>\n",
       "      <td>लहंगे बताओ</td>\n",
       "    </tr>\n",
       "    <tr>\n",
       "      <th>16</th>\n",
       "      <td>0.300000</td>\n",
       "      <td>3.0</td>\n",
       "      <td>10</td>\n",
       "      <td>लहंगे उन बताओ</td>\n",
       "      <td>लहंगे बताओ  _</td>\n",
       "    </tr>\n",
       "    <tr>\n",
       "      <th>17</th>\n",
       "      <td>0.000000</td>\n",
       "      <td>0.0</td>\n",
       "      <td>41</td>\n",
       "      <td>रेडमी फोन बहुत महंगा होना चालीस हजार वाला</td>\n",
       "      <td>रेडमी फोन बहुत महंगा होना चालीस हजार वाला</td>\n",
       "    </tr>\n",
       "    <tr>\n",
       "      <th>18</th>\n",
       "      <td>0.050000</td>\n",
       "      <td>1.0</td>\n",
       "      <td>20</td>\n",
       "      <td>इनफीनिक्स होम थियेटर</td>\n",
       "      <td>इनफिनिक्स होम थिएटर</td>\n",
       "    </tr>\n",
       "    <tr>\n",
       "      <th>19</th>\n",
       "      <td>0.050000</td>\n",
       "      <td>1.0</td>\n",
       "      <td>20</td>\n",
       "      <td>इनफीनिक्स होम थियेटर</td>\n",
       "      <td>इनफिनिक्स होम थिएटर  _</td>\n",
       "    </tr>\n",
       "    <tr>\n",
       "      <th>20</th>\n",
       "      <td>0.000000</td>\n",
       "      <td>0.0</td>\n",
       "      <td>15</td>\n",
       "      <td>टांगने वाला बैग</td>\n",
       "      <td>टांगने वाला बैग</td>\n",
       "    </tr>\n",
       "    <tr>\n",
       "      <th>21</th>\n",
       "      <td>0.000000</td>\n",
       "      <td>0.0</td>\n",
       "      <td>15</td>\n",
       "      <td>टांगने वाला बैग</td>\n",
       "      <td>टांगने वाला बैग  _</td>\n",
       "    </tr>\n",
       "    <tr>\n",
       "      <th>22</th>\n",
       "      <td>0.000000</td>\n",
       "      <td>0.0</td>\n",
       "      <td>17</td>\n",
       "      <td>रक्षा बंधन स्पेशल</td>\n",
       "      <td>रक्षा बंधन स्पेशल</td>\n",
       "    </tr>\n",
       "    <tr>\n",
       "      <th>23</th>\n",
       "      <td>0.000000</td>\n",
       "      <td>0.0</td>\n",
       "      <td>17</td>\n",
       "      <td>रक्षा बंधन स्पेशल</td>\n",
       "      <td>_  रक्षा बंधन स्पेशल  _</td>\n",
       "    </tr>\n",
       "    <tr>\n",
       "      <th>24</th>\n",
       "      <td>0.000000</td>\n",
       "      <td>0.0</td>\n",
       "      <td>23</td>\n",
       "      <td>रिमोट वाला कार दो सौ का</td>\n",
       "      <td>रिमोट वाला कार दो सौ का</td>\n",
       "    </tr>\n",
       "    <tr>\n",
       "      <th>25</th>\n",
       "      <td>0.000000</td>\n",
       "      <td>0.0</td>\n",
       "      <td>23</td>\n",
       "      <td>रिमोट वाला कार दो सौ का</td>\n",
       "      <td>रिमोट वाला कार दो सौ का  _</td>\n",
       "    </tr>\n",
       "    <tr>\n",
       "      <th>26</th>\n",
       "      <td>0.000000</td>\n",
       "      <td>0.0</td>\n",
       "      <td>10</td>\n",
       "      <td>स्मार्टफोन</td>\n",
       "      <td>स्मार्टफोन</td>\n",
       "    </tr>\n",
       "    <tr>\n",
       "      <th>27</th>\n",
       "      <td>0.000000</td>\n",
       "      <td>0.0</td>\n",
       "      <td>27</td>\n",
       "      <td>रिमोट वाला कार दो तीन सौ के</td>\n",
       "      <td>रिमोट वाला कार दो तीन सौ के</td>\n",
       "    </tr>\n",
       "    <tr>\n",
       "      <th>28</th>\n",
       "      <td>0.000000</td>\n",
       "      <td>0.0</td>\n",
       "      <td>27</td>\n",
       "      <td>रिमोट वाला कार दो तीन सौ के</td>\n",
       "      <td>_  रिमोट वाला कार दो तीन सौ के  _</td>\n",
       "    </tr>\n",
       "    <tr>\n",
       "      <th>29</th>\n",
       "      <td>0.000000</td>\n",
       "      <td>0.0</td>\n",
       "      <td>14</td>\n",
       "      <td>बार्बी ड्रेसेज</td>\n",
       "      <td>बार्बी ड्रेसेज</td>\n",
       "    </tr>\n",
       "  </tbody>\n",
       "</table>\n",
       "</div>"
      ],
      "text/plain": [
       "         CER  CER*GT_char_len  GT_char_len  \\\n",
       "0   0.450000              9.0           20   \n",
       "1   0.400000              8.0           20   \n",
       "2   0.000000              0.0           19   \n",
       "3   0.000000              0.0           16   \n",
       "4   0.000000              0.0           15   \n",
       "5   0.000000              0.0           15   \n",
       "6   0.350000              7.0           20   \n",
       "7   0.142857              4.0           28   \n",
       "8   0.142857              4.0           28   \n",
       "9   0.000000              0.0           13   \n",
       "10  0.000000              0.0           13   \n",
       "11  0.263158              5.0           19   \n",
       "12  0.157895              3.0           19   \n",
       "13  0.181818              2.0           11   \n",
       "14  0.117647              2.0           17   \n",
       "15  0.300000              3.0           10   \n",
       "16  0.300000              3.0           10   \n",
       "17  0.000000              0.0           41   \n",
       "18  0.050000              1.0           20   \n",
       "19  0.050000              1.0           20   \n",
       "20  0.000000              0.0           15   \n",
       "21  0.000000              0.0           15   \n",
       "22  0.000000              0.0           17   \n",
       "23  0.000000              0.0           17   \n",
       "24  0.000000              0.0           23   \n",
       "25  0.000000              0.0           23   \n",
       "26  0.000000              0.0           10   \n",
       "27  0.000000              0.0           27   \n",
       "28  0.000000              0.0           27   \n",
       "29  0.000000              0.0           14   \n",
       "\n",
       "                       Machine_Transcribed_text  \\\n",
       "0               ओप्पो ए फायर्स मिला थ्री जीबी     \n",
       "1               ओप्पो ए फायर्स मिला थ्री जीबी     \n",
       "2                         रेडमी नोट फाइव प्रो     \n",
       "3                            लेम्बोर्गिनी कार     \n",
       "4                             आर्मी वाला जूता     \n",
       "5                             आर्मी वाला जूता     \n",
       "6                     लव लेसन कार वाकिंग मशीन     \n",
       "7              टी वाइ ए ब्लू टाइम स्मार्ट वॉच     \n",
       "8              टी वाइ ए ब्लू टाइम स्मार्ट वॉच     \n",
       "9                               जिओ का चार्जर     \n",
       "10                              जिओ का चार्जर     \n",
       "11                     इंफीनिक्स का फोन टॉर्च     \n",
       "12                     इंफीनिक्स का फोन टॉर्च     \n",
       "13                               पबजी तो लिया     \n",
       "14                            बेबी मोटरसाइकिल     \n",
       "15                              लहंगे उन बताओ     \n",
       "16                              लहंगे उन बताओ     \n",
       "17  रेडमी फोन बहुत महंगा होना चालीस हजार वाला     \n",
       "18                       इनफीनिक्स होम थियेटर     \n",
       "19                       इनफीनिक्स होम थियेटर     \n",
       "20                            टांगने वाला बैग     \n",
       "21                            टांगने वाला बैग     \n",
       "22                          रक्षा बंधन स्पेशल     \n",
       "23                          रक्षा बंधन स्पेशल     \n",
       "24                    रिमोट वाला कार दो सौ का     \n",
       "25                    रिमोट वाला कार दो सौ का     \n",
       "26                                 स्मार्टफोन     \n",
       "27                रिमोट वाला कार दो तीन सौ के     \n",
       "28                रिमोट वाला कार दो तीन सौ के     \n",
       "29                             बार्बी ड्रेसेज     \n",
       "\n",
       "                                           GT  \n",
       "0                  ओप्पो ए फाइव नीला _ रंग     \n",
       "1               _  ओप्पो ए फाइव नीला _ रंग  _  \n",
       "2                         रेडमी नोट फाइव प्रो  \n",
       "3                            लेम्बोर्गिनी कार  \n",
       "4                          आर्मी वाला जूता     \n",
       "5                       _  आर्मी वाला जूता  _  \n",
       "6                        लव लेसन करवा की मशीन  \n",
       "7           टी व्हाई एम यू टाइम स्मार्टवॉच     \n",
       "8           टी व्हाई एम यू टाइम स्मार्टवॉच  _  \n",
       "9                            जिओ का चार्जर     \n",
       "10                           जिओ का चार्जर  _  \n",
       "11                     इनफिनिक्स का फोन टच     \n",
       "12                     इनफिनिक्स का फोन टच  _  \n",
       "13                                पबजी तौलिया  \n",
       "14                          बेबी मोटरसाइकिल्स  \n",
       "15                              लहंगे बताओ     \n",
       "16                              लहंगे बताओ  _  \n",
       "17  रेडमी फोन बहुत महंगा होना चालीस हजार वाला  \n",
       "18                     इनफिनिक्स होम थिएटर     \n",
       "19                     इनफिनिक्स होम थिएटर  _  \n",
       "20                         टांगने वाला बैग     \n",
       "21                         टांगने वाला बैग  _  \n",
       "22                       रक्षा बंधन स्पेशल     \n",
       "23                    _  रक्षा बंधन स्पेशल  _  \n",
       "24                 रिमोट वाला कार दो सौ का     \n",
       "25                 रिमोट वाला कार दो सौ का  _  \n",
       "26                                 स्मार्टफोन  \n",
       "27             रिमोट वाला कार दो तीन सौ के     \n",
       "28          _  रिमोट वाला कार दो तीन सौ के  _  \n",
       "29                             बार्बी ड्रेसेज  "
      ]
     },
     "execution_count": 66,
     "metadata": {},
     "output_type": "execute_result"
    }
   ],
   "source": [
    "na_nl[['CER', 'CER*GT_char_len', 'GT_char_len', 'Machine_Transcribed_text', 'GT']].head(30)"
   ]
  },
  {
   "cell_type": "code",
   "execution_count": 69,
   "metadata": {},
   "outputs": [
    {
     "name": "stdout",
     "output_type": "stream",
     "text": [
      "10\n"
     ]
    }
   ],
   "source": [
    "print(len(list('लहंगे बताओ')))"
   ]
  },
  {
   "cell_type": "code",
   "execution_count": 61,
   "metadata": {},
   "outputs": [
    {
     "name": "stdout",
     "output_type": "stream",
     "text": [
      "['ह', 'ो', 'म', 'े', 'र', 'ि', 'क']\n"
     ]
    }
   ],
   "source": [
    "print(list('होमेरिक'))"
   ]
  },
  {
   "cell_type": "code",
   "execution_count": 62,
   "metadata": {},
   "outputs": [
    {
     "name": "stdout",
     "output_type": "stream",
     "text": [
      "['ह', 'ु', 'व', 'े', 'द', 'ि', 'क']\n"
     ]
    }
   ],
   "source": [
    "print(list('हुवेदिक'))"
   ]
  },
  {
   "cell_type": "code",
   "execution_count": 65,
   "metadata": {},
   "outputs": [
    {
     "name": "stdout",
     "output_type": "stream",
     "text": [
      "7\n"
     ]
    }
   ],
   "source": [
    "print(len(list('हुवेदिक')))"
   ]
  },
  {
   "cell_type": "code",
   "execution_count": 64,
   "metadata": {},
   "outputs": [
    {
     "name": "stdout",
     "output_type": "stream",
     "text": [
      "8\n"
     ]
    }
   ],
   "source": [
    "print(len(list('साड़ियां')))"
   ]
  },
  {
   "cell_type": "code",
   "execution_count": 7,
   "metadata": {},
   "outputs": [
    {
     "data": {
      "text/html": [
       "<div>\n",
       "<style scoped>\n",
       "    .dataframe tbody tr th:only-of-type {\n",
       "        vertical-align: middle;\n",
       "    }\n",
       "\n",
       "    .dataframe tbody tr th {\n",
       "        vertical-align: top;\n",
       "    }\n",
       "\n",
       "    .dataframe thead tr th {\n",
       "        text-align: left;\n",
       "    }\n",
       "</style>\n",
       "<table border=\"1\" class=\"dataframe\">\n",
       "  <thead>\n",
       "    <tr>\n",
       "      <th></th>\n",
       "      <th>Type_of_text</th>\n",
       "      <th>wer</th>\n",
       "      <th>cer</th>\n",
       "    </tr>\n",
       "  </thead>\n",
       "  <tbody>\n",
       "    <tr>\n",
       "      <th>0</th>\n",
       "      <td>multi_speaker</td>\n",
       "      <td>0.330234</td>\n",
       "      <td>0.243654</td>\n",
       "    </tr>\n",
       "    <tr>\n",
       "      <th>1</th>\n",
       "      <td>multi_speaker_replaced_by_wildcard</td>\n",
       "      <td>0.207446</td>\n",
       "      <td>0.101205</td>\n",
       "    </tr>\n",
       "    <tr>\n",
       "      <th>2</th>\n",
       "      <td>primary_speaker_only</td>\n",
       "      <td>0.180686</td>\n",
       "      <td>0.090902</td>\n",
       "    </tr>\n",
       "  </tbody>\n",
       "</table>\n",
       "</div>"
      ],
      "text/plain": [
       "                         Type_of_text       wer       cer\n",
       "0                       multi_speaker  0.330234  0.243654\n",
       "1  multi_speaker_replaced_by_wildcard  0.207446  0.101205\n",
       "2                primary_speaker_only  0.180686  0.090902"
      ]
     },
     "execution_count": 7,
     "metadata": {},
     "output_type": "execute_result"
    }
   ],
   "source": [
    "baseline = pd.merge(baseline_wer, baseline_cer, how='inner')\n",
    "baseline"
   ]
  },
  {
   "cell_type": "code",
   "execution_count": 8,
   "metadata": {},
   "outputs": [
    {
     "data": {
      "text/html": [
       "<div>\n",
       "<style scoped>\n",
       "    .dataframe tbody tr th:only-of-type {\n",
       "        vertical-align: middle;\n",
       "    }\n",
       "\n",
       "    .dataframe tbody tr th {\n",
       "        vertical-align: top;\n",
       "    }\n",
       "\n",
       "    .dataframe thead tr th {\n",
       "        text-align: left;\n",
       "    }\n",
       "</style>\n",
       "<table border=\"1\" class=\"dataframe\">\n",
       "  <thead>\n",
       "    <tr>\n",
       "      <th></th>\n",
       "      <th>Type_of_text</th>\n",
       "      <th>wer</th>\n",
       "      <th>cer</th>\n",
       "    </tr>\n",
       "  </thead>\n",
       "  <tbody>\n",
       "    <tr>\n",
       "      <th>0</th>\n",
       "      <td>multi_speaker</td>\n",
       "      <td>0.241933</td>\n",
       "      <td>0.155668</td>\n",
       "    </tr>\n",
       "    <tr>\n",
       "      <th>1</th>\n",
       "      <td>multi_speaker_replaced_by_wildcard</td>\n",
       "      <td>0.184179</td>\n",
       "      <td>0.093128</td>\n",
       "    </tr>\n",
       "    <tr>\n",
       "      <th>2</th>\n",
       "      <td>primary_speaker_only</td>\n",
       "      <td>0.169215</td>\n",
       "      <td>0.085795</td>\n",
       "    </tr>\n",
       "  </tbody>\n",
       "</table>\n",
       "</div>"
      ],
      "text/plain": [
       "                         Type_of_text       wer       cer\n",
       "0                       multi_speaker  0.241933  0.155668\n",
       "1  multi_speaker_replaced_by_wildcard  0.184179  0.093128\n",
       "2                primary_speaker_only  0.169215  0.085795"
      ]
     },
     "execution_count": 8,
     "metadata": {},
     "output_type": "execute_result"
    }
   ],
   "source": [
    "best_model = pd.merge(best_model_wer, best_model_cer, how='inner')\n",
    "best_model"
   ]
  },
  {
   "cell_type": "markdown",
   "metadata": {},
   "source": [
    "# Confidence Plots: Baseline vs BestModel"
   ]
  },
  {
   "cell_type": "code",
   "execution_count": 4,
   "metadata": {},
   "outputs": [
    {
     "data": {
      "text/plain": [
       "<matplotlib.legend.Legend at 0x7f5ca9c60dc0>"
      ]
     },
     "execution_count": 4,
     "metadata": {},
     "output_type": "execute_result"
    },
    {
     "data": {
      "image/png": "[encoded data removed]",
      "text/plain": [
       "<Figure size 1440x576 with 2 Axes>"
      ]
     },
     "metadata": {},
     "output_type": "display_data"
    }
   ],
   "source": [
    "fig, axs = plt.subplots(1,2)\n",
    "\n",
    "fig.tight_layout(pad=10.0)\n",
    "fig.set_figheight(8)\n",
    "fig.set_figwidth(20)\n",
    "\n",
    "sns.histplot(oa_ol[oa_ol.Type_of_text==\"primary_speaker_only\"], x=\"confidence\", color=\"red\", label=\"BASELINE_P-Speak_confid\", ax=axs[0])\n",
    "axs[0].legend(loc=\"upper left\")\n",
    "\n",
    "sns.histplot(na_nl[na_nl.Type_of_text==\"primary_speaker_only\"], x=\"confidence\", color=\"green\", label=\"BestModel_P-Speak_confid\", ax=axs[0])\n",
    "axs[0].legend(loc=\"upper left\")\n",
    "\n",
    "\n",
    "sns.histplot(oa_ol[oa_ol.Type_of_text==\"multi_speaker_replaced_by_wildcard\"], x=\"confidence\", color=\"red\", label=\"BASELINE_M-Speak_confid\", ax=axs[1])\n",
    "axs[1].legend(loc=\"upper left\")\n",
    "\n",
    "sns.histplot(na_nl[na_nl.Type_of_text==\"multi_speaker_replaced_by_wildcard\"], x=\"confidence\", color=\"green\", label=\"BestModel_M-Speak_confid\", ax=axs[1])\n",
    "axs[1].legend(loc=\"upper left\")\n"
   ]
  },
  {
   "cell_type": "markdown",
   "metadata": {},
   "source": [
    "# WER Plots: Baseline vs BestModel"
   ]
  },
  {
   "cell_type": "code",
   "execution_count": 6,
   "metadata": {
    "jupyter": {
     "source_hidden": true
    }
   },
   "outputs": [
    {
     "data": {
      "text/plain": [
       "<matplotlib.legend.Legend at 0x7f5ca85be4f0>"
      ]
     },
     "execution_count": 6,
     "metadata": {},
     "output_type": "execute_result"
    },
    {
     "data": {
      "image/png": "[encoded data removed]",
      "text/plain": [
       "<Figure size 1080x1080 with 4 Axes>"
      ]
     },
     "metadata": {},
     "output_type": "display_data"
    }
   ],
   "source": [
    "fig, axs = plt.subplots(2,2)\n",
    "\n",
    "fig.tight_layout(pad=2.0)\n",
    "fig.set_figheight(15)\n",
    "fig.set_figwidth(15)\n",
    "\n",
    "sns.histplot(oa_ol[oa_ol.Type_of_text==\"primary_speaker_only\"], x=\"WER\", color=\"red\", label=\"BASELINE_P-Speak_WER\", ax=axs[0][0])\n",
    "axs[0][0].legend(loc=\"upper right\")\n",
    "\n",
    "sns.histplot(na_nl[na_nl.Type_of_text==\"primary_speaker_only\"], x=\"WER\", color=\"green\", label=\"BestModel_P-Speak_WER\",ax=axs[0][0])\n",
    "axs[0][0].legend(loc=\"upper right\")\n",
    "\n",
    "\n",
    "sns.histplot(oa_ol[oa_ol.Type_of_text==\"multi_speaker_replaced_by_wildcard\"], x=\"WER\", color=\"red\", label=\"BASELINE_M-Speak-WILD_WER\", ax=axs[0][1])\n",
    "axs[0][1].legend(loc=\"upper right\")\n",
    "\n",
    "sns.histplot(na_nl[na_nl.Type_of_text==\"multi_speaker_replaced_by_wildcard\"], x=\"WER\", color=\"green\", label=\"BestModel_M-Speak-WILD_WER\", ax=axs[0][1])\n",
    "axs[0][1].legend(loc=\"upper right\")\n",
    "\n",
    "sns.histplot(oa_ol[oa_ol.Type_of_text==\"multi_speaker\"], x=\"WER\", color=\"red\", label=\"BASELINE_M-Speak-SPACE_WER\", ax=axs[1][0])\n",
    "axs[1][0].legend(loc=\"upper right\")\n",
    "\n",
    "sns.histplot(na_nl[na_nl.Type_of_text==\"multi_speaker\"], x=\"WER\", color=\"green\", label=\"BestModel_M-Speak-SPACE_WER\", ax=axs[1][0])\n",
    "axs[1][0].legend(loc=\"upper right\")"
   ]
  },
  {
   "cell_type": "markdown",
   "metadata": {},
   "source": [
    "# CER Plots: Baseline vs BestModel"
   ]
  },
  {
   "cell_type": "code",
   "execution_count": 8,
   "metadata": {
    "jupyter": {
     "source_hidden": true
    }
   },
   "outputs": [
    {
     "data": {
      "text/plain": [
       "<matplotlib.legend.Legend at 0x7f5ca785cdf0>"
      ]
     },
     "execution_count": 8,
     "metadata": {},
     "output_type": "execute_result"
    },
    {
     "data": {
      "image/png": "[encoded data removed]",
      "text/plain": [
       "<Figure size 1080x1080 with 4 Axes>"
      ]
     },
     "metadata": {},
     "output_type": "display_data"
    }
   ],
   "source": [
    "fig, axs = plt.subplots(2,2)\n",
    "\n",
    "fig.tight_layout(pad=2.0)\n",
    "fig.set_figheight(15)\n",
    "fig.set_figwidth(15)\n",
    "\n",
    "sns.histplot(oa_ol[oa_ol.Type_of_text==\"primary_speaker_only\"], x=\"CER\", color=\"red\", label=\"BASELINE_P-Speak_CER\", ax=axs[0][0])\n",
    "axs[0][0].legend(loc=\"upper right\")\n",
    "\n",
    "sns.histplot(na_nl[na_nl.Type_of_text==\"primary_speaker_only\"], x=\"CER\", color=\"green\", label=\"BestModel_P-Speak_CER\",ax=axs[0][0])\n",
    "axs[0][0].legend(loc=\"upper right\")\n",
    "\n",
    "\n",
    "sns.histplot(oa_ol[oa_ol.Type_of_text==\"multi_speaker_replaced_by_wildcard\"], x=\"CER\", color=\"red\", label=\"BASELINE_M-Speak-WILD_CER\", ax=axs[0][1])\n",
    "axs[0][1].legend(loc=\"upper right\")\n",
    "\n",
    "sns.histplot(na_nl[na_nl.Type_of_text==\"multi_speaker_replaced_by_wildcard\"], x=\"CER\", color=\"green\", label=\"BestModel_M-Speak-WILD_CER\", ax=axs[0][1])\n",
    "axs[0][1].legend(loc=\"upper right\")\n",
    "\n",
    "sns.histplot(oa_ol[oa_ol.Type_of_text==\"multi_speaker\"], x=\"CER\", color=\"red\", label=\"BASELINE_M-Speak-SPACE_CER\", ax=axs[1][0])\n",
    "axs[1][0].legend(loc=\"upper right\")\n",
    "\n",
    "sns.histplot(na_nl[na_nl.Type_of_text==\"multi_speaker\"], x=\"CER\", color=\"green\", label=\"BestModel_M-Speak-SPACE_CER\", ax=axs[1][0])\n",
    "axs[1][0].legend(loc=\"upper right\")"
   ]
  },
  {
   "cell_type": "markdown",
   "metadata": {},
   "source": [
    "# Type of text"
   ]
  },
  {
   "cell_type": "code",
   "execution_count": 65,
   "metadata": {},
   "outputs": [
    {
     "data": {
      "text/plain": [
       "multi_speaker_replaced_by_wildcard    7556\n",
       "multi_speaker                         7556\n",
       "primary_speaker_only                  6716\n",
       "Name: Type_of_text, dtype: int64"
      ]
     },
     "execution_count": 65,
     "metadata": {},
     "output_type": "execute_result"
    }
   ],
   "source": [
    "oa_ol.Type_of_text.value_counts()"
   ]
  },
  {
   "cell_type": "markdown",
   "metadata": {},
   "source": [
    "# Diving into multispeaker replaced with space data"
   ]
  },
  {
   "cell_type": "markdown",
   "metadata": {},
   "source": [
    "### Gather data"
   ]
  },
  {
   "cell_type": "code",
   "execution_count": 11,
   "metadata": {},
   "outputs": [],
   "source": [
    "baseline_mspeak_space = oa_ol[oa_ol.Type_of_text==\"multi_speaker\"]\n",
    "best_mspeak_space = na_nl[na_nl.Type_of_text==\"multi_speaker\"]"
   ]
  },
  {
   "cell_type": "code",
   "execution_count": 73,
   "metadata": {},
   "outputs": [],
   "source": [
    "baseline_mspeak_space_wer = baseline_mspeak_space[['Text_id', 'Type_of_text', 'Raw_GT', 'GT', 'utf_text', 'Machine_Transcribed_text', 'GT_len', 'WER*GT_len', 'WER', 'old_confidence', 'confidence', 'audio_path']]\n",
    "best_mspeak_space_wer = best_mspeak_space[['Text_id', 'Type_of_text', 'Raw_GT', 'GT', 'utf_text', 'Machine_Transcribed_text', 'GT_len', 'WER*GT_len', 'WER', 'old_confidence', 'confidence', 'audio_path']]\n",
    "joined_mspeak_space_wer = pd.merge(baseline_mspeak_space_wer, best_mspeak_space_wer, on='Text_id', how='inner')"
   ]
  },
  {
   "cell_type": "code",
   "execution_count": 74,
   "metadata": {},
   "outputs": [
    {
     "data": {
      "text/plain": [
       "(7556, 12)"
      ]
     },
     "execution_count": 74,
     "metadata": {},
     "output_type": "execute_result"
    }
   ],
   "source": [
    "baseline_mspeak_space_wer.shape"
   ]
  },
  {
   "cell_type": "code",
   "execution_count": 96,
   "metadata": {},
   "outputs": [
    {
     "data": {
      "text/plain": [
       "(7557, 12)"
      ]
     },
     "execution_count": 96,
     "metadata": {},
     "output_type": "execute_result"
    }
   ],
   "source": [
    "best_mspeak_space_wer.shape"
   ]
  },
  {
   "cell_type": "code",
   "execution_count": 95,
   "metadata": {},
   "outputs": [
    {
     "data": {
      "text/plain": [
       "(7555, 23)"
      ]
     },
     "execution_count": 95,
     "metadata": {},
     "output_type": "execute_result"
    }
   ],
   "source": [
    "joined_mspeak_space_wer.shape"
   ]
  },
  {
   "cell_type": "code",
   "execution_count": 75,
   "metadata": {},
   "outputs": [
    {
     "data": {
      "text/plain": [
       "True"
      ]
     },
     "execution_count": 75,
     "metadata": {},
     "output_type": "execute_result"
    }
   ],
   "source": [
    "(joined_mspeak_space_wer['GT_len_x'] == joined_mspeak_space_wer['GT_len_y']).all()"
   ]
  },
  {
   "cell_type": "code",
   "execution_count": 92,
   "metadata": {},
   "outputs": [
    {
     "data": {
      "text/plain": [
       "True"
      ]
     },
     "execution_count": 92,
     "metadata": {},
     "output_type": "execute_result"
    }
   ],
   "source": [
    "(joined_mspeak_space_wer['GT_x'] == joined_mspeak_space_wer['GT_y']).all()"
   ]
  },
  {
   "cell_type": "markdown",
   "metadata": {},
   "source": [
    "## Improvement"
   ]
  },
  {
   "cell_type": "code",
   "execution_count": 77,
   "metadata": {},
   "outputs": [
    {
     "data": {
      "text/plain": [
       "(2088, 23)"
      ]
     },
     "execution_count": 77,
     "metadata": {},
     "output_type": "execute_result"
    }
   ],
   "source": [
    "improved = joined_mspeak_space_wer[joined_mspeak_space_wer['WER_x'] > joined_mspeak_space_wer['WER_y']]\n",
    "improved.shape"
   ]
  },
  {
   "cell_type": "code",
   "execution_count": 93,
   "metadata": {},
   "outputs": [
    {
     "data": {
      "text/plain": [
       "(1195, 23)"
      ]
     },
     "execution_count": 93,
     "metadata": {},
     "output_type": "execute_result"
    }
   ],
   "source": [
    "improved_and_zero_wer = improved[(improved['WER_y'] == 0)]\n",
    "improved_and_zero_wer.shape"
   ]
  },
  {
   "cell_type": "markdown",
   "metadata": {},
   "source": [
    "## Degradation"
   ]
  },
  {
   "cell_type": "code",
   "execution_count": 79,
   "metadata": {},
   "outputs": [
    {
     "data": {
      "text/plain": [
       "(572, 23)"
      ]
     },
     "execution_count": 79,
     "metadata": {},
     "output_type": "execute_result"
    }
   ],
   "source": [
    "degraded = joined_mspeak_space_wer[joined_mspeak_space_wer['WER_x'] < joined_mspeak_space_wer['WER_y']]\n",
    "degraded.shape"
   ]
  },
  {
   "cell_type": "code",
   "execution_count": 80,
   "metadata": {
    "collapsed": true,
    "jupyter": {
     "outputs_hidden": true
    }
   },
   "outputs": [
    {
     "data": {
      "text/html": [
       "<div>\n",
       "<style scoped>\n",
       "    .dataframe tbody tr th:only-of-type {\n",
       "        vertical-align: middle;\n",
       "    }\n",
       "\n",
       "    .dataframe tbody tr th {\n",
       "        vertical-align: top;\n",
       "    }\n",
       "\n",
       "    .dataframe thead th {\n",
       "        text-align: right;\n",
       "    }\n",
       "</style>\n",
       "<table border=\"1\" class=\"dataframe\">\n",
       "  <thead>\n",
       "    <tr style=\"text-align: right;\">\n",
       "      <th></th>\n",
       "      <th>Raw_GT_x</th>\n",
       "      <th>GT_x</th>\n",
       "      <th>Machine_Transcribed_text_x</th>\n",
       "      <th>Machine_Transcribed_text_y</th>\n",
       "    </tr>\n",
       "  </thead>\n",
       "  <tbody>\n",
       "    <tr>\n",
       "      <th>41</th>\n",
       "      <td>@ _ @ कैम्प्स स्पोर्ट शूज @ _ @</td>\n",
       "      <td>कैम्प्स स्पोर्ट शूज</td>\n",
       "      <td>कैम्प्स स्पोर्ट शूज</td>\n",
       "      <td>कैंपर्स स्पोर्ट्स शूज</td>\n",
       "    </tr>\n",
       "    <tr>\n",
       "      <th>44</th>\n",
       "      <td>@ _ @ छोटे बच्चों के लिए फ्रॉक नौ से दस साल तक...</td>\n",
       "      <td>छोटे बच्चों के लिए फ्रॉक नौ से दस साल तक का</td>\n",
       "      <td>छोटे बच्चों के लिए फ्रॉक नौ से दस साल का</td>\n",
       "      <td>छोटे बच्चों के लिए फ्रॉक नौ से दस साल के</td>\n",
       "    </tr>\n",
       "    <tr>\n",
       "      <th>46</th>\n",
       "      <td>@ _ ड्रेस @ मारवाड़ी ड्रेस @ _ नौ _ बताऊ _ @ ब...</td>\n",
       "      <td>मारवाड़ी ड्रेस    बोले _ कोई मोबाइल _</td>\n",
       "      <td>बेसबॉल मारवाड़ी ड्रेस घर लेंगे नाटकीय मेन मार्...</td>\n",
       "      <td>रुमाल वाली ड्रेस लेना मन्नाकानाडू</td>\n",
       "    </tr>\n",
       "    <tr>\n",
       "      <th>64</th>\n",
       "      <td>स्टैंडर माइक दिखाइए तो @ _ @</td>\n",
       "      <td>स्टैंडर माइक दिखाइए तो</td>\n",
       "      <td>स्टैंडर माइक दिखाइए तुम</td>\n",
       "      <td>स्टैंडर्ड माइक दिखाइए तुम</td>\n",
       "    </tr>\n",
       "    <tr>\n",
       "      <th>71</th>\n",
       "      <td>बोलना जी बाहुबली @ _ @</td>\n",
       "      <td>बोलना जी बाहुबली</td>\n",
       "      <td>बोलना जी बाली</td>\n",
       "      <td>बोलना री बाली</td>\n",
       "    </tr>\n",
       "    <tr>\n",
       "      <th>...</th>\n",
       "      <td>...</td>\n",
       "      <td>...</td>\n",
       "      <td>...</td>\n",
       "      <td>...</td>\n",
       "    </tr>\n",
       "    <tr>\n",
       "      <th>7504</th>\n",
       "      <td>स्टील कॉम्बो ऑफ इंडक्शन बॉटम @ _ @</td>\n",
       "      <td>स्टील कॉम्बो ऑफ इंडक्शन बॉटम</td>\n",
       "      <td>स्टील कॉम्बो ऑफ इंडक्शन बॉटम</td>\n",
       "      <td>स्टील कॉम्बो ऑफर इंडक्शन बॉटम</td>\n",
       "    </tr>\n",
       "    <tr>\n",
       "      <th>7511</th>\n",
       "      <td>@ _ @ _ नौ फिट का दे</td>\n",
       "      <td>_ नौ फिट का दे</td>\n",
       "      <td>केलाम्बक्काम भारत में फिट का दे</td>\n",
       "      <td>भारत में फिट करते</td>\n",
       "    </tr>\n",
       "    <tr>\n",
       "      <th>7528</th>\n",
       "      <td>@ _ @ प्लास्टिक वाला जूता दीजिये वती जूते सन क...</td>\n",
       "      <td>प्लास्टिक वाला जूता दीजिये वती जूते सन करात...</td>\n",
       "      <td>प्लास्टिक वाला जूता दीजिये वती जूते सन करता है...</td>\n",
       "      <td>प्लास्टिक वाला जूता दीजिये वही जूते संकरता है ...</td>\n",
       "    </tr>\n",
       "    <tr>\n",
       "      <th>7533</th>\n",
       "      <td>@ _ @ फ्लिपकार्ट पर जियो फोन थ्री आ गया है क्य...</td>\n",
       "      <td>फ्लिपकार्ट पर जियो फोन थ्री आ गया है क्या</td>\n",
       "      <td>फिलिप्स कार्ड पर जियो फोन थ्री आ गया है क्या</td>\n",
       "      <td>फिलिप्स कार्ड पर जिओ फोन थ्री आ गया है क्या</td>\n",
       "    </tr>\n",
       "    <tr>\n",
       "      <th>7538</th>\n",
       "      <td>ओप्पो ए फाइव फोन @ _ @</td>\n",
       "      <td>ओप्पो ए फाइव फोन</td>\n",
       "      <td>ओप्पो ए फाइव फोन</td>\n",
       "      <td>ओपो ए फाइव फोन</td>\n",
       "    </tr>\n",
       "  </tbody>\n",
       "</table>\n",
       "<p>572 rows × 4 columns</p>\n",
       "</div>"
      ],
      "text/plain": [
       "                                               Raw_GT_x  \\\n",
       "41                      @ _ @ कैम्प्स स्पोर्ट शूज @ _ @   \n",
       "44    @ _ @ छोटे बच्चों के लिए फ्रॉक नौ से दस साल तक...   \n",
       "46    @ _ ड्रेस @ मारवाड़ी ड्रेस @ _ नौ _ बताऊ _ @ ब...   \n",
       "64                         स्टैंडर माइक दिखाइए तो @ _ @   \n",
       "71                               बोलना जी बाहुबली @ _ @   \n",
       "...                                                 ...   \n",
       "7504                 स्टील कॉम्बो ऑफ इंडक्शन बॉटम @ _ @   \n",
       "7511                               @ _ @ _ नौ फिट का दे   \n",
       "7528  @ _ @ प्लास्टिक वाला जूता दीजिये वती जूते सन क...   \n",
       "7533  @ _ @ फ्लिपकार्ट पर जियो फोन थ्री आ गया है क्य...   \n",
       "7538                             ओप्पो ए फाइव फोन @ _ @   \n",
       "\n",
       "                                                   GT_x  \\\n",
       "41                               कैम्प्स स्पोर्ट शूज      \n",
       "44       छोटे बच्चों के लिए फ्रॉक नौ से दस साल तक का      \n",
       "46                मारवाड़ी ड्रेस    बोले _ कोई मोबाइल _   \n",
       "64                            स्टैंडर माइक दिखाइए तो      \n",
       "71                                  बोलना जी बाहुबली      \n",
       "...                                                 ...   \n",
       "7504                    स्टील कॉम्बो ऑफ इंडक्शन बॉटम      \n",
       "7511                                     _ नौ फिट का दे   \n",
       "7528     प्लास्टिक वाला जूता दीजिये वती जूते सन करात...   \n",
       "7533       फ्लिपकार्ट पर जियो फोन थ्री आ गया है क्या      \n",
       "7538                                ओप्पो ए फाइव फोन      \n",
       "\n",
       "                             Machine_Transcribed_text_x  \\\n",
       "41                                कैम्प्स स्पोर्ट शूज     \n",
       "44           छोटे बच्चों के लिए फ्रॉक नौ से दस साल का     \n",
       "46    बेसबॉल मारवाड़ी ड्रेस घर लेंगे नाटकीय मेन मार्...   \n",
       "64                            स्टैंडर माइक दिखाइए तुम     \n",
       "71                                      बोलना जी बाली     \n",
       "...                                                 ...   \n",
       "7504                     स्टील कॉम्बो ऑफ इंडक्शन बॉटम     \n",
       "7511                  केलाम्बक्काम भारत में फिट का दे     \n",
       "7528  प्लास्टिक वाला जूता दीजिये वती जूते सन करता है...   \n",
       "7533     फिलिप्स कार्ड पर जियो फोन थ्री आ गया है क्या     \n",
       "7538                                 ओप्पो ए फाइव फोन     \n",
       "\n",
       "                             Machine_Transcribed_text_y  \n",
       "41                              कैंपर्स स्पोर्ट्स शूज    \n",
       "44           छोटे बच्चों के लिए फ्रॉक नौ से दस साल के    \n",
       "46                  रुमाल वाली ड्रेस लेना मन्नाकानाडू    \n",
       "64                          स्टैंडर्ड माइक दिखाइए तुम    \n",
       "71                                      बोलना री बाली    \n",
       "...                                                 ...  \n",
       "7504                    स्टील कॉम्बो ऑफर इंडक्शन बॉटम    \n",
       "7511                                भारत में फिट करते    \n",
       "7528  प्लास्टिक वाला जूता दीजिये वही जूते संकरता है ...  \n",
       "7533      फिलिप्स कार्ड पर जिओ फोन थ्री आ गया है क्या    \n",
       "7538                                   ओपो ए फाइव फोन    \n",
       "\n",
       "[572 rows x 4 columns]"
      ]
     },
     "execution_count": 80,
     "metadata": {},
     "output_type": "execute_result"
    }
   ],
   "source": [
    "degraded[['Raw_GT_x', 'GT_x', 'Machine_Transcribed_text_x', 'Machine_Transcribed_text_y']]"
   ]
  },
  {
   "cell_type": "code",
   "execution_count": 98,
   "metadata": {},
   "outputs": [
    {
     "name": "stdout",
     "output_type": "stream",
     "text": [
      "b4 and after wer:  0.23775751435325904 0.47213779128672745\n",
      "is any of the text string in degraded of zero len:  False\n",
      "how many *wer == 1.0* in new model:  (106, 23)\n"
     ]
    }
   ],
   "source": [
    "prev_degraded_wer = degraded['WER*GT_len_x'].sum()/degraded['GT_len_x'].sum()\n",
    "after_degraged_wer = degraded['WER*GT_len_y'].sum()/degraded['GT_len_y'].sum()\n",
    "print(\"b4 and after wer: \", prev_degraded_wer, after_degraged_wer)\n",
    "print(\"is any of the text string in degraded of zero len: \", (degraded.Machine_Transcribed_text_y.str.len() == 0).any())\n",
    "print(\"how many *wer == 1.0* in new model: \", degraded[(degraded.WER_y == 1.0)].shape)\n"
   ]
  },
  {
   "cell_type": "markdown",
   "metadata": {},
   "source": [
    "### Extreme Degradation"
   ]
  },
  {
   "cell_type": "code",
   "execution_count": 111,
   "metadata": {},
   "outputs": [
    {
     "data": {
      "text/plain": [
       "(45, 23)"
      ]
     },
     "execution_count": 111,
     "metadata": {},
     "output_type": "execute_result"
    }
   ],
   "source": [
    "extremely_degraded = degraded[(degraded.WER_y == 1.0) & (degraded.WER_x == 0.0)]\n",
    "extremely_degraded.shape"
   ]
  },
  {
   "cell_type": "code",
   "execution_count": 140,
   "metadata": {},
   "outputs": [
    {
     "data": {
      "text/plain": [
       "<matplotlib.legend.Legend at 0x7f97949b9820>"
      ]
     },
     "execution_count": 140,
     "metadata": {},
     "output_type": "execute_result"
    },
    {
     "data": {
      "image/png": "[encoded data removed]",
      "text/plain": [
       "<Figure size 842.4x595.44 with 1 Axes>"
      ]
     },
     "metadata": {},
     "output_type": "display_data"
    }
   ],
   "source": [
    "sns.histplot(extremely_degraded.GT_len_x, color='blue', label='gt word len')\n",
    "sns.histplot(extremely_degraded.Machine_Transcribed_text_x.str.split().apply(len), color='red', label='baseline_predicted_word_len')\n",
    "sns.histplot(extremely_degraded.Machine_Transcribed_text_y.dropna().str.split().apply(len), color='green', label='best_predicted_word_len')\n",
    "plt.legend()"
   ]
  },
  {
   "cell_type": "code",
   "execution_count": 108,
   "metadata": {},
   "outputs": [
    {
     "data": {
      "text/plain": [
       "<matplotlib.legend.Legend at 0x7f97961cbca0>"
      ]
     },
     "execution_count": 108,
     "metadata": {},
     "output_type": "execute_result"
    },
    {
     "data": {
      "image/png": "[encoded data removed]",
      "text/plain": [
       "<Figure size 842.4x595.44 with 1 Axes>"
      ]
     },
     "metadata": {},
     "output_type": "display_data"
    }
   ],
   "source": [
    "sns.histplot(extremely_degraded.confidence_x, color='red', label='extremely_degraded_baseline_confidence')\n",
    "sns.histplot(extremely_degraded.confidence_y, color='green', label='extremely_degraded_best_confidence')\n",
    "plt.legend()"
   ]
  },
  {
   "cell_type": "code",
   "execution_count": 102,
   "metadata": {},
   "outputs": [],
   "source": [
    "if False:\n",
    "    extremely_degraded.to_csv('/shared/karan.verma/analysis_production_models/vs_15thSep2020/extremely_degraded_examples_by_15sept2020_model.csv')"
   ]
  },
  {
   "cell_type": "markdown",
   "metadata": {},
   "source": [
    "## No Change Cases"
   ]
  },
  {
   "cell_type": "code",
   "execution_count": 83,
   "metadata": {},
   "outputs": [
    {
     "data": {
      "text/plain": [
       "(4895, 23)"
      ]
     },
     "execution_count": 83,
     "metadata": {},
     "output_type": "execute_result"
    }
   ],
   "source": [
    "no_change = joined_mspeak_space_wer[joined_mspeak_space_wer['WER_x'] == joined_mspeak_space_wer['WER_y']]\n",
    "no_change.shape"
   ]
  },
  {
   "cell_type": "code",
   "execution_count": 84,
   "metadata": {
    "collapsed": true,
    "jupyter": {
     "outputs_hidden": true
    }
   },
   "outputs": [
    {
     "data": {
      "text/html": [
       "<div>\n",
       "<style scoped>\n",
       "    .dataframe tbody tr th:only-of-type {\n",
       "        vertical-align: middle;\n",
       "    }\n",
       "\n",
       "    .dataframe tbody tr th {\n",
       "        vertical-align: top;\n",
       "    }\n",
       "\n",
       "    .dataframe thead th {\n",
       "        text-align: right;\n",
       "    }\n",
       "</style>\n",
       "<table border=\"1\" class=\"dataframe\">\n",
       "  <thead>\n",
       "    <tr style=\"text-align: right;\">\n",
       "      <th></th>\n",
       "      <th>Machine_Transcribed_text_x</th>\n",
       "      <th>Machine_Transcribed_text_y</th>\n",
       "      <th>WER_y</th>\n",
       "      <th>WER_x</th>\n",
       "      <th>GT_y</th>\n",
       "    </tr>\n",
       "  </thead>\n",
       "  <tbody>\n",
       "    <tr>\n",
       "      <th>1</th>\n",
       "      <td>आर्मी वाला जूता</td>\n",
       "      <td>आर्मी वाला जूता</td>\n",
       "      <td>0.0</td>\n",
       "      <td>0.0</td>\n",
       "      <td>आर्मी वाला जूता</td>\n",
       "    </tr>\n",
       "    <tr>\n",
       "      <th>3</th>\n",
       "      <td>जिओ का चार्जर</td>\n",
       "      <td>जिओ का चार्जर</td>\n",
       "      <td>0.0</td>\n",
       "      <td>0.0</td>\n",
       "      <td>जिओ का चार्जर</td>\n",
       "    </tr>\n",
       "    <tr>\n",
       "      <th>7</th>\n",
       "      <td>टांगने वाला बैग</td>\n",
       "      <td>टांगने वाला बैग</td>\n",
       "      <td>0.0</td>\n",
       "      <td>0.0</td>\n",
       "      <td>टांगने वाला बैग</td>\n",
       "    </tr>\n",
       "    <tr>\n",
       "      <th>10</th>\n",
       "      <td>रिमोट वाला कार दो तीन सौ के</td>\n",
       "      <td>रिमोट वाला कार दो तीन सौ के</td>\n",
       "      <td>0.0</td>\n",
       "      <td>0.0</td>\n",
       "      <td>रिमोट वाला कार दो तीन सौ के</td>\n",
       "    </tr>\n",
       "    <tr>\n",
       "      <th>11</th>\n",
       "      <td>हेयर कलर मेट ब्लू</td>\n",
       "      <td>हेयर कलर मेट ब्लू</td>\n",
       "      <td>0.0</td>\n",
       "      <td>0.0</td>\n",
       "      <td>हेयर कलर मेट ब्लू</td>\n",
       "    </tr>\n",
       "    <tr>\n",
       "      <th>...</th>\n",
       "      <td>...</td>\n",
       "      <td>...</td>\n",
       "      <td>...</td>\n",
       "      <td>...</td>\n",
       "      <td>...</td>\n",
       "    </tr>\n",
       "    <tr>\n",
       "      <th>7544</th>\n",
       "      <td>घड़ी टच वाली</td>\n",
       "      <td>घड़ी टच वाली</td>\n",
       "      <td>0.0</td>\n",
       "      <td>0.0</td>\n",
       "      <td>घड़ी टच वाली</td>\n",
       "    </tr>\n",
       "    <tr>\n",
       "      <th>7547</th>\n",
       "      <td>गर्ल्स न्यू फैशन वाचस्</td>\n",
       "      <td>गर्ल्स न्यू फैशन वाचस्</td>\n",
       "      <td>0.0</td>\n",
       "      <td>0.0</td>\n",
       "      <td>गर्ल्स न्यू फैशन वाचस्</td>\n",
       "    </tr>\n",
       "    <tr>\n",
       "      <th>7550</th>\n",
       "      <td>टेक्नो पावर पार्क टू मोबाइल</td>\n",
       "      <td>टेक्नो पावर पार्क टू मोबाइल</td>\n",
       "      <td>0.2</td>\n",
       "      <td>0.2</td>\n",
       "      <td>टेक्नो पावर स्पार्क टू मोबाइल</td>\n",
       "    </tr>\n",
       "    <tr>\n",
       "      <th>7553</th>\n",
       "      <td>लेडीज जूती सेट सेवन साइज</td>\n",
       "      <td>लेडीज जूती सेट सेवन साइज</td>\n",
       "      <td>0.0</td>\n",
       "      <td>0.0</td>\n",
       "      <td>लेडीज जूती सेट सेवन साइज</td>\n",
       "    </tr>\n",
       "    <tr>\n",
       "      <th>7554</th>\n",
       "      <td>बारह साल का बच्चा का बेल्ट चप्पल</td>\n",
       "      <td>बारह साल का बच्चा का बेल्ट चप्पल</td>\n",
       "      <td>0.0</td>\n",
       "      <td>0.0</td>\n",
       "      <td>बारह साल का बच्चा का बेल्ट चप्पल</td>\n",
       "    </tr>\n",
       "  </tbody>\n",
       "</table>\n",
       "<p>3204 rows × 5 columns</p>\n",
       "</div>"
      ],
      "text/plain": [
       "              Machine_Transcribed_text_x          Machine_Transcribed_text_y  \\\n",
       "1                      आर्मी वाला जूता                     आर्मी वाला जूता     \n",
       "3                        जिओ का चार्जर                       जिओ का चार्जर     \n",
       "7                      टांगने वाला बैग                     टांगने वाला बैग     \n",
       "10         रिमोट वाला कार दो तीन सौ के         रिमोट वाला कार दो तीन सौ के     \n",
       "11                   हेयर कलर मेट ब्लू                   हेयर कलर मेट ब्लू     \n",
       "...                                  ...                                 ...   \n",
       "7544                      घड़ी टच वाली                        घड़ी टच वाली     \n",
       "7547            गर्ल्स न्यू फैशन वाचस्              गर्ल्स न्यू फैशन वाचस्     \n",
       "7550       टेक्नो पावर पार्क टू मोबाइल         टेक्नो पावर पार्क टू मोबाइल     \n",
       "7553          लेडीज जूती सेट सेवन साइज            लेडीज जूती सेट सेवन साइज     \n",
       "7554  बारह साल का बच्चा का बेल्ट चप्पल    बारह साल का बच्चा का बेल्ट चप्पल     \n",
       "\n",
       "      WER_y  WER_x                                 GT_y  \n",
       "1       0.0    0.0                   आर्मी वाला जूता     \n",
       "3       0.0    0.0                     जिओ का चार्जर     \n",
       "7       0.0    0.0                   टांगने वाला बैग     \n",
       "10      0.0    0.0       रिमोट वाला कार दो तीन सौ के     \n",
       "11      0.0    0.0                 हेयर कलर मेट ब्लू     \n",
       "...     ...    ...                                  ...  \n",
       "7544    0.0    0.0                      घड़ी टच वाली     \n",
       "7547    0.0    0.0            गर्ल्स न्यू फैशन वाचस्     \n",
       "7550    0.2    0.2     टेक्नो पावर स्पार्क टू मोबाइल     \n",
       "7553    0.0    0.0          लेडीज जूती सेट सेवन साइज     \n",
       "7554    0.0    0.0     बारह साल का बच्चा का बेल्ट चप्पल  \n",
       "\n",
       "[3204 rows x 5 columns]"
      ]
     },
     "execution_count": 84,
     "metadata": {},
     "output_type": "execute_result"
    }
   ],
   "source": [
    "no_change[no_change.Machine_Transcribed_text_x == no_change.Machine_Transcribed_text_y][['Machine_Transcribed_text_x', 'Machine_Transcribed_text_y', 'WER_y', 'WER_x', 'GT_y']]"
   ]
  },
  {
   "cell_type": "code",
   "execution_count": 85,
   "metadata": {
    "collapsed": true,
    "jupyter": {
     "outputs_hidden": true
    }
   },
   "outputs": [
    {
     "data": {
      "text/html": [
       "<div>\n",
       "<style scoped>\n",
       "    .dataframe tbody tr th:only-of-type {\n",
       "        vertical-align: middle;\n",
       "    }\n",
       "\n",
       "    .dataframe tbody tr th {\n",
       "        vertical-align: top;\n",
       "    }\n",
       "\n",
       "    .dataframe thead th {\n",
       "        text-align: right;\n",
       "    }\n",
       "</style>\n",
       "<table border=\"1\" class=\"dataframe\">\n",
       "  <thead>\n",
       "    <tr style=\"text-align: right;\">\n",
       "      <th></th>\n",
       "      <th>Text_id</th>\n",
       "      <th>Type_of_text_x</th>\n",
       "      <th>Raw_GT_x</th>\n",
       "      <th>GT_x</th>\n",
       "      <th>utf_text_x</th>\n",
       "      <th>Machine_Transcribed_text_x</th>\n",
       "      <th>GT_len_x</th>\n",
       "      <th>WER*GT_len_x</th>\n",
       "      <th>WER_x</th>\n",
       "      <th>old_confidence_x</th>\n",
       "      <th>...</th>\n",
       "      <th>Raw_GT_y</th>\n",
       "      <th>GT_y</th>\n",
       "      <th>utf_text_y</th>\n",
       "      <th>Machine_Transcribed_text_y</th>\n",
       "      <th>GT_len_y</th>\n",
       "      <th>WER*GT_len_y</th>\n",
       "      <th>WER_y</th>\n",
       "      <th>old_confidence_y</th>\n",
       "      <th>confidence_y</th>\n",
       "      <th>audio_path_y</th>\n",
       "    </tr>\n",
       "  </thead>\n",
       "  <tbody>\n",
       "    <tr>\n",
       "      <th>0</th>\n",
       "      <td>45160122</td>\n",
       "      <td>multi_speaker</td>\n",
       "      <td>@ गहरी _ @ ओप्पो ए फाइव नीला _ रंग @ _ भांगड़ा...</td>\n",
       "      <td>ओप्पो ए फाइव नीला _ रंग</td>\n",
       "      <td>रीको फायर क्यों नहीं जा त्रीवीक्रमां कयानाकुलम...</td>\n",
       "      <td>कराओके ए फायर्स नीला थ्री वीरेंद्रा क्या हुआ फ...</td>\n",
       "      <td>5</td>\n",
       "      <td>3.0</td>\n",
       "      <td>0.600000</td>\n",
       "      <td>0.383626</td>\n",
       "      <td>...</td>\n",
       "      <td>@ गहरी _ @ ओप्पो ए फाइव नीला _ रंग @ _ भांगड़ा...</td>\n",
       "      <td>ओप्पो ए फाइव नीला _ रंग</td>\n",
       "      <td>रीको फायर क्यों नहीं जा त्रीवीक्रमां कयानाकुलम...</td>\n",
       "      <td>ओप्पो ए फायर्स मिला थ्री जीबी</td>\n",
       "      <td>5</td>\n",
       "      <td>3.0</td>\n",
       "      <td>0.600000</td>\n",
       "      <td>0.383626</td>\n",
       "      <td>0.596144</td>\n",
       "      <td>api_HI_S_29Jul20/app_1520703906_38002119216726...</td>\n",
       "    </tr>\n",
       "    <tr>\n",
       "      <th>2</th>\n",
       "      <td>45160160</td>\n",
       "      <td>multi_speaker</td>\n",
       "      <td>टी व्हाई एम यू टाइम स्मार्टवॉच @ _ @</td>\n",
       "      <td>टी व्हाई एम यू टाइम स्मार्टवॉच</td>\n",
       "      <td>टी वाइ ए न्यू टाइम स्मार्ट वॉच</td>\n",
       "      <td>टी वाइ ए न्यू टाइम स्मार्ट वॉच</td>\n",
       "      <td>6</td>\n",
       "      <td>2.0</td>\n",
       "      <td>0.333333</td>\n",
       "      <td>0.651470</td>\n",
       "      <td>...</td>\n",
       "      <td>टी व्हाई एम यू टाइम स्मार्टवॉच @ _ @</td>\n",
       "      <td>टी व्हाई एम यू टाइम स्मार्टवॉच</td>\n",
       "      <td>टी वाइ ए न्यू टाइम स्मार्ट वॉच</td>\n",
       "      <td>टी वाइ ए ब्लू टाइम स्मार्ट वॉच</td>\n",
       "      <td>6</td>\n",
       "      <td>2.0</td>\n",
       "      <td>0.333333</td>\n",
       "      <td>0.651470</td>\n",
       "      <td>0.660073</td>\n",
       "      <td>api_EN_S_29Jul20/app_859062525_380021280332369...</td>\n",
       "    </tr>\n",
       "    <tr>\n",
       "      <th>4</th>\n",
       "      <td>45160175</td>\n",
       "      <td>multi_speaker</td>\n",
       "      <td>इनफिनिक्स का फोन टच @ _ @</td>\n",
       "      <td>इनफिनिक्स का फोन टच</td>\n",
       "      <td>इन फ्लेक्स का फोन सर्च</td>\n",
       "      <td>इंफीनिक्स का फोन चार्ज</td>\n",
       "      <td>4</td>\n",
       "      <td>2.0</td>\n",
       "      <td>0.500000</td>\n",
       "      <td>0.630442</td>\n",
       "      <td>...</td>\n",
       "      <td>इनफिनिक्स का फोन टच @ _ @</td>\n",
       "      <td>इनफिनिक्स का फोन टच</td>\n",
       "      <td>इन फ्लेक्स का फोन सर्च</td>\n",
       "      <td>इंफीनिक्स का फोन टॉर्च</td>\n",
       "      <td>4</td>\n",
       "      <td>2.0</td>\n",
       "      <td>0.500000</td>\n",
       "      <td>0.630442</td>\n",
       "      <td>0.744545</td>\n",
       "      <td>api_HI_S_29Jul20/app_1020598548_38002117232400...</td>\n",
       "    </tr>\n",
       "    <tr>\n",
       "      <th>5</th>\n",
       "      <td>45160195</td>\n",
       "      <td>multi_speaker</td>\n",
       "      <td>लहंगे बताओ @ _ बताओ @</td>\n",
       "      <td>लहंगे बताओ</td>\n",
       "      <td>लहंगे उन बताओ</td>\n",
       "      <td>लहंगे वन बताओ</td>\n",
       "      <td>2</td>\n",
       "      <td>1.0</td>\n",
       "      <td>0.500000</td>\n",
       "      <td>0.624045</td>\n",
       "      <td>...</td>\n",
       "      <td>लहंगे बताओ @ _ बताओ @</td>\n",
       "      <td>लहंगे बताओ</td>\n",
       "      <td>लहंगे उन बताओ</td>\n",
       "      <td>लहंगे उन बताओ</td>\n",
       "      <td>2</td>\n",
       "      <td>1.0</td>\n",
       "      <td>0.500000</td>\n",
       "      <td>0.624045</td>\n",
       "      <td>0.624505</td>\n",
       "      <td>api_HI_S_29Jul20/app_930255337_380021163510936...</td>\n",
       "    </tr>\n",
       "    <tr>\n",
       "      <th>6</th>\n",
       "      <td>45160213</td>\n",
       "      <td>multi_speaker</td>\n",
       "      <td>इनफिनिक्स होम थिएटर @ _ @</td>\n",
       "      <td>इनफिनिक्स होम थिएटर</td>\n",
       "      <td>इन फिनिक्स होम थेटर</td>\n",
       "      <td>इनफीनिक्स होम थेटर</td>\n",
       "      <td>3</td>\n",
       "      <td>1.0</td>\n",
       "      <td>0.333333</td>\n",
       "      <td>0.673401</td>\n",
       "      <td>...</td>\n",
       "      <td>इनफिनिक्स होम थिएटर @ _ @</td>\n",
       "      <td>इनफिनिक्स होम थिएटर</td>\n",
       "      <td>इन फिनिक्स होम थेटर</td>\n",
       "      <td>इनफीनिक्स होम थियेटर</td>\n",
       "      <td>3</td>\n",
       "      <td>1.0</td>\n",
       "      <td>0.333333</td>\n",
       "      <td>0.673401</td>\n",
       "      <td>0.752902</td>\n",
       "      <td>api_HI_S_29Jul20/app_585801316_380021154719675...</td>\n",
       "    </tr>\n",
       "    <tr>\n",
       "      <th>...</th>\n",
       "      <td>...</td>\n",
       "      <td>...</td>\n",
       "      <td>...</td>\n",
       "      <td>...</td>\n",
       "      <td>...</td>\n",
       "      <td>...</td>\n",
       "      <td>...</td>\n",
       "      <td>...</td>\n",
       "      <td>...</td>\n",
       "      <td>...</td>\n",
       "      <td>...</td>\n",
       "      <td>...</td>\n",
       "      <td>...</td>\n",
       "      <td>...</td>\n",
       "      <td>...</td>\n",
       "      <td>...</td>\n",
       "      <td>...</td>\n",
       "      <td>...</td>\n",
       "      <td>...</td>\n",
       "      <td>...</td>\n",
       "      <td>...</td>\n",
       "    </tr>\n",
       "    <tr>\n",
       "      <th>7536</th>\n",
       "      <td>46534127</td>\n",
       "      <td>multi_speaker</td>\n",
       "      <td>तीन सौ में स्कीमी कंपनी की घड़ी ब्लू एंड ब्लैक...</td>\n",
       "      <td>तीन सौ में स्कीमी कंपनी की घड़ी ब्लू एंड ब्लैक...</td>\n",
       "      <td>तीन सौ में स्कीम कंपनी की घड़ी ब्लू एंड ब्लैक ...</td>\n",
       "      <td>तीन सौ में स्कीम कंपनी की घड़ी ब्लू एंड ब्लैक ...</td>\n",
       "      <td>12</td>\n",
       "      <td>1.0</td>\n",
       "      <td>0.083333</td>\n",
       "      <td>0.760468</td>\n",
       "      <td>...</td>\n",
       "      <td>तीन सौ में स्कीमी कंपनी की घड़ी ब्लू एंड ब्लैक...</td>\n",
       "      <td>तीन सौ में स्कीमी कंपनी की घड़ी ब्लू एंड ब्लैक...</td>\n",
       "      <td>तीन सौ में स्कीम कंपनी की घड़ी ब्लू एंड ब्लैक ...</td>\n",
       "      <td>तीन सौ में स्क्रीन कंपनी की घड़ी ब्लू एंड ब्लै...</td>\n",
       "      <td>12</td>\n",
       "      <td>1.0</td>\n",
       "      <td>0.083333</td>\n",
       "      <td>0.760468</td>\n",
       "      <td>0.773920</td>\n",
       "      <td>api_HI_S_08Sep20/app_715522738_383006998664734...</td>\n",
       "    </tr>\n",
       "    <tr>\n",
       "      <th>7541</th>\n",
       "      <td>46534140</td>\n",
       "      <td>multi_speaker</td>\n",
       "      <td>@ _ @ पैंट @ पांच साल बच्चे की _ मन _ के साल ब...</td>\n",
       "      <td>पैंट</td>\n",
       "      <td>पैंट का साल अच्छे में साल बस्तारा अरे दस साल क...</td>\n",
       "      <td>पैंट का साल अच्छे में साल बस्तारा अरे दस साल क...</td>\n",
       "      <td>1</td>\n",
       "      <td>1.0</td>\n",
       "      <td>1.000000</td>\n",
       "      <td>0.481421</td>\n",
       "      <td>...</td>\n",
       "      <td>@ _ @ पैंट @ पांच साल बच्चे की _ मन _ के साल ब...</td>\n",
       "      <td>पैंट</td>\n",
       "      <td>पैंट का साल अच्छे में साल बस्तारा अरे दस साल क...</td>\n",
       "      <td>पैंट दस साल बच्चे के साल्सा अरे दस साल के बच्च...</td>\n",
       "      <td>1</td>\n",
       "      <td>1.0</td>\n",
       "      <td>1.000000</td>\n",
       "      <td>0.481421</td>\n",
       "      <td>0.628456</td>\n",
       "      <td>api_HI_S_08Sep20/app_724041822_383006997669845...</td>\n",
       "    </tr>\n",
       "    <tr>\n",
       "      <th>7549</th>\n",
       "      <td>46534170</td>\n",
       "      <td>multi_speaker</td>\n",
       "      <td>डल कपड़ा मीटर वाला किलो के हिसाब से @ _ @</td>\n",
       "      <td>डल कपड़ा मीटर वाला किलो के हिसाब से</td>\n",
       "      <td>डायल कपड़ा मीटर वाला किलो के हिसाब से</td>\n",
       "      <td>डायल कपड़ा मीटर वाला किलो के हिसाब से</td>\n",
       "      <td>8</td>\n",
       "      <td>1.0</td>\n",
       "      <td>0.125000</td>\n",
       "      <td>0.698933</td>\n",
       "      <td>...</td>\n",
       "      <td>डल कपड़ा मीटर वाला किलो के हिसाब से @ _ @</td>\n",
       "      <td>डल कपड़ा मीटर वाला किलो के हिसाब से</td>\n",
       "      <td>डायल कपड़ा मीटर वाला किलो के हिसाब से</td>\n",
       "      <td>डॉल कपड़ा मीटर वाला किलो के हिसाब से</td>\n",
       "      <td>8</td>\n",
       "      <td>1.0</td>\n",
       "      <td>0.125000</td>\n",
       "      <td>0.698933</td>\n",
       "      <td>0.737196</td>\n",
       "      <td>api_HI_S_08Sep20/app_1864986168_38300699392349...</td>\n",
       "    </tr>\n",
       "    <tr>\n",
       "      <th>7551</th>\n",
       "      <td>46534184</td>\n",
       "      <td>multi_speaker</td>\n",
       "      <td>जींस का पैंट साढ़े चार सौ से स्टार्टिंग @ _ @</td>\n",
       "      <td>जींस का पैंट साढ़े चार सौ से स्टार्टिंग</td>\n",
       "      <td>जींस का पैंट साढ़े चार सौ से स्टार्टिंग लगाती ...</td>\n",
       "      <td>जींस का पैंट साढ़े चार सौ से स्टार्टिंग लगाती ...</td>\n",
       "      <td>8</td>\n",
       "      <td>8.0</td>\n",
       "      <td>1.000000</td>\n",
       "      <td>0.659982</td>\n",
       "      <td>...</td>\n",
       "      <td>जींस का पैंट साढ़े चार सौ से स्टार्टिंग @ _ @</td>\n",
       "      <td>जींस का पैंट साढ़े चार सौ से स्टार्टिंग</td>\n",
       "      <td>जींस का पैंट साढ़े चार सौ से स्टार्टिंग लगाती ...</td>\n",
       "      <td>जींस का पैंट साढ़े चार सौ से स्टार्टिंग लगाती ...</td>\n",
       "      <td>8</td>\n",
       "      <td>8.0</td>\n",
       "      <td>1.000000</td>\n",
       "      <td>0.659982</td>\n",
       "      <td>0.710115</td>\n",
       "      <td>api_HI_S_08Sep20/app_427128522_383006993051916...</td>\n",
       "    </tr>\n",
       "    <tr>\n",
       "      <th>7552</th>\n",
       "      <td>46534196</td>\n",
       "      <td>multi_speaker</td>\n",
       "      <td>@ _ @ डी जी आई ड्रोन @ _ @</td>\n",
       "      <td>डी जी आई ड्रोन</td>\n",
       "      <td>डीजीआई ड्रोन वर्सेस</td>\n",
       "      <td>डीजीआई ड्रोन वर्सेस</td>\n",
       "      <td>4</td>\n",
       "      <td>1.0</td>\n",
       "      <td>0.250000</td>\n",
       "      <td>0.556765</td>\n",
       "      <td>...</td>\n",
       "      <td>@ _ @ डी जी आई ड्रोन @ _ @</td>\n",
       "      <td>डी जी आई ड्रोन</td>\n",
       "      <td>डीजीआई ड्रोन वर्सेस</td>\n",
       "      <td>डी जे आई ड्रोन</td>\n",
       "      <td>4</td>\n",
       "      <td>1.0</td>\n",
       "      <td>0.250000</td>\n",
       "      <td>0.556765</td>\n",
       "      <td>0.735548</td>\n",
       "      <td>api_HI_S_08Sep20/app_746984827_383006991990757...</td>\n",
       "    </tr>\n",
       "  </tbody>\n",
       "</table>\n",
       "<p>1691 rows × 23 columns</p>\n",
       "</div>"
      ],
      "text/plain": [
       "       Text_id Type_of_text_x  \\\n",
       "0     45160122  multi_speaker   \n",
       "2     45160160  multi_speaker   \n",
       "4     45160175  multi_speaker   \n",
       "5     45160195  multi_speaker   \n",
       "6     45160213  multi_speaker   \n",
       "...        ...            ...   \n",
       "7536  46534127  multi_speaker   \n",
       "7541  46534140  multi_speaker   \n",
       "7549  46534170  multi_speaker   \n",
       "7551  46534184  multi_speaker   \n",
       "7552  46534196  multi_speaker   \n",
       "\n",
       "                                               Raw_GT_x  \\\n",
       "0     @ गहरी _ @ ओप्पो ए फाइव नीला _ रंग @ _ भांगड़ा...   \n",
       "2                  टी व्हाई एम यू टाइम स्मार्टवॉच @ _ @   \n",
       "4                             इनफिनिक्स का फोन टच @ _ @   \n",
       "5                                 लहंगे बताओ @ _ बताओ @   \n",
       "6                             इनफिनिक्स होम थिएटर @ _ @   \n",
       "...                                                 ...   \n",
       "7536  तीन सौ में स्कीमी कंपनी की घड़ी ब्लू एंड ब्लैक...   \n",
       "7541  @ _ @ पैंट @ पांच साल बच्चे की _ मन _ के साल ब...   \n",
       "7549          डल कपड़ा मीटर वाला किलो के हिसाब से @ _ @   \n",
       "7551      जींस का पैंट साढ़े चार सौ से स्टार्टिंग @ _ @   \n",
       "7552                         @ _ @ डी जी आई ड्रोन @ _ @   \n",
       "\n",
       "                                                   GT_x  \\\n",
       "0                            ओप्पो ए फाइव नीला _ रंग      \n",
       "2                     टी व्हाई एम यू टाइम स्मार्टवॉच      \n",
       "4                                इनफिनिक्स का फोन टच      \n",
       "5                                         लहंगे बताओ      \n",
       "6                                इनफिनिक्स होम थिएटर      \n",
       "...                                                 ...   \n",
       "7536  तीन सौ में स्कीमी कंपनी की घड़ी ब्लू एंड ब्लैक...   \n",
       "7541                                            पैंट      \n",
       "7549             डल कपड़ा मीटर वाला किलो के हिसाब से      \n",
       "7551         जींस का पैंट साढ़े चार सौ से स्टार्टिंग      \n",
       "7552                                  डी जी आई ड्रोन      \n",
       "\n",
       "                                             utf_text_x  \\\n",
       "0     रीको फायर क्यों नहीं जा त्रीवीक्रमां कयानाकुलम...   \n",
       "2                        टी वाइ ए न्यू टाइम स्मार्ट वॉच   \n",
       "4                                इन फ्लेक्स का फोन सर्च   \n",
       "5                                         लहंगे उन बताओ   \n",
       "6                                   इन फिनिक्स होम थेटर   \n",
       "...                                                 ...   \n",
       "7536  तीन सौ में स्कीम कंपनी की घड़ी ब्लू एंड ब्लैक ...   \n",
       "7541  पैंट का साल अच्छे में साल बस्तारा अरे दस साल क...   \n",
       "7549              डायल कपड़ा मीटर वाला किलो के हिसाब से   \n",
       "7551  जींस का पैंट साढ़े चार सौ से स्टार्टिंग लगाती ...   \n",
       "7552                                डीजीआई ड्रोन वर्सेस   \n",
       "\n",
       "                             Machine_Transcribed_text_x  GT_len_x  \\\n",
       "0     कराओके ए फायर्स नीला थ्री वीरेंद्रा क्या हुआ फ...         5   \n",
       "2                      टी वाइ ए न्यू टाइम स्मार्ट वॉच           6   \n",
       "4                              इंफीनिक्स का फोन चार्ज           4   \n",
       "5                                       लहंगे वन बताओ           2   \n",
       "6                                  इनफीनिक्स होम थेटर           3   \n",
       "...                                                 ...       ...   \n",
       "7536  तीन सौ में स्कीम कंपनी की घड़ी ब्लू एंड ब्लैक ...        12   \n",
       "7541  पैंट का साल अच्छे में साल बस्तारा अरे दस साल क...         1   \n",
       "7549            डायल कपड़ा मीटर वाला किलो के हिसाब से           8   \n",
       "7551  जींस का पैंट साढ़े चार सौ से स्टार्टिंग लगाती ...         8   \n",
       "7552                              डीजीआई ड्रोन वर्सेस           4   \n",
       "\n",
       "      WER*GT_len_x     WER_x  old_confidence_x  ...  \\\n",
       "0              3.0  0.600000          0.383626  ...   \n",
       "2              2.0  0.333333          0.651470  ...   \n",
       "4              2.0  0.500000          0.630442  ...   \n",
       "5              1.0  0.500000          0.624045  ...   \n",
       "6              1.0  0.333333          0.673401  ...   \n",
       "...            ...       ...               ...  ...   \n",
       "7536           1.0  0.083333          0.760468  ...   \n",
       "7541           1.0  1.000000          0.481421  ...   \n",
       "7549           1.0  0.125000          0.698933  ...   \n",
       "7551           8.0  1.000000          0.659982  ...   \n",
       "7552           1.0  0.250000          0.556765  ...   \n",
       "\n",
       "                                               Raw_GT_y  \\\n",
       "0     @ गहरी _ @ ओप्पो ए फाइव नीला _ रंग @ _ भांगड़ा...   \n",
       "2                  टी व्हाई एम यू टाइम स्मार्टवॉच @ _ @   \n",
       "4                             इनफिनिक्स का फोन टच @ _ @   \n",
       "5                                 लहंगे बताओ @ _ बताओ @   \n",
       "6                             इनफिनिक्स होम थिएटर @ _ @   \n",
       "...                                                 ...   \n",
       "7536  तीन सौ में स्कीमी कंपनी की घड़ी ब्लू एंड ब्लैक...   \n",
       "7541  @ _ @ पैंट @ पांच साल बच्चे की _ मन _ के साल ब...   \n",
       "7549          डल कपड़ा मीटर वाला किलो के हिसाब से @ _ @   \n",
       "7551      जींस का पैंट साढ़े चार सौ से स्टार्टिंग @ _ @   \n",
       "7552                         @ _ @ डी जी आई ड्रोन @ _ @   \n",
       "\n",
       "                                                   GT_y  \\\n",
       "0                            ओप्पो ए फाइव नीला _ रंग      \n",
       "2                     टी व्हाई एम यू टाइम स्मार्टवॉच      \n",
       "4                                इनफिनिक्स का फोन टच      \n",
       "5                                         लहंगे बताओ      \n",
       "6                                इनफिनिक्स होम थिएटर      \n",
       "...                                                 ...   \n",
       "7536  तीन सौ में स्कीमी कंपनी की घड़ी ब्लू एंड ब्लैक...   \n",
       "7541                                            पैंट      \n",
       "7549             डल कपड़ा मीटर वाला किलो के हिसाब से      \n",
       "7551         जींस का पैंट साढ़े चार सौ से स्टार्टिंग      \n",
       "7552                                  डी जी आई ड्रोन      \n",
       "\n",
       "                                             utf_text_y  \\\n",
       "0     रीको फायर क्यों नहीं जा त्रीवीक्रमां कयानाकुलम...   \n",
       "2                        टी वाइ ए न्यू टाइम स्मार्ट वॉच   \n",
       "4                                इन फ्लेक्स का फोन सर्च   \n",
       "5                                         लहंगे उन बताओ   \n",
       "6                                   इन फिनिक्स होम थेटर   \n",
       "...                                                 ...   \n",
       "7536  तीन सौ में स्कीम कंपनी की घड़ी ब्लू एंड ब्लैक ...   \n",
       "7541  पैंट का साल अच्छे में साल बस्तारा अरे दस साल क...   \n",
       "7549              डायल कपड़ा मीटर वाला किलो के हिसाब से   \n",
       "7551  जींस का पैंट साढ़े चार सौ से स्टार्टिंग लगाती ...   \n",
       "7552                                डीजीआई ड्रोन वर्सेस   \n",
       "\n",
       "                             Machine_Transcribed_text_y GT_len_y WER*GT_len_y  \\\n",
       "0                       ओप्पो ए फायर्स मिला थ्री जीबी          5          3.0   \n",
       "2                      टी वाइ ए ब्लू टाइम स्मार्ट वॉच          6          2.0   \n",
       "4                              इंफीनिक्स का फोन टॉर्च          4          2.0   \n",
       "5                                       लहंगे उन बताओ          2          1.0   \n",
       "6                                इनफीनिक्स होम थियेटर          3          1.0   \n",
       "...                                                 ...      ...          ...   \n",
       "7536  तीन सौ में स्क्रीन कंपनी की घड़ी ब्लू एंड ब्लै...       12          1.0   \n",
       "7541  पैंट दस साल बच्चे के साल्सा अरे दस साल के बच्च...        1          1.0   \n",
       "7549             डॉल कपड़ा मीटर वाला किलो के हिसाब से          8          1.0   \n",
       "7551  जींस का पैंट साढ़े चार सौ से स्टार्टिंग लगाती ...        8          8.0   \n",
       "7552                                   डी जे आई ड्रोन          4          1.0   \n",
       "\n",
       "         WER_y  old_confidence_y  confidence_y  \\\n",
       "0     0.600000          0.383626      0.596144   \n",
       "2     0.333333          0.651470      0.660073   \n",
       "4     0.500000          0.630442      0.744545   \n",
       "5     0.500000          0.624045      0.624505   \n",
       "6     0.333333          0.673401      0.752902   \n",
       "...        ...               ...           ...   \n",
       "7536  0.083333          0.760468      0.773920   \n",
       "7541  1.000000          0.481421      0.628456   \n",
       "7549  0.125000          0.698933      0.737196   \n",
       "7551  1.000000          0.659982      0.710115   \n",
       "7552  0.250000          0.556765      0.735548   \n",
       "\n",
       "                                           audio_path_y  \n",
       "0     api_HI_S_29Jul20/app_1520703906_38002119216726...  \n",
       "2     api_EN_S_29Jul20/app_859062525_380021280332369...  \n",
       "4     api_HI_S_29Jul20/app_1020598548_38002117232400...  \n",
       "5     api_HI_S_29Jul20/app_930255337_380021163510936...  \n",
       "6     api_HI_S_29Jul20/app_585801316_380021154719675...  \n",
       "...                                                 ...  \n",
       "7536  api_HI_S_08Sep20/app_715522738_383006998664734...  \n",
       "7541  api_HI_S_08Sep20/app_724041822_383006997669845...  \n",
       "7549  api_HI_S_08Sep20/app_1864986168_38300699392349...  \n",
       "7551  api_HI_S_08Sep20/app_427128522_383006993051916...  \n",
       "7552  api_HI_S_08Sep20/app_746984827_383006991990757...  \n",
       "\n",
       "[1691 rows x 23 columns]"
      ]
     },
     "execution_count": 85,
     "metadata": {},
     "output_type": "execute_result"
    }
   ],
   "source": [
    "no_change[no_change.Machine_Transcribed_text_x != no_change.Machine_Transcribed_text_y]"
   ]
  },
  {
   "cell_type": "code",
   "execution_count": 47,
   "metadata": {},
   "outputs": [],
   "source": [
    "no_change_wer_but_change_in_transcribed_text = no_change[no_change.Machine_Transcribed_text_x != no_change.Machine_Transcribed_text_y]"
   ]
  },
  {
   "cell_type": "code",
   "execution_count": 109,
   "metadata": {},
   "outputs": [
    {
     "data": {
      "text/plain": [
       "<AxesSubplot:xlabel='confidence_x', ylabel='Count'>"
      ]
     },
     "execution_count": 109,
     "metadata": {},
     "output_type": "execute_result"
    },
    {
     "data": {
      "image/png": "[encoded data removed]",
      "text/plain": [
       "<Figure size 842.4x595.44 with 1 Axes>"
      ]
     },
     "metadata": {},
     "output_type": "display_data"
    }
   ],
   "source": [
    "sns.histplot(no_change_wer_but_change_in_transcribed_text.confidence_x, color='red')\n",
    "sns.histplot(no_change_wer_but_change_in_transcribed_text.confidence_y, color='green')"
   ]
  },
  {
   "cell_type": "code",
   "execution_count": 54,
   "metadata": {},
   "outputs": [],
   "source": [
    "no_change_wer_no_change_in_ptext = no_change[no_change.Machine_Transcribed_text_x == no_change.Machine_Transcribed_text_y]\n"
   ]
  },
  {
   "cell_type": "code",
   "execution_count": 110,
   "metadata": {},
   "outputs": [
    {
     "data": {
      "text/plain": [
       "<AxesSubplot:xlabel='confidence_x', ylabel='Count'>"
      ]
     },
     "execution_count": 110,
     "metadata": {},
     "output_type": "execute_result"
    },
    {
     "data": {
      "image/png": "[encoded data removed]",
      "text/plain": [
       "<Figure size 842.4x595.44 with 1 Axes>"
      ]
     },
     "metadata": {},
     "output_type": "display_data"
    }
   ],
   "source": [
    "sns.histplot(no_change_wer_no_change_in_ptext.confidence_x, color='red')\n",
    "sns.histplot(no_change_wer_no_change_in_ptext.confidence_y, color='green')"
   ]
  },
  {
   "cell_type": "code",
   "execution_count": null,
   "metadata": {},
   "outputs": [],
   "source": []
  }
 ],
 "metadata": {
  "kernelspec": {
   "display_name": "Python 3",
   "language": "python",
   "name": "python3"
  },
  "language_info": {
   "codemirror_mode": {
    "name": "ipython",
    "version": 3
   },
   "file_extension": ".py",
   "mimetype": "text/x-python",
   "name": "python",
   "nbconvert_exporter": "python",
   "pygments_lexer": "ipython3",
   "version": "3.8.3"
  }
 },
 "nbformat": 4,
 "nbformat_minor": 4
}
