{
 "cells": [
  {
   "cell_type": "code",
   "execution_count": 1,
   "metadata": {},
   "outputs": [],
   "source": [
    "import pandas as pd\n",
    "import seaborn as sns\n",
    "\n",
    "sns.set_style(\"darkgrid\")\n",
    "sns.set(rc={'figure.figsize':(11.7,8.27)})\n",
    "\n",
    "from matplotlib import pyplot as plt"
   ]
  },
  {
   "cell_type": "code",
   "execution_count": 2,
   "metadata": {},
   "outputs": [
    {
     "data": {
      "text/plain": [
       "'0.11.0'"
      ]
     },
     "execution_count": 2,
     "metadata": {},
     "output_type": "execute_result"
    }
   ],
   "source": [
    "sns.__version__"
   ]
  },
  {
   "cell_type": "markdown",
   "metadata": {},
   "source": [
    "# Get Data"
   ]
  },
  {
   "cell_type": "code",
   "execution_count": 44,
   "metadata": {},
   "outputs": [],
   "source": [
    "oa_ol = pd.read_csv(\"/shared/suryansh.tiwari/output_csv/HI_FA_random_5k_data.txt\")  # baseline\n",
    "na_nl = pd.read_csv(\"/shared/suryansh.tiwari/output_csv/HI_FA_EP6_lm_random_5k_data.txt\")  # best model"
   ]
  },
  {
   "cell_type": "markdown",
   "metadata": {},
   "source": [
    "#### Sanity check that both model comparison was done on the same data"
   ]
  },
  {
   "cell_type": "code",
   "execution_count": 4,
   "metadata": {},
   "outputs": [
    {
     "data": {
      "text/plain": [
       "True"
      ]
     },
     "execution_count": 4,
     "metadata": {},
     "output_type": "execute_result"
    }
   ],
   "source": [
    "(oa_ol.Text_id == na_nl.Text_id).all()"
   ]
  },
  {
   "cell_type": "markdown",
   "metadata": {},
   "source": [
    "# Confidence Plots"
   ]
  },
  {
   "cell_type": "markdown",
   "metadata": {},
   "source": [
    "# Baseline vs BestModel"
   ]
  },
  {
   "cell_type": "code",
   "execution_count": 45,
   "metadata": {},
   "outputs": [
    {
     "name": "stderr",
     "output_type": "stream",
     "text": [
      "No handles with labels found to put in legend.\n",
      "No handles with labels found to put in legend.\n"
     ]
    },
    {
     "data": {
      "text/plain": [
       "<matplotlib.legend.Legend at 0x7f115f4373a0>"
      ]
     },
     "execution_count": 45,
     "metadata": {},
     "output_type": "execute_result"
    },
    {
     "data": {
      "image/png": "[encoded data removed]",
      "text/plain": [
       "<Figure size 842.4x595.44 with 1 Axes>"
      ]
     },
     "metadata": {},
     "output_type": "display_data"
    }
   ],
   "source": [
    "sns.histplot(oa_ol[oa_ol.Type_of_text==\"primary_speaker\"], x=\"confidence\", color=\"red\", label=\"baseline_confidence\", hue=\"Type_of_text\", multiple=\"dodge\")\n",
    "plt.legend()\n",
    "sns.histplot(na_nl[na_nl.Type_of_text==\"primary_speaker\"], x=\"confidence\", color=\"red\", label=\"best_model_confidence\", hue=\"Type_of_text\", multiple=\"dodge\")\n",
    "plt.legend()"
   ]
  },
  {
   "cell_type": "code",
   "execution_count": 34,
   "metadata": {},
   "outputs": [
    {
     "data": {
      "text/plain": [
       "\u001b[0;31mSignature:\u001b[0m\n",
       "\u001b[0msns\u001b[0m\u001b[0;34m.\u001b[0m\u001b[0mhistplot\u001b[0m\u001b[0;34m(\u001b[0m\u001b[0;34m\u001b[0m\n",
       "\u001b[0;34m\u001b[0m    \u001b[0mdata\u001b[0m\u001b[0;34m=\u001b[0m\u001b[0;32mNone\u001b[0m\u001b[0;34m,\u001b[0m\u001b[0;34m\u001b[0m\n",
       "\u001b[0;34m\u001b[0m    \u001b[0;34m*\u001b[0m\u001b[0;34m,\u001b[0m\u001b[0;34m\u001b[0m\n",
       "\u001b[0;34m\u001b[0m    \u001b[0mx\u001b[0m\u001b[0;34m=\u001b[0m\u001b[0;32mNone\u001b[0m\u001b[0;34m,\u001b[0m\u001b[0;34m\u001b[0m\n",
       "\u001b[0;34m\u001b[0m    \u001b[0my\u001b[0m\u001b[0;34m=\u001b[0m\u001b[0;32mNone\u001b[0m\u001b[0;34m,\u001b[0m\u001b[0;34m\u001b[0m\n",
       "\u001b[0;34m\u001b[0m    \u001b[0mhue\u001b[0m\u001b[0;34m=\u001b[0m\u001b[0;32mNone\u001b[0m\u001b[0;34m,\u001b[0m\u001b[0;34m\u001b[0m\n",
       "\u001b[0;34m\u001b[0m    \u001b[0mweights\u001b[0m\u001b[0;34m=\u001b[0m\u001b[0;32mNone\u001b[0m\u001b[0;34m,\u001b[0m\u001b[0;34m\u001b[0m\n",
       "\u001b[0;34m\u001b[0m    \u001b[0mstat\u001b[0m\u001b[0;34m=\u001b[0m\u001b[0;34m'count'\u001b[0m\u001b[0;34m,\u001b[0m\u001b[0;34m\u001b[0m\n",
       "\u001b[0;34m\u001b[0m    \u001b[0mbins\u001b[0m\u001b[0;34m=\u001b[0m\u001b[0;34m'auto'\u001b[0m\u001b[0;34m,\u001b[0m\u001b[0;34m\u001b[0m\n",
       "\u001b[0;34m\u001b[0m    \u001b[0mbinwidth\u001b[0m\u001b[0;34m=\u001b[0m\u001b[0;32mNone\u001b[0m\u001b[0;34m,\u001b[0m\u001b[0;34m\u001b[0m\n",
       "\u001b[0;34m\u001b[0m    \u001b[0mbinrange\u001b[0m\u001b[0;34m=\u001b[0m\u001b[0;32mNone\u001b[0m\u001b[0;34m,\u001b[0m\u001b[0;34m\u001b[0m\n",
       "\u001b[0;34m\u001b[0m    \u001b[0mdiscrete\u001b[0m\u001b[0;34m=\u001b[0m\u001b[0;32mNone\u001b[0m\u001b[0;34m,\u001b[0m\u001b[0;34m\u001b[0m\n",
       "\u001b[0;34m\u001b[0m    \u001b[0mcumulative\u001b[0m\u001b[0;34m=\u001b[0m\u001b[0;32mFalse\u001b[0m\u001b[0;34m,\u001b[0m\u001b[0;34m\u001b[0m\n",
       "\u001b[0;34m\u001b[0m    \u001b[0mcommon_bins\u001b[0m\u001b[0;34m=\u001b[0m\u001b[0;32mTrue\u001b[0m\u001b[0;34m,\u001b[0m\u001b[0;34m\u001b[0m\n",
       "\u001b[0;34m\u001b[0m    \u001b[0mcommon_norm\u001b[0m\u001b[0;34m=\u001b[0m\u001b[0;32mTrue\u001b[0m\u001b[0;34m,\u001b[0m\u001b[0;34m\u001b[0m\n",
       "\u001b[0;34m\u001b[0m    \u001b[0mmultiple\u001b[0m\u001b[0;34m=\u001b[0m\u001b[0;34m'layer'\u001b[0m\u001b[0;34m,\u001b[0m\u001b[0;34m\u001b[0m\n",
       "\u001b[0;34m\u001b[0m    \u001b[0melement\u001b[0m\u001b[0;34m=\u001b[0m\u001b[0;34m'bars'\u001b[0m\u001b[0;34m,\u001b[0m\u001b[0;34m\u001b[0m\n",
       "\u001b[0;34m\u001b[0m    \u001b[0mfill\u001b[0m\u001b[0;34m=\u001b[0m\u001b[0;32mTrue\u001b[0m\u001b[0;34m,\u001b[0m\u001b[0;34m\u001b[0m\n",
       "\u001b[0;34m\u001b[0m    \u001b[0mshrink\u001b[0m\u001b[0;34m=\u001b[0m\u001b[0;36m1\u001b[0m\u001b[0;34m,\u001b[0m\u001b[0;34m\u001b[0m\n",
       "\u001b[0;34m\u001b[0m    \u001b[0mkde\u001b[0m\u001b[0;34m=\u001b[0m\u001b[0;32mFalse\u001b[0m\u001b[0;34m,\u001b[0m\u001b[0;34m\u001b[0m\n",
       "\u001b[0;34m\u001b[0m    \u001b[0mkde_kws\u001b[0m\u001b[0;34m=\u001b[0m\u001b[0;32mNone\u001b[0m\u001b[0;34m,\u001b[0m\u001b[0;34m\u001b[0m\n",
       "\u001b[0;34m\u001b[0m    \u001b[0mline_kws\u001b[0m\u001b[0;34m=\u001b[0m\u001b[0;32mNone\u001b[0m\u001b[0;34m,\u001b[0m\u001b[0;34m\u001b[0m\n",
       "\u001b[0;34m\u001b[0m    \u001b[0mthresh\u001b[0m\u001b[0;34m=\u001b[0m\u001b[0;36m0\u001b[0m\u001b[0;34m,\u001b[0m\u001b[0;34m\u001b[0m\n",
       "\u001b[0;34m\u001b[0m    \u001b[0mpthresh\u001b[0m\u001b[0;34m=\u001b[0m\u001b[0;32mNone\u001b[0m\u001b[0;34m,\u001b[0m\u001b[0;34m\u001b[0m\n",
       "\u001b[0;34m\u001b[0m    \u001b[0mpmax\u001b[0m\u001b[0;34m=\u001b[0m\u001b[0;32mNone\u001b[0m\u001b[0;34m,\u001b[0m\u001b[0;34m\u001b[0m\n",
       "\u001b[0;34m\u001b[0m    \u001b[0mcbar\u001b[0m\u001b[0;34m=\u001b[0m\u001b[0;32mFalse\u001b[0m\u001b[0;34m,\u001b[0m\u001b[0;34m\u001b[0m\n",
       "\u001b[0;34m\u001b[0m    \u001b[0mcbar_ax\u001b[0m\u001b[0;34m=\u001b[0m\u001b[0;32mNone\u001b[0m\u001b[0;34m,\u001b[0m\u001b[0;34m\u001b[0m\n",
       "\u001b[0;34m\u001b[0m    \u001b[0mcbar_kws\u001b[0m\u001b[0;34m=\u001b[0m\u001b[0;32mNone\u001b[0m\u001b[0;34m,\u001b[0m\u001b[0;34m\u001b[0m\n",
       "\u001b[0;34m\u001b[0m    \u001b[0mpalette\u001b[0m\u001b[0;34m=\u001b[0m\u001b[0;32mNone\u001b[0m\u001b[0;34m,\u001b[0m\u001b[0;34m\u001b[0m\n",
       "\u001b[0;34m\u001b[0m    \u001b[0mhue_order\u001b[0m\u001b[0;34m=\u001b[0m\u001b[0;32mNone\u001b[0m\u001b[0;34m,\u001b[0m\u001b[0;34m\u001b[0m\n",
       "\u001b[0;34m\u001b[0m    \u001b[0mhue_norm\u001b[0m\u001b[0;34m=\u001b[0m\u001b[0;32mNone\u001b[0m\u001b[0;34m,\u001b[0m\u001b[0;34m\u001b[0m\n",
       "\u001b[0;34m\u001b[0m    \u001b[0mcolor\u001b[0m\u001b[0;34m=\u001b[0m\u001b[0;32mNone\u001b[0m\u001b[0;34m,\u001b[0m\u001b[0;34m\u001b[0m\n",
       "\u001b[0;34m\u001b[0m    \u001b[0mlog_scale\u001b[0m\u001b[0;34m=\u001b[0m\u001b[0;32mNone\u001b[0m\u001b[0;34m,\u001b[0m\u001b[0;34m\u001b[0m\n",
       "\u001b[0;34m\u001b[0m    \u001b[0mlegend\u001b[0m\u001b[0;34m=\u001b[0m\u001b[0;32mTrue\u001b[0m\u001b[0;34m,\u001b[0m\u001b[0;34m\u001b[0m\n",
       "\u001b[0;34m\u001b[0m    \u001b[0max\u001b[0m\u001b[0;34m=\u001b[0m\u001b[0;32mNone\u001b[0m\u001b[0;34m,\u001b[0m\u001b[0;34m\u001b[0m\n",
       "\u001b[0;34m\u001b[0m    \u001b[0;34m**\u001b[0m\u001b[0mkwargs\u001b[0m\u001b[0;34m,\u001b[0m\u001b[0;34m\u001b[0m\n",
       "\u001b[0;34m\u001b[0m\u001b[0;34m)\u001b[0m\u001b[0;34m\u001b[0m\u001b[0;34m\u001b[0m\u001b[0m\n",
       "\u001b[0;31mDocstring:\u001b[0m\n",
       "Plot univariate or bivariate histograms to show distributions of datasets.\n",
       "\n",
       "A histogram is a classic visualization tool that represents the distribution\n",
       "of one or more variables by counting the number of observations that fall within\n",
       "disrete bins.\n",
       "\n",
       "This function can normalize the statistic computed within each bin to estimate\n",
       "frequency, density or probability mass, and it can add a smooth curve obtained\n",
       "using a kernel density estimate, similar to :func:`kdeplot`.\n",
       "\n",
       "More information is provided in the :ref:`user guide <tutorial_hist>`.\n",
       "\n",
       "Parameters\n",
       "----------\n",
       "data : :class:`pandas.DataFrame`, :class:`numpy.ndarray`, mapping, or sequence\n",
       "    Input data structure. Either a long-form collection of vectors that can be\n",
       "    assigned to named variables or a wide-form dataset that will be internally\n",
       "    reshaped.\n",
       "x, y : vectors or keys in ``data``\n",
       "    Variables that specify positions on the x and y axes.\n",
       "hue : vector or key in ``data``\n",
       "    Semantic variable that is mapped to determine the color of plot elements.\n",
       "weights : vector or key in ``data``\n",
       "    If provided, weight the contribution of the corresponding data points\n",
       "    towards the count in each bin by these factors.\n",
       "stat : {\"count\", \"frequency\", \"density\", \"probability\"}\n",
       "    Aggregate statistic to compute in each bin.\n",
       "    \n",
       "    - ``count`` shows the number of observations\n",
       "    - ``frequency`` shows the number of observations divided by the bin width\n",
       "    - ``density`` normalizes counts so that the area of the histogram is 1\n",
       "    - ``probability`` normalizes counts so that the sum of the bar heights is 1\n",
       "bins : str, number, vector, or a pair of such values\n",
       "    Generic bin parameter that can be the name of a reference rule,\n",
       "    the number of bins, or the breaks of the bins.\n",
       "    Passed to :func:`numpy.histogram_bin_edges`.\n",
       "binwidth : number or pair of numbers\n",
       "    Width of each bin, overrides ``bins`` but can be used with\n",
       "    ``binrange``.\n",
       "binrange : pair of numbers or a pair of pairs\n",
       "    Lowest and highest value for bin edges; can be used either\n",
       "    with ``bins`` or ``binwidth``. Defaults to data extremes.\n",
       "discrete : bool\n",
       "    If True, default to ``binwidth=1`` and draw the bars so that they are\n",
       "    centered on their corresponding data points. This avoids \"gaps\" that may\n",
       "    otherwise appear when using discrete (integer) data.\n",
       "cumulative : bool\n",
       "    If True, plot the cumulative counts as bins increase.\n",
       "common_bins : bool\n",
       "    If True, use the same bins when semantic variables produce multiple\n",
       "    plots. If using a reference rule to determine the bins, it will be computed\n",
       "    with the full dataset.\n",
       "common_norm : bool\n",
       "    If True and using a normalized statistic, the normalization will apply over\n",
       "    the full dataset. Otherwise, normalize each histogram independently.\n",
       "multiple : {\"layer\", \"dodge\", \"stack\", \"fill\"}\n",
       "    Approach to resolving multiple elements when semantic mapping creates subsets.\n",
       "    Only relevant with univariate data.\n",
       "element : {\"bars\", \"step\", \"poly\"}\n",
       "    Visual representation of the histogram statistic.\n",
       "    Only relevant with univariate data.\n",
       "fill : bool\n",
       "    If True, fill in the space under the histogram.\n",
       "    Only relevant with univariate data.\n",
       "shrink : number\n",
       "    Scale the width of each bar relative to the binwidth by this factor.\n",
       "    Only relevant with univariate data.\n",
       "kde : bool\n",
       "    If True, compute a kernel density estimate to smooth the distribution\n",
       "    and show on the plot as (one or more) line(s).\n",
       "    Only relevant with univariate data.\n",
       "kde_kws : dict\n",
       "    Parameters that control the KDE computation, as in :func:`kdeplot`.\n",
       "line_kws : dict\n",
       "    Parameters that control the KDE visualization, passed to\n",
       "    :meth:`matplotlib.axes.Axes.plot`.\n",
       "thresh : number or None\n",
       "    Cells with a statistic less than or equal to this value will be transparent.\n",
       "    Only relevant with bivariate data.\n",
       "pthresh : number or None\n",
       "    Like ``thresh``, but a value in [0, 1] such that cells with aggregate counts\n",
       "    (or other statistics, when used) up to this proportion of the total will be\n",
       "    transparent.\n",
       "pmax : number or None\n",
       "    A value in [0, 1] that sets that saturation point for the colormap at a value\n",
       "    such that cells below is constistute this proportion of the total count (or\n",
       "    other statistic, when used).\n",
       "cbar : bool\n",
       "    If True, add a colorbar to annotate the color mapping in a bivariate plot.\n",
       "    Note: Does not currently support plots with a ``hue`` variable well.\n",
       "cbar_ax : :class:`matplotlib.axes.Axes`\n",
       "    Pre-existing axes for the colorbar.\n",
       "cbar_kws : dict\n",
       "    Additional parameters passed to :meth:`matplotlib.figure.Figure.colorbar`.\n",
       "palette : string, list, dict, or :class:`matplotlib.colors.Colormap`\n",
       "    Method for choosing the colors to use when mapping the ``hue`` semantic.\n",
       "    String values are passed to :func:`color_palette`. List or dict values\n",
       "    imply categorical mapping, while a colormap object implies numeric mapping.\n",
       "hue_order : vector of strings\n",
       "    Specify the order of processing and plotting for categorical levels of the\n",
       "    ``hue`` semantic.\n",
       "hue_norm : tuple or :class:`matplotlib.colors.Normalize`\n",
       "    Either a pair of values that set the normalization range in data units\n",
       "    or an object that will map from data units into a [0, 1] interval. Usage\n",
       "    implies numeric mapping.\n",
       "color : :mod:`matplotlib color <matplotlib.colors>`\n",
       "    Single color specification for when hue mapping is not used. Otherwise, the\n",
       "    plot will try to hook into the matplotlib property cycle.\n",
       "log_scale : bool or number, or pair of bools or numbers\n",
       "    Set a log scale on the data axis (or axes, with bivariate data) with the\n",
       "    given base (default 10), and evaluate the KDE in log space.\n",
       "legend : bool\n",
       "    If False, suppress the legend for semantic variables.\n",
       "ax : :class:`matplotlib.axes.Axes`\n",
       "    Pre-existing axes for the plot. Otherwise, call :func:`matplotlib.pyplot.gca`\n",
       "    internally.\n",
       "kwargs\n",
       "    Other keyword arguments are passed to one of the following matplotlib\n",
       "    functions:\n",
       "\n",
       "    - :meth:`matplotlib.axes.Axes.bar` (univariate, element=\"bars\")\n",
       "    - :meth:`matplotlib.axes.Axes.fill_between` (univariate, other element, fill=True)\n",
       "    - :meth:`matplotlib.axes.Axes.plot` (univariate, other element, fill=False)\n",
       "    - :meth:`matplotlib.axes.Axes.pcolormesh` (bivariate)\n",
       "\n",
       "Returns\n",
       "-------\n",
       ":class:`matplotlib.axes.Axes`\n",
       "    The matplotlib axes containing the plot.\n",
       "\n",
       "See Also\n",
       "--------\n",
       "displot : Figure-level interface to distribution plot functions.\n",
       "kdeplot : Plot univariate or bivariate distributions using kernel density estimation.\n",
       "rugplot : Plot a tick at each observation value along the x and/or y axes.\n",
       "ecdfplot : Plot empirical cumulative distribution functions.\n",
       "jointplot : Draw a bivariate plot with univariate marginal distributions.\n",
       "\n",
       "Notes\n",
       "-----\n",
       "\n",
       "The choice of bins for computing and plotting a histogram can exert\n",
       "substantial influence on the insights that one is able to draw from the\n",
       "visualization. If the bins are too large, they may erase important features.\n",
       "On the other hand, bins that are too small may be dominated by random\n",
       "variability, obscuring the shape of the true underlying distribution. The\n",
       "default bin size is determined using a reference rule that depends on the\n",
       "sample size and variance. This works well in many cases, (i.e., with\n",
       "\"well-behaved\" data) but it fails in others. It is always a good to try\n",
       "different bin sizes to be sure that you are not missing something important.\n",
       "This function allows you to specify bins in several different ways, such as\n",
       "by setting the total number of bins to use, the width of each bin, or the\n",
       "specific locations where the bins should break.\n",
       "\n",
       "Examples\n",
       "--------\n",
       "\n",
       "See the API documentation for the axes-level functions for more details\n",
       "about the breadth of options available for each plot kind.\n",
       "\n",
       ".. include:: ../docstrings/histplot.rst\n",
       "\u001b[0;31mFile:\u001b[0m      ~/miniconda3/lib/python3.8/site-packages/seaborn/distributions.py\n",
       "\u001b[0;31mType:\u001b[0m      function\n"
      ]
     },
     "metadata": {},
     "output_type": "display_data"
    }
   ],
   "source": [
    "sns.histplot?"
   ]
  },
  {
   "cell_type": "code",
   "execution_count": 24,
   "metadata": {},
   "outputs": [
    {
     "name": "stderr",
     "output_type": "stream",
     "text": [
      "/home/karan.verma/miniconda3/lib/python3.8/site-packages/seaborn/distributions.py:2551: FutureWarning: `distplot` is a deprecated function and will be removed in a future version. Please adapt your code to use either `displot` (a figure-level function with similar flexibility) or `histplot` (an axes-level function for histograms).\n",
      "  warnings.warn(msg, FutureWarning)\n",
      "/home/karan.verma/miniconda3/lib/python3.8/site-packages/seaborn/distributions.py:2551: FutureWarning: `distplot` is a deprecated function and will be removed in a future version. Please adapt your code to use either `displot` (a figure-level function with similar flexibility) or `histplot` (an axes-level function for histograms).\n",
      "  warnings.warn(msg, FutureWarning)\n"
     ]
    },
    {
     "data": {
      "text/plain": [
       "<matplotlib.legend.Legend at 0x7f115f85d550>"
      ]
     },
     "execution_count": 24,
     "metadata": {},
     "output_type": "execute_result"
    },
    {
     "data": {
      "image/png": "[encoded data removed]",
      "text/plain": [
       "<Figure size 842.4x595.44 with 1 Axes>"
      ]
     },
     "metadata": {},
     "output_type": "display_data"
    }
   ],
   "source": [
    "sns.distplot(na_nl.WER, color=\"green\", label=\"best_model_confidence\")\n",
    "sns.distplot(oa_ol.WER, color=\"red\", label=\"baseline_confidence\")\n",
    "#sns.distplot(na_nl.old_confidence, color=\"yellow\", label=\"baseline_confidence\")\n",
    "plt.legend()"
   ]
  },
  {
   "cell_type": "markdown",
   "metadata": {},
   "source": [
    "# Type of text"
   ]
  },
  {
   "cell_type": "code",
   "execution_count": 51,
   "metadata": {},
   "outputs": [
    {
     "data": {
      "text/plain": [
       "<AxesSubplot:xlabel='Type_of_text', ylabel='count'>"
      ]
     },
     "execution_count": 51,
     "metadata": {},
     "output_type": "execute_result"
    },
    {
     "data": {
      "image/png": "[encoded data removed]",
      "text/plain": [
       "<Figure size 842.4x595.44 with 1 Axes>"
      ]
     },
     "metadata": {},
     "output_type": "display_data"
    }
   ],
   "source": [
    "sns.countplot(x=\"Type_of_text\", data=na_nl)"
   ]
  },
  {
   "cell_type": "code",
   "execution_count": 52,
   "metadata": {},
   "outputs": [
    {
     "data": {
      "text/plain": [
       "<AxesSubplot:xlabel='Type_of_text', ylabel='count'>"
      ]
     },
     "execution_count": 52,
     "metadata": {},
     "output_type": "execute_result"
    },
    {
     "data": {
      "image/png": "[encoded data removed]",
      "text/plain": [
       "<Figure size 842.4x595.44 with 1 Axes>"
      ]
     },
     "metadata": {},
     "output_type": "display_data"
    }
   ],
   "source": [
    "sns.countplot(x=\"Type_of_text\", data=oa_ol)"
   ]
  },
  {
   "cell_type": "code",
   "execution_count": 49,
   "metadata": {},
   "outputs": [
    {
     "data": {
      "text/plain": [
       "Index(['Tag', 'Text_id', 'Type_of_text', 'Raw_GT', 'GT', 'GT(english)',\n",
       "       'utf_text', 'Machine_Transcribed_text',\n",
       "       'Machine_Transcribed_text(English)', 'GT_len', 'Total_edit', 'WER',\n",
       "       'WER*GT_len', 'GT_char_len', 'Total_char_edit', 'CER',\n",
       "       'CER*GT_char_len', 'confidence', 'old_confidence', 'audio_path',\n",
       "       'HI_FA_EP6', '3'],\n",
       "      dtype='object')"
      ]
     },
     "execution_count": 49,
     "metadata": {},
     "output_type": "execute_result"
    }
   ],
   "source": [
    "na_nl.columns"
   ]
  },
  {
   "cell_type": "code",
   "execution_count": null,
   "metadata": {},
   "outputs": [],
   "source": []
  }
 ],
 "metadata": {
  "kernelspec": {
   "display_name": "Python 3",
   "language": "python",
   "name": "python3"
  },
  "language_info": {
   "codemirror_mode": {
    "name": "ipython",
    "version": 3
   },
   "file_extension": ".py",
   "mimetype": "text/x-python",
   "name": "python",
   "nbconvert_exporter": "python",
   "pygments_lexer": "ipython3",
   "version": "3.8.3"
  }
 },
 "nbformat": 4,
 "nbformat_minor": 4
}
