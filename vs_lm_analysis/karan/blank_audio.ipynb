{
 "cells": [
  {
   "cell_type": "code",
   "execution_count": 1,
   "metadata": {},
   "outputs": [],
   "source": [
    "import pandas as pd\n",
    "import seaborn as sns"
   ]
  },
  {
   "cell_type": "code",
   "execution_count": 10,
   "metadata": {},
   "outputs": [],
   "source": [
    "blank = pd.read_csv(\"/shared/suryansh.tiwari/output.txt\", sep='|', header=None)"
   ]
  },
  {
   "cell_type": "code",
   "execution_count": 11,
   "metadata": {},
   "outputs": [
    {
     "data": {
      "text/html": [
       "<div>\n",
       "<style scoped>\n",
       "    .dataframe tbody tr th:only-of-type {\n",
       "        vertical-align: middle;\n",
       "    }\n",
       "\n",
       "    .dataframe tbody tr th {\n",
       "        vertical-align: top;\n",
       "    }\n",
       "\n",
       "    .dataframe thead th {\n",
       "        text-align: right;\n",
       "    }\n",
       "</style>\n",
       "<table border=\"1\" class=\"dataframe\">\n",
       "  <thead>\n",
       "    <tr style=\"text-align: right;\">\n",
       "      <th></th>\n",
       "      <th>0</th>\n",
       "      <th>1</th>\n",
       "      <th>2</th>\n",
       "      <th>3</th>\n",
       "      <th>4</th>\n",
       "      <th>5</th>\n",
       "      <th>6</th>\n",
       "    </tr>\n",
       "  </thead>\n",
       "  <tbody>\n",
       "    <tr>\n",
       "      <th>0</th>\n",
       "      <td>350</td>\n",
       "      <td>48477940</td>\n",
       "      <td>___</td>\n",
       "      <td>NaN</td>\n",
       "      <td>0.874107</td>\n",
       "      <td>2020-10-08 13:14:11</td>\n",
       "      <td>/shared3/all_transcription_flacs/gluster_share...</td>\n",
       "    </tr>\n",
       "    <tr>\n",
       "      <th>1</th>\n",
       "      <td>350</td>\n",
       "      <td>48477987</td>\n",
       "      <td>___</td>\n",
       "      <td>NaN</td>\n",
       "      <td>0.838727</td>\n",
       "      <td>2020-10-08 17:35:40</td>\n",
       "      <td>/shared3/all_transcription_flacs/gluster_share...</td>\n",
       "    </tr>\n",
       "    <tr>\n",
       "      <th>2</th>\n",
       "      <td>350</td>\n",
       "      <td>48478000</td>\n",
       "      <td>___</td>\n",
       "      <td>NaN</td>\n",
       "      <td>0.874107</td>\n",
       "      <td>2020-10-08 13:32:52</td>\n",
       "      <td>/shared3/all_transcription_flacs/gluster_share...</td>\n",
       "    </tr>\n",
       "    <tr>\n",
       "      <th>3</th>\n",
       "      <td>350</td>\n",
       "      <td>48478011</td>\n",
       "      <td>_</td>\n",
       "      <td>NaN</td>\n",
       "      <td>0.874107</td>\n",
       "      <td>2020-10-08 11:08:35</td>\n",
       "      <td>/shared3/all_transcription_flacs/gluster_share...</td>\n",
       "    </tr>\n",
       "    <tr>\n",
       "      <th>4</th>\n",
       "      <td>350</td>\n",
       "      <td>48478043</td>\n",
       "      <td>_</td>\n",
       "      <td>NaN</td>\n",
       "      <td>0.874107</td>\n",
       "      <td>2020-10-08 17:16:55</td>\n",
       "      <td>/shared3/all_transcription_flacs/gluster_share...</td>\n",
       "    </tr>\n",
       "  </tbody>\n",
       "</table>\n",
       "</div>"
      ],
      "text/plain": [
       "     0         1    2    3         4                    5  \\\n",
       "0  350  48477940  ___  NaN  0.874107  2020-10-08 13:14:11   \n",
       "1  350  48477987  ___  NaN  0.838727  2020-10-08 17:35:40   \n",
       "2  350  48478000  ___  NaN  0.874107  2020-10-08 13:32:52   \n",
       "3  350  48478011    _  NaN  0.874107  2020-10-08 11:08:35   \n",
       "4  350  48478043    _  NaN  0.874107  2020-10-08 17:16:55   \n",
       "\n",
       "                                                   6  \n",
       "0  /shared3/all_transcription_flacs/gluster_share...  \n",
       "1  /shared3/all_transcription_flacs/gluster_share...  \n",
       "2  /shared3/all_transcription_flacs/gluster_share...  \n",
       "3  /shared3/all_transcription_flacs/gluster_share...  \n",
       "4  /shared3/all_transcription_flacs/gluster_share...  "
      ]
     },
     "execution_count": 11,
     "metadata": {},
     "output_type": "execute_result"
    }
   ],
   "source": [
    "blank.head()"
   ]
  },
  {
   "cell_type": "code",
   "execution_count": 15,
   "metadata": {},
   "outputs": [],
   "source": [
    "blank_non_nan = blank[3].dropna()"
   ]
  },
  {
   "cell_type": "code",
   "execution_count": 16,
   "metadata": {},
   "outputs": [
    {
     "data": {
      "text/plain": [
       "16                 गर्ल्स\n",
       "20          चॉकलेट चॉकलेट\n",
       "23           कॉटन ग्राउंड\n",
       "24                    माई\n",
       "25     वाटरप्रूफ लोफर शूज\n",
       "              ...        \n",
       "575             क्या बेयर\n",
       "576                 सेक्स\n",
       "577         किट अच्छा चूज\n",
       "579                   कैन\n",
       "580                   मेन\n",
       "Name: 3, Length: 269, dtype: object"
      ]
     },
     "execution_count": 16,
     "metadata": {},
     "output_type": "execute_result"
    }
   ],
   "source": [
    "blank_non_nan"
   ]
  },
  {
   "cell_type": "code",
   "execution_count": null,
   "metadata": {},
   "outputs": [],
   "source": []
  }
 ],
 "metadata": {
  "kernelspec": {
   "display_name": "Python 3",
   "language": "python",
   "name": "python3"
  },
  "language_info": {
   "codemirror_mode": {
    "name": "ipython",
    "version": 3
   },
   "file_extension": ".py",
   "mimetype": "text/x-python",
   "name": "python",
   "nbconvert_exporter": "python",
   "pygments_lexer": "ipython3",
   "version": "3.8.3"
  }
 },
 "nbformat": 4,
 "nbformat_minor": 4
}
