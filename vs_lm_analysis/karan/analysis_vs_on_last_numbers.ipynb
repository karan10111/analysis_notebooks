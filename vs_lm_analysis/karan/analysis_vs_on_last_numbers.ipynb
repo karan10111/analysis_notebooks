{
 "cells": [
  {
   "cell_type": "code",
   "execution_count": 47,
   "metadata": {},
   "outputs": [],
   "source": [
    "import pandas as pd\n",
    "import seaborn as sns\n",
    "import pickle\n",
    "import json"
   ]
  },
  {
   "cell_type": "code",
   "execution_count": 3,
   "metadata": {},
   "outputs": [
    {
     "name": "stdout",
     "output_type": "stream",
     "text": [
      "final_output1_1.csv  final_output_1.csv\n",
      "final_output1_2.csv  final_output_2.csv\n"
     ]
    }
   ],
   "source": [
    "!ls /shared/suryansh.tiwari/final_out"
   ]
  },
  {
   "cell_type": "code",
   "execution_count": 4,
   "metadata": {},
   "outputs": [],
   "source": [
    "final_output1_1 = pd.read_csv(\"/shared/suryansh.tiwari/final_out/final_output1_1.csv\", header=None)\n",
    "na_nl_more = pd.read_csv(filepath_or_buffer=\"/home/karan.verma/more_data_na_nl.csv\")\n",
    "final_output1_1.columns = [\"TAG\", \"Text_id\", \"GT\", \"Predicted_text\", \"GT_len\", \"Edits\", \"WER\", \"WER*GT_len\", \"char_len\", \"char_edits\", \"CER\", \"CER*char_len\", \"Confidence\"]\n",
    "z_intersection = pd.merge(final_output1_1, na_nl_more, on='Text_id', how='inner')"
   ]
  },
  {
   "cell_type": "code",
   "execution_count": 5,
   "metadata": {},
   "outputs": [
    {
     "data": {
      "text/plain": [
       "Index(['Tag', 'Text_id', 'Type_of_text', 'Raw_GT', 'GT', 'GT(english)',\n",
       "       'utf_text', 'Machine_Transcribed_text',\n",
       "       'Machine_Transcribed_text(English)', 'GT_len', 'Total_edit', 'WER',\n",
       "       'WER*GT_len', 'GT_char_len', 'Total_char_edit', 'CER',\n",
       "       'CER*GT_char_len', 'confidence', 'audio_path', 'HI_FA_EP6', '3',\n",
       "       'Unnamed: 21', 'Unnamed: 22', 'Unnamed: 23', 'Unnamed: 24',\n",
       "       'multi_speaker_replaced_by_wildcard', 'Unnamed: 26'],\n",
       "      dtype='object')"
      ]
     },
     "execution_count": 5,
     "metadata": {},
     "output_type": "execute_result"
    }
   ],
   "source": [
    "na_nl_more.columns"
   ]
  },
  {
   "cell_type": "code",
   "execution_count": 6,
   "metadata": {},
   "outputs": [
    {
     "data": {
      "text/html": [
       "<div>\n",
       "<style scoped>\n",
       "    .dataframe tbody tr th:only-of-type {\n",
       "        vertical-align: middle;\n",
       "    }\n",
       "\n",
       "    .dataframe tbody tr th {\n",
       "        vertical-align: top;\n",
       "    }\n",
       "\n",
       "    .dataframe thead th {\n",
       "        text-align: right;\n",
       "    }\n",
       "</style>\n",
       "<table border=\"1\" class=\"dataframe\">\n",
       "  <thead>\n",
       "    <tr style=\"text-align: right;\">\n",
       "      <th></th>\n",
       "      <th>TAG</th>\n",
       "      <th>Text_id</th>\n",
       "      <th>GT</th>\n",
       "      <th>Predicted_text</th>\n",
       "      <th>GT_len</th>\n",
       "      <th>Edits</th>\n",
       "      <th>WER</th>\n",
       "      <th>WER*GT_len</th>\n",
       "      <th>char_len</th>\n",
       "      <th>char_edits</th>\n",
       "      <th>CER</th>\n",
       "      <th>CER*char_len</th>\n",
       "      <th>Confidence</th>\n",
       "    </tr>\n",
       "  </thead>\n",
       "  <tbody>\n",
       "    <tr>\n",
       "      <th>0</th>\n",
       "      <td>3_HI_FA</td>\n",
       "      <td>46099089</td>\n",
       "      <td>_</td>\n",
       "      <td>में हनी सोबाकोव</td>\n",
       "      <td>1</td>\n",
       "      <td>0.0</td>\n",
       "      <td>0.0</td>\n",
       "      <td>0.0</td>\n",
       "      <td>1</td>\n",
       "      <td>0.0</td>\n",
       "      <td>0.0</td>\n",
       "      <td>0.0</td>\n",
       "      <td>0.000000</td>\n",
       "    </tr>\n",
       "    <tr>\n",
       "      <th>1</th>\n",
       "      <td>3_HI_FA_EP6</td>\n",
       "      <td>46099089</td>\n",
       "      <td>_</td>\n",
       "      <td>महामाया</td>\n",
       "      <td>1</td>\n",
       "      <td>0.0</td>\n",
       "      <td>0.0</td>\n",
       "      <td>0.0</td>\n",
       "      <td>1</td>\n",
       "      <td>0.0</td>\n",
       "      <td>0.0</td>\n",
       "      <td>0.0</td>\n",
       "      <td>0.000000</td>\n",
       "    </tr>\n",
       "    <tr>\n",
       "      <th>2</th>\n",
       "      <td>3_HI_FA</td>\n",
       "      <td>45730577</td>\n",
       "      <td>सेट टॉप बॉक्स _ रैक  _</td>\n",
       "      <td>सेट टॉप बॉक्स रैक</td>\n",
       "      <td>4</td>\n",
       "      <td>0.0</td>\n",
       "      <td>0.0</td>\n",
       "      <td>0.0</td>\n",
       "      <td>44</td>\n",
       "      <td>0.0</td>\n",
       "      <td>0.0</td>\n",
       "      <td>0.0</td>\n",
       "      <td>0.706857</td>\n",
       "    </tr>\n",
       "    <tr>\n",
       "      <th>3</th>\n",
       "      <td>3_HI_FA_EP6</td>\n",
       "      <td>45730577</td>\n",
       "      <td>सेट टॉप बॉक्स _ रैक  _</td>\n",
       "      <td>सेट टॉप बॉक्स रैक</td>\n",
       "      <td>4</td>\n",
       "      <td>0.0</td>\n",
       "      <td>0.0</td>\n",
       "      <td>0.0</td>\n",
       "      <td>44</td>\n",
       "      <td>0.0</td>\n",
       "      <td>0.0</td>\n",
       "      <td>0.0</td>\n",
       "      <td>0.706857</td>\n",
       "    </tr>\n",
       "    <tr>\n",
       "      <th>4</th>\n",
       "      <td>3_HI_FA</td>\n",
       "      <td>45549153</td>\n",
       "      <td>फोन वॉच एप्पल फोन वॉच  _</td>\n",
       "      <td>फोन वॉच एप्पल फोन वॉच कनानमाला ने में है खामिय...</td>\n",
       "      <td>5</td>\n",
       "      <td>0.0</td>\n",
       "      <td>0.0</td>\n",
       "      <td>0.0</td>\n",
       "      <td>55</td>\n",
       "      <td>0.0</td>\n",
       "      <td>0.0</td>\n",
       "      <td>0.0</td>\n",
       "      <td>0.426354</td>\n",
       "    </tr>\n",
       "  </tbody>\n",
       "</table>\n",
       "</div>"
      ],
      "text/plain": [
       "           TAG   Text_id                        GT  \\\n",
       "0      3_HI_FA  46099089                         _   \n",
       "1  3_HI_FA_EP6  46099089                         _   \n",
       "2      3_HI_FA  45730577    सेट टॉप बॉक्स _ रैक  _   \n",
       "3  3_HI_FA_EP6  45730577    सेट टॉप बॉक्स _ रैक  _   \n",
       "4      3_HI_FA  45549153  फोन वॉच एप्पल फोन वॉच  _   \n",
       "\n",
       "                                      Predicted_text  GT_len  Edits  WER  \\\n",
       "0                                   में हनी सोबाकोव        1    0.0  0.0   \n",
       "1                                           महामाया        1    0.0  0.0   \n",
       "2                                 सेट टॉप बॉक्स रैक        4    0.0  0.0   \n",
       "3                                 सेट टॉप बॉक्स रैक        4    0.0  0.0   \n",
       "4  फोन वॉच एप्पल फोन वॉच कनानमाला ने में है खामिय...       5    0.0  0.0   \n",
       "\n",
       "   WER*GT_len  char_len  char_edits  CER  CER*char_len  Confidence  \n",
       "0         0.0         1         0.0  0.0           0.0    0.000000  \n",
       "1         0.0         1         0.0  0.0           0.0    0.000000  \n",
       "2         0.0        44         0.0  0.0           0.0    0.706857  \n",
       "3         0.0        44         0.0  0.0           0.0    0.706857  \n",
       "4         0.0        55         0.0  0.0           0.0    0.426354  "
      ]
     },
     "execution_count": 6,
     "metadata": {},
     "output_type": "execute_result"
    }
   ],
   "source": [
    "final_output1_1.head()"
   ]
  },
  {
   "cell_type": "code",
   "execution_count": 7,
   "metadata": {},
   "outputs": [],
   "source": [
    "cer_1 = z_intersection.loc[((z_intersection.CER_y == 1.0) |  (z_intersection.CER_x == 1.0))]"
   ]
  },
  {
   "cell_type": "code",
   "execution_count": 38,
   "metadata": {},
   "outputs": [],
   "source": [
    "cer_from_different_runs = cer_1.loc[cer_1.TAG == '3_HI_FA_EP6'][['Text_id', 'CER_x', 'CER_y', 'Machine_Transcribed_text', 'Predicted_text', 'TAG', 'GT_x', 'char_len', 'audio_path']]"
   ]
  },
  {
   "cell_type": "code",
   "execution_count": 56,
   "metadata": {},
   "outputs": [
    {
     "data": {
      "text/plain": [
       "['api_EN_S_10Aug20/app_1575174826_3808878238097211392.flac',\n",
       " 'api_EN_S_04Aug20/app_182932094_3804538299188510720.flac',\n",
       " 'api_EN_S_30Jul20/app_1591133591_3800996458467950848.flac',\n",
       " 'api_HI_S_10Aug20/app_901840790_3808877567369281792.flac',\n",
       " 'api_EN_S_18Aug20/app_1940825108_3814862229233205504.flac',\n",
       " 'api_HI_S_30Jul20/app_225034745_3800992647456227328.flac',\n",
       " 'api_EN_S_10Aug20/app_1970548500_3808877342789468160.flac',\n",
       " 'api_HI_S_06Aug20/app_278898886_3805997379966992640.flac',\n",
       " 'api_HI_S_07Aug20/app_249218244_3806746633471787264.flac',\n",
       " 'api_HI_S_17Aug20/app_1769651427_3814389413085970688.flac',\n",
       " 'api_HI_S_10Aug20/app_1415252531_3808880381252337920.flac',\n",
       " 'api_HI_S_23Aug20/app_96344314_3818713951668011776.flac',\n",
       " 'api_HI_S_29Jul20/app_143385435_3800206054453673984.flac',\n",
       " 'api_HI_S_23Aug20/app_873646090_3818711989295776768.flac',\n",
       " 'api_EN_S_04Aug20/app_1391138991_3804538551660445696.flac',\n",
       " 'api_HI_S_10Aug20/app_1568057206_3808874532790337536.flac',\n",
       " 'api_HI_S_03Aug20/app_1187480658_3803853215573737728.flac',\n",
       " 'api_EN_S_06Aug20/app_824116820_3805998504568946688.flac',\n",
       " 'api_EN_S_07Aug20/app_1000446341_3806749448915124224.flac',\n",
       " 'api_HI_S_06Aug20/app_368226045_3805995964850766080.flac',\n",
       " 'api_EN_S_25Aug20/app_419732058_3819927385835307776.flac',\n",
       " 'api_EN_S_25Aug20/app_339161770_3819926782350459136.flac',\n",
       " 'api_EN_S_04Aug20/app_1870371502_3804535257462472960.flac',\n",
       " 'api_EN_S_26Aug20/app_1371881421_3820684942484963584.flac',\n",
       " 'api_EN_S_18Aug20/app_2007621602_3814858429009233152.flac',\n",
       " 'api_EN_S_18Aug20/app_542754224_3814862523480408320.flac',\n",
       " 'api_EN_S_07Aug20/app_458745060_3806749303557324800.flac',\n",
       " 'api_HI_S_10Aug20/app_1854576836_3808878017166442752.flac',\n",
       " 'api_HI_S_03Aug20/app_1880378208_3803847264879771648.flac',\n",
       " 'api_EN_S_07Aug20/app_859542190_3806747855993962496.flac',\n",
       " 'api_HI_S_05Aug20/app_1683891936_3805249049058083072.flac',\n",
       " 'api_EN_S_17Aug20/app_157120156_3814030098688901120.flac',\n",
       " 'api_EN_S_26Aug20/app_1034195921_3820685030959613184.flac',\n",
       " 'api_HI_S_26Aug20/app_1710577892_3820683770101499136.flac',\n",
       " 'api_EN_S_25Aug20/app_584970347_3819927207728382720.flac',\n",
       " 'api_HI_S_25Aug20/app_696939078_3819926993131012096.flac',\n",
       " 'api_EN_S_06Aug20/app_1813439078_3805997592215552000.flac',\n",
       " 'api_HI_S_28Jul20/app_1159731004_3799521764048896256.flac']"
      ]
     },
     "execution_count": 56,
     "metadata": {},
     "output_type": "execute_result"
    }
   ],
   "source": [
    "list(cer_from_different_runs.audio_path)"
   ]
  },
  {
   "cell_type": "code",
   "execution_count": 40,
   "metadata": {},
   "outputs": [],
   "source": [
    "cer_is_different = cer_from_different_runs[cer_from_different_runs.CER_x != cer_from_different_runs.CER_y]"
   ]
  },
  {
   "cell_type": "code",
   "execution_count": 58,
   "metadata": {},
   "outputs": [
    {
     "data": {
      "text/plain": [
       "['Text_id',\n",
       " 'CER_x',\n",
       " 'CER_y',\n",
       " 'Machine_Transcribed_text',\n",
       " 'Predicted_text',\n",
       " 'TAG',\n",
       " 'GT_x',\n",
       " 'char_len',\n",
       " 'audio_path']"
      ]
     },
     "execution_count": 58,
     "metadata": {},
     "output_type": "execute_result"
    }
   ],
   "source": [
    "list(cer_is_different[c)"
   ]
  },
  {
   "cell_type": "code",
   "execution_count": 61,
   "metadata": {},
   "outputs": [
    {
     "data": {
      "text/html": [
       "<div>\n",
       "<style scoped>\n",
       "    .dataframe tbody tr th:only-of-type {\n",
       "        vertical-align: middle;\n",
       "    }\n",
       "\n",
       "    .dataframe tbody tr th {\n",
       "        vertical-align: top;\n",
       "    }\n",
       "\n",
       "    .dataframe thead th {\n",
       "        text-align: right;\n",
       "    }\n",
       "</style>\n",
       "<table border=\"1\" class=\"dataframe\">\n",
       "  <thead>\n",
       "    <tr style=\"text-align: right;\">\n",
       "      <th></th>\n",
       "      <th>Text_id</th>\n",
       "      <th>CER_x</th>\n",
       "      <th>CER_y</th>\n",
       "      <th>Machine_Transcribed_text</th>\n",
       "      <th>Predicted_text</th>\n",
       "      <th>TAG</th>\n",
       "      <th>GT_x</th>\n",
       "      <th>char_len</th>\n",
       "      <th>audio_path</th>\n",
       "    </tr>\n",
       "  </thead>\n",
       "  <tbody>\n",
       "    <tr>\n",
       "      <th>865</th>\n",
       "      <td>45549759</td>\n",
       "      <td>1.00</td>\n",
       "      <td>0.000000</td>\n",
       "      <td>एडिडास शूज</td>\n",
       "      <td>NaN</td>\n",
       "      <td>3_HI_FA_EP6</td>\n",
       "      <td>एडिडास शूज  _</td>\n",
       "      <td>28</td>\n",
       "      <td>api_EN_S_10Aug20/app_1575174826_38088782380972...</td>\n",
       "    </tr>\n",
       "    <tr>\n",
       "      <th>987</th>\n",
       "      <td>45360379</td>\n",
       "      <td>1.00</td>\n",
       "      <td>0.096774</td>\n",
       "      <td>वूमेन नाइंटी</td>\n",
       "      <td>NaN</td>\n",
       "      <td>3_HI_FA_EP6</td>\n",
       "      <td>वूमेन नाइटी</td>\n",
       "      <td>31</td>\n",
       "      <td>api_EN_S_04Aug20/app_182932094_380453829918851...</td>\n",
       "    </tr>\n",
       "    <tr>\n",
       "      <th>1099</th>\n",
       "      <td>45224720</td>\n",
       "      <td>1.00</td>\n",
       "      <td>0.116279</td>\n",
       "      <td>प्लाईवुड दर्जा</td>\n",
       "      <td>NaN</td>\n",
       "      <td>3_HI_FA_EP6</td>\n",
       "      <td>प्लाईवुड दरवाजा</td>\n",
       "      <td>43</td>\n",
       "      <td>api_EN_S_30Jul20/app_1591133591_38009964584679...</td>\n",
       "    </tr>\n",
       "    <tr>\n",
       "      <th>1149</th>\n",
       "      <td>45549344</td>\n",
       "      <td>1.00</td>\n",
       "      <td>0.000000</td>\n",
       "      <td>इमरजेंसी लाइट बल्ब फिलिप्स</td>\n",
       "      <td>NaN</td>\n",
       "      <td>3_HI_FA_EP6</td>\n",
       "      <td>इमरजेंसी लाइट बल्ब फिलिप्स</td>\n",
       "      <td>72</td>\n",
       "      <td>api_HI_S_10Aug20/app_901840790_380887756736928...</td>\n",
       "    </tr>\n",
       "    <tr>\n",
       "      <th>1321</th>\n",
       "      <td>45731618</td>\n",
       "      <td>1.00</td>\n",
       "      <td>0.107143</td>\n",
       "      <td>बाइसिकिल लाइट्स फ्लाइट</td>\n",
       "      <td>NaN</td>\n",
       "      <td>3_HI_FA_EP6</td>\n",
       "      <td>बाइसिकल लाइट्स लाइट</td>\n",
       "      <td>56</td>\n",
       "      <td>api_EN_S_18Aug20/app_1940825108_38148622292332...</td>\n",
       "    </tr>\n",
       "    <tr>\n",
       "      <th>1371</th>\n",
       "      <td>45224777</td>\n",
       "      <td>1.00</td>\n",
       "      <td>0.076923</td>\n",
       "      <td>लेडीज कूल कुटकी वर्क कुर्ती</td>\n",
       "      <td>NaN</td>\n",
       "      <td>3_HI_FA_EP6</td>\n",
       "      <td>लेडीज _ कुर्ती वर्क कुर्ती</td>\n",
       "      <td>65</td>\n",
       "      <td>api_HI_S_30Jul20/app_225034745_380099264745622...</td>\n",
       "    </tr>\n",
       "    <tr>\n",
       "      <th>1427</th>\n",
       "      <td>45484211</td>\n",
       "      <td>1.00</td>\n",
       "      <td>0.250000</td>\n",
       "      <td>ग्लेन लोकेट</td>\n",
       "      <td>NaN</td>\n",
       "      <td>3_HI_FA_EP6</td>\n",
       "      <td>गले का लॉकेट  _</td>\n",
       "      <td>32</td>\n",
       "      <td>api_HI_S_06Aug20/app_278898886_380599737996699...</td>\n",
       "    </tr>\n",
       "    <tr>\n",
       "      <th>1505</th>\n",
       "      <td>45545677</td>\n",
       "      <td>1.00</td>\n",
       "      <td>0.000000</td>\n",
       "      <td>लाइट वाली</td>\n",
       "      <td>NaN</td>\n",
       "      <td>3_HI_FA_EP6</td>\n",
       "      <td>_  लाइट वाली</td>\n",
       "      <td>25</td>\n",
       "      <td>api_HI_S_07Aug20/app_249218244_380674663347178...</td>\n",
       "    </tr>\n",
       "    <tr>\n",
       "      <th>1723</th>\n",
       "      <td>45726601</td>\n",
       "      <td>1.00</td>\n",
       "      <td>0.000000</td>\n",
       "      <td>बड़ा कंप्रेसर मशीन</td>\n",
       "      <td>NaN</td>\n",
       "      <td>3_HI_FA_EP6</td>\n",
       "      <td>बड़ा कंप्रेसर मशीन</td>\n",
       "      <td>50</td>\n",
       "      <td>api_HI_S_17Aug20/app_1769651427_38143894130859...</td>\n",
       "    </tr>\n",
       "    <tr>\n",
       "      <th>2061</th>\n",
       "      <td>45966242</td>\n",
       "      <td>1.00</td>\n",
       "      <td>0.000000</td>\n",
       "      <td>बाइक</td>\n",
       "      <td>NaN</td>\n",
       "      <td>3_HI_FA_EP6</td>\n",
       "      <td>बाइक</td>\n",
       "      <td>12</td>\n",
       "      <td>api_HI_S_23Aug20/app_96344314_3818713951668011...</td>\n",
       "    </tr>\n",
       "    <tr>\n",
       "      <th>2141</th>\n",
       "      <td>45968193</td>\n",
       "      <td>1.00</td>\n",
       "      <td>0.000000</td>\n",
       "      <td>साड़ी</td>\n",
       "      <td>NaN</td>\n",
       "      <td>3_HI_FA_EP6</td>\n",
       "      <td>साड़ी</td>\n",
       "      <td>15</td>\n",
       "      <td>api_HI_S_23Aug20/app_873646090_381871198929577...</td>\n",
       "    </tr>\n",
       "    <tr>\n",
       "      <th>2655</th>\n",
       "      <td>45550156</td>\n",
       "      <td>1.00</td>\n",
       "      <td>0.000000</td>\n",
       "      <td>जिओ मोबाइल</td>\n",
       "      <td>NaN</td>\n",
       "      <td>3_HI_FA_EP6</td>\n",
       "      <td>जिओ मोबाइल</td>\n",
       "      <td>28</td>\n",
       "      <td>api_HI_S_10Aug20/app_1568057206_38088745327903...</td>\n",
       "    </tr>\n",
       "    <tr>\n",
       "      <th>2759</th>\n",
       "      <td>45226555</td>\n",
       "      <td>1.00</td>\n",
       "      <td>0.000000</td>\n",
       "      <td>रेडमी नाइन प्रो</td>\n",
       "      <td>NaN</td>\n",
       "      <td>3_HI_FA_EP6</td>\n",
       "      <td>रेडमी नाइन प्रो  _</td>\n",
       "      <td>41</td>\n",
       "      <td>api_HI_S_03Aug20/app_1187480658_38038532155737...</td>\n",
       "    </tr>\n",
       "    <tr>\n",
       "      <th>3027</th>\n",
       "      <td>45484331</td>\n",
       "      <td>1.00</td>\n",
       "      <td>0.058824</td>\n",
       "      <td>वाशिंग मशीन फुल साइज एल ई डी</td>\n",
       "      <td>NaN</td>\n",
       "      <td>3_HI_FA_EP6</td>\n",
       "      <td>वाशिंग मशीन फुल साइज एल जी  _</td>\n",
       "      <td>68</td>\n",
       "      <td>api_EN_S_06Aug20/app_824116820_380599850456894...</td>\n",
       "    </tr>\n",
       "    <tr>\n",
       "      <th>3571</th>\n",
       "      <td>45484584</td>\n",
       "      <td>1.00</td>\n",
       "      <td>0.000000</td>\n",
       "      <td>डॉट वाला गेम</td>\n",
       "      <td>NaN</td>\n",
       "      <td>3_HI_FA_EP6</td>\n",
       "      <td>डॉट वाला गेम</td>\n",
       "      <td>32</td>\n",
       "      <td>api_HI_S_06Aug20/app_368226045_380599596485076...</td>\n",
       "    </tr>\n",
       "    <tr>\n",
       "      <th>4109</th>\n",
       "      <td>45362278</td>\n",
       "      <td>1.00</td>\n",
       "      <td>0.000000</td>\n",
       "      <td>छोटे बच्चों के लिए साइकिल</td>\n",
       "      <td>NaN</td>\n",
       "      <td>3_HI_FA_EP6</td>\n",
       "      <td>छोटे बच्चों के लिए साइकल  _</td>\n",
       "      <td>67</td>\n",
       "      <td>api_EN_S_04Aug20/app_1870371502_38045352574624...</td>\n",
       "    </tr>\n",
       "    <tr>\n",
       "      <th>4451</th>\n",
       "      <td>46099314</td>\n",
       "      <td>1.00</td>\n",
       "      <td>0.083333</td>\n",
       "      <td>नए फोन ओप्पो टाइप</td>\n",
       "      <td>NaN</td>\n",
       "      <td>3_HI_FA_EP6</td>\n",
       "      <td>नये फोन ओप्पो टाइप</td>\n",
       "      <td>48</td>\n",
       "      <td>api_EN_S_26Aug20/app_1371881421_38206849424849...</td>\n",
       "    </tr>\n",
       "    <tr>\n",
       "      <th>4475</th>\n",
       "      <td>45730125</td>\n",
       "      <td>1.00</td>\n",
       "      <td>0.333333</td>\n",
       "      <td>ग्लासरी</td>\n",
       "      <td>NaN</td>\n",
       "      <td>3_HI_FA_EP6</td>\n",
       "      <td>_   सर्च _</td>\n",
       "      <td>12</td>\n",
       "      <td>api_EN_S_18Aug20/app_2007621602_38148584290092...</td>\n",
       "    </tr>\n",
       "    <tr>\n",
       "      <th>4927</th>\n",
       "      <td>45545633</td>\n",
       "      <td>0.75</td>\n",
       "      <td>1.000000</td>\n",
       "      <td>NaN</td>\n",
       "      <td>वन</td>\n",
       "      <td>3_HI_FA_EP6</td>\n",
       "      <td>_  एक तरफ _</td>\n",
       "      <td>16</td>\n",
       "      <td>api_EN_S_07Aug20/app_458745060_380674930355732...</td>\n",
       "    </tr>\n",
       "    <tr>\n",
       "      <th>5991</th>\n",
       "      <td>45546800</td>\n",
       "      <td>1.00</td>\n",
       "      <td>0.000000</td>\n",
       "      <td>इंटेक्स होम थियेटर</td>\n",
       "      <td>NaN</td>\n",
       "      <td>3_HI_FA_EP6</td>\n",
       "      <td>इंटेक्स होम थिएटर</td>\n",
       "      <td>50</td>\n",
       "      <td>api_EN_S_07Aug20/app_859542190_380674785599396...</td>\n",
       "    </tr>\n",
       "    <tr>\n",
       "      <th>6013</th>\n",
       "      <td>45423748</td>\n",
       "      <td>1.00</td>\n",
       "      <td>0.000000</td>\n",
       "      <td>टैबलेट मोबाइल</td>\n",
       "      <td>NaN</td>\n",
       "      <td>3_HI_FA_EP6</td>\n",
       "      <td>_  टैबलेट मोबाइल  _</td>\n",
       "      <td>37</td>\n",
       "      <td>api_HI_S_05Aug20/app_1683891936_38052490490580...</td>\n",
       "    </tr>\n",
       "    <tr>\n",
       "      <th>6139</th>\n",
       "      <td>45722970</td>\n",
       "      <td>0.75</td>\n",
       "      <td>1.000000</td>\n",
       "      <td>ल्यूमेन न्यू एस</td>\n",
       "      <td>ल्यूमेन न्यू एस</td>\n",
       "      <td>3_HI_FA_EP6</td>\n",
       "      <td>ल्यूमिनस</td>\n",
       "      <td>24</td>\n",
       "      <td>api_EN_S_17Aug20/app_157120156_381403009868890...</td>\n",
       "    </tr>\n",
       "    <tr>\n",
       "      <th>6695</th>\n",
       "      <td>46099574</td>\n",
       "      <td>1.00</td>\n",
       "      <td>0.062500</td>\n",
       "      <td>सूट के रुपये</td>\n",
       "      <td>NaN</td>\n",
       "      <td>3_HI_FA_EP6</td>\n",
       "      <td>_  चूत के रुपये  _</td>\n",
       "      <td>32</td>\n",
       "      <td>api_HI_S_26Aug20/app_1710577892_38206837701014...</td>\n",
       "    </tr>\n",
       "    <tr>\n",
       "      <th>7001</th>\n",
       "      <td>46031389</td>\n",
       "      <td>1.00</td>\n",
       "      <td>0.000000</td>\n",
       "      <td>जूते नोट्स</td>\n",
       "      <td>NaN</td>\n",
       "      <td>3_HI_FA_EP6</td>\n",
       "      <td>जूते  _  नोट्स</td>\n",
       "      <td>27</td>\n",
       "      <td>api_HI_S_25Aug20/app_696939078_381992699313101...</td>\n",
       "    </tr>\n",
       "    <tr>\n",
       "      <th>7039</th>\n",
       "      <td>45484858</td>\n",
       "      <td>1.00</td>\n",
       "      <td>0.000000</td>\n",
       "      <td>आईफोन लैपटॉप</td>\n",
       "      <td>NaN</td>\n",
       "      <td>3_HI_FA_EP6</td>\n",
       "      <td>आईफोन लैपटॉप  _</td>\n",
       "      <td>34</td>\n",
       "      <td>api_EN_S_06Aug20/app_1813439078_38059975922155...</td>\n",
       "    </tr>\n",
       "    <tr>\n",
       "      <th>7079</th>\n",
       "      <td>45098250</td>\n",
       "      <td>1.00</td>\n",
       "      <td>0.240741</td>\n",
       "      <td>हमारे बाबा एक सोना का बन जाए राखी</td>\n",
       "      <td>NaN</td>\n",
       "      <td>3_HI_FA_EP6</td>\n",
       "      <td>_  हमारे यहां तो बाबा एक सोना के बन जाईत राखी</td>\n",
       "      <td>108</td>\n",
       "      <td>api_HI_S_28Jul20/app_1159731004_37995217640488...</td>\n",
       "    </tr>\n",
       "  </tbody>\n",
       "</table>\n",
       "</div>"
      ],
      "text/plain": [
       "       Text_id  CER_x     CER_y           Machine_Transcribed_text  \\\n",
       "865   45549759   1.00  0.000000                         एडिडास शूज   \n",
       "987   45360379   1.00  0.096774                       वूमेन नाइंटी   \n",
       "1099  45224720   1.00  0.116279                     प्लाईवुड दर्जा   \n",
       "1149  45549344   1.00  0.000000         इमरजेंसी लाइट बल्ब फिलिप्स   \n",
       "1321  45731618   1.00  0.107143             बाइसिकिल लाइट्स फ्लाइट   \n",
       "1371  45224777   1.00  0.076923        लेडीज कूल कुटकी वर्क कुर्ती   \n",
       "1427  45484211   1.00  0.250000                        ग्लेन लोकेट   \n",
       "1505  45545677   1.00  0.000000                          लाइट वाली   \n",
       "1723  45726601   1.00  0.000000                 बड़ा कंप्रेसर मशीन   \n",
       "2061  45966242   1.00  0.000000                               बाइक   \n",
       "2141  45968193   1.00  0.000000                              साड़ी   \n",
       "2655  45550156   1.00  0.000000                         जिओ मोबाइल   \n",
       "2759  45226555   1.00  0.000000                    रेडमी नाइन प्रो   \n",
       "3027  45484331   1.00  0.058824       वाशिंग मशीन फुल साइज एल ई डी   \n",
       "3571  45484584   1.00  0.000000                       डॉट वाला गेम   \n",
       "4109  45362278   1.00  0.000000          छोटे बच्चों के लिए साइकिल   \n",
       "4451  46099314   1.00  0.083333                  नए फोन ओप्पो टाइप   \n",
       "4475  45730125   1.00  0.333333                            ग्लासरी   \n",
       "4927  45545633   0.75  1.000000                                NaN   \n",
       "5991  45546800   1.00  0.000000                 इंटेक्स होम थियेटर   \n",
       "6013  45423748   1.00  0.000000                      टैबलेट मोबाइल   \n",
       "6139  45722970   0.75  1.000000                    ल्यूमेन न्यू एस   \n",
       "6695  46099574   1.00  0.062500                       सूट के रुपये   \n",
       "7001  46031389   1.00  0.000000                         जूते नोट्स   \n",
       "7039  45484858   1.00  0.000000                       आईफोन लैपटॉप   \n",
       "7079  45098250   1.00  0.240741  हमारे बाबा एक सोना का बन जाए राखी   \n",
       "\n",
       "        Predicted_text          TAG  \\\n",
       "865                NaN  3_HI_FA_EP6   \n",
       "987                NaN  3_HI_FA_EP6   \n",
       "1099               NaN  3_HI_FA_EP6   \n",
       "1149               NaN  3_HI_FA_EP6   \n",
       "1321               NaN  3_HI_FA_EP6   \n",
       "1371               NaN  3_HI_FA_EP6   \n",
       "1427               NaN  3_HI_FA_EP6   \n",
       "1505               NaN  3_HI_FA_EP6   \n",
       "1723               NaN  3_HI_FA_EP6   \n",
       "2061               NaN  3_HI_FA_EP6   \n",
       "2141               NaN  3_HI_FA_EP6   \n",
       "2655               NaN  3_HI_FA_EP6   \n",
       "2759               NaN  3_HI_FA_EP6   \n",
       "3027               NaN  3_HI_FA_EP6   \n",
       "3571               NaN  3_HI_FA_EP6   \n",
       "4109               NaN  3_HI_FA_EP6   \n",
       "4451               NaN  3_HI_FA_EP6   \n",
       "4475               NaN  3_HI_FA_EP6   \n",
       "4927               वन   3_HI_FA_EP6   \n",
       "5991               NaN  3_HI_FA_EP6   \n",
       "6013               NaN  3_HI_FA_EP6   \n",
       "6139  ल्यूमेन न्यू एस   3_HI_FA_EP6   \n",
       "6695               NaN  3_HI_FA_EP6   \n",
       "7001               NaN  3_HI_FA_EP6   \n",
       "7039               NaN  3_HI_FA_EP6   \n",
       "7079               NaN  3_HI_FA_EP6   \n",
       "\n",
       "                                                GT_x  char_len  \\\n",
       "865                                    एडिडास शूज  _        28   \n",
       "987                                      वूमेन नाइटी        31   \n",
       "1099                                 प्लाईवुड दरवाजा        43   \n",
       "1149                      इमरजेंसी लाइट बल्ब फिलिप्स        72   \n",
       "1321                             बाइसिकल लाइट्स लाइट        56   \n",
       "1371                      लेडीज _ कुर्ती वर्क कुर्ती        65   \n",
       "1427                                 गले का लॉकेट  _        32   \n",
       "1505                                    _  लाइट वाली        25   \n",
       "1723                              बड़ा कंप्रेसर मशीन        50   \n",
       "2061                                            बाइक        12   \n",
       "2141                                           साड़ी        15   \n",
       "2655                                      जिओ मोबाइल        28   \n",
       "2759                              रेडमी नाइन प्रो  _        41   \n",
       "3027                   वाशिंग मशीन फुल साइज एल जी  _        68   \n",
       "3571                                    डॉट वाला गेम        32   \n",
       "4109                     छोटे बच्चों के लिए साइकल  _        67   \n",
       "4451                              नये फोन ओप्पो टाइप        48   \n",
       "4475                                      _   सर्च _        12   \n",
       "4927                                     _  एक तरफ _        16   \n",
       "5991                               इंटेक्स होम थिएटर        50   \n",
       "6013                             _  टैबलेट मोबाइल  _        37   \n",
       "6139                                        ल्यूमिनस        24   \n",
       "6695                              _  चूत के रुपये  _        32   \n",
       "7001                                  जूते  _  नोट्स        27   \n",
       "7039                                 आईफोन लैपटॉप  _        34   \n",
       "7079   _  हमारे यहां तो बाबा एक सोना के बन जाईत राखी       108   \n",
       "\n",
       "                                             audio_path  \n",
       "865   api_EN_S_10Aug20/app_1575174826_38088782380972...  \n",
       "987   api_EN_S_04Aug20/app_182932094_380453829918851...  \n",
       "1099  api_EN_S_30Jul20/app_1591133591_38009964584679...  \n",
       "1149  api_HI_S_10Aug20/app_901840790_380887756736928...  \n",
       "1321  api_EN_S_18Aug20/app_1940825108_38148622292332...  \n",
       "1371  api_HI_S_30Jul20/app_225034745_380099264745622...  \n",
       "1427  api_HI_S_06Aug20/app_278898886_380599737996699...  \n",
       "1505  api_HI_S_07Aug20/app_249218244_380674663347178...  \n",
       "1723  api_HI_S_17Aug20/app_1769651427_38143894130859...  \n",
       "2061  api_HI_S_23Aug20/app_96344314_3818713951668011...  \n",
       "2141  api_HI_S_23Aug20/app_873646090_381871198929577...  \n",
       "2655  api_HI_S_10Aug20/app_1568057206_38088745327903...  \n",
       "2759  api_HI_S_03Aug20/app_1187480658_38038532155737...  \n",
       "3027  api_EN_S_06Aug20/app_824116820_380599850456894...  \n",
       "3571  api_HI_S_06Aug20/app_368226045_380599596485076...  \n",
       "4109  api_EN_S_04Aug20/app_1870371502_38045352574624...  \n",
       "4451  api_EN_S_26Aug20/app_1371881421_38206849424849...  \n",
       "4475  api_EN_S_18Aug20/app_2007621602_38148584290092...  \n",
       "4927  api_EN_S_07Aug20/app_458745060_380674930355732...  \n",
       "5991  api_EN_S_07Aug20/app_859542190_380674785599396...  \n",
       "6013  api_HI_S_05Aug20/app_1683891936_38052490490580...  \n",
       "6139  api_EN_S_17Aug20/app_157120156_381403009868890...  \n",
       "6695  api_HI_S_26Aug20/app_1710577892_38206837701014...  \n",
       "7001  api_HI_S_25Aug20/app_696939078_381992699313101...  \n",
       "7039  api_EN_S_06Aug20/app_1813439078_38059975922155...  \n",
       "7079  api_HI_S_28Jul20/app_1159731004_37995217640488...  "
      ]
     },
     "execution_count": 61,
     "metadata": {},
     "output_type": "execute_result"
    }
   ],
   "source": [
    "cer_is_different"
   ]
  },
  {
   "cell_type": "code",
   "execution_count": 60,
   "metadata": {},
   "outputs": [
    {
     "data": {
      "text/plain": [
       "['api_EN_S_10Aug20/app_1575174826_3808878238097211392.flac',\n",
       " 'api_EN_S_04Aug20/app_182932094_3804538299188510720.flac',\n",
       " 'api_EN_S_30Jul20/app_1591133591_3800996458467950848.flac',\n",
       " 'api_HI_S_10Aug20/app_901840790_3808877567369281792.flac',\n",
       " 'api_EN_S_18Aug20/app_1940825108_3814862229233205504.flac',\n",
       " 'api_HI_S_30Jul20/app_225034745_3800992647456227328.flac',\n",
       " 'api_HI_S_06Aug20/app_278898886_3805997379966992640.flac',\n",
       " 'api_HI_S_07Aug20/app_249218244_3806746633471787264.flac',\n",
       " 'api_HI_S_17Aug20/app_1769651427_3814389413085970688.flac',\n",
       " 'api_HI_S_23Aug20/app_96344314_3818713951668011776.flac',\n",
       " 'api_HI_S_23Aug20/app_873646090_3818711989295776768.flac',\n",
       " 'api_HI_S_10Aug20/app_1568057206_3808874532790337536.flac',\n",
       " 'api_HI_S_03Aug20/app_1187480658_3803853215573737728.flac',\n",
       " 'api_EN_S_06Aug20/app_824116820_3805998504568946688.flac',\n",
       " 'api_HI_S_06Aug20/app_368226045_3805995964850766080.flac',\n",
       " 'api_EN_S_04Aug20/app_1870371502_3804535257462472960.flac',\n",
       " 'api_EN_S_26Aug20/app_1371881421_3820684942484963584.flac',\n",
       " 'api_EN_S_18Aug20/app_2007621602_3814858429009233152.flac',\n",
       " 'api_EN_S_07Aug20/app_458745060_3806749303557324800.flac',\n",
       " 'api_EN_S_07Aug20/app_859542190_3806747855993962496.flac',\n",
       " 'api_HI_S_05Aug20/app_1683891936_3805249049058083072.flac',\n",
       " 'api_EN_S_17Aug20/app_157120156_3814030098688901120.flac',\n",
       " 'api_HI_S_26Aug20/app_1710577892_3820683770101499136.flac',\n",
       " 'api_HI_S_25Aug20/app_696939078_3819926993131012096.flac',\n",
       " 'api_EN_S_06Aug20/app_1813439078_3805997592215552000.flac',\n",
       " 'api_HI_S_28Jul20/app_1159731004_3799521764048896256.flac']"
      ]
     },
     "execution_count": 60,
     "metadata": {},
     "output_type": "execute_result"
    }
   ],
   "source": [
    "list(cer_is_different.audio_path)"
   ]
  },
  {
   "cell_type": "code",
   "execution_count": 37,
   "metadata": {},
   "outputs": [
    {
     "data": {
      "text/plain": [
       "(26, 8)"
      ]
     },
     "execution_count": 37,
     "metadata": {},
     "output_type": "execute_result"
    }
   ],
   "source": [
    "cer_is_different.shape"
   ]
  },
  {
   "cell_type": "code",
   "execution_count": 29,
   "metadata": {},
   "outputs": [
    {
     "data": {
      "text/plain": [
       "(26, 8)"
      ]
     },
     "execution_count": 29,
     "metadata": {},
     "output_type": "execute_result"
    }
   ],
   "source": [
    "cer_is_different.shape"
   ]
  },
  {
   "cell_type": "code",
   "execution_count": 39,
   "metadata": {},
   "outputs": [
    {
     "data": {
      "text/plain": [
       "<AxesSubplot:xlabel='Confidence'>"
      ]
     },
     "execution_count": 39,
     "metadata": {},
     "output_type": "execute_result"
    },
    {
     "data": {
      "image/png": "[encoded data removed]",
      "text/plain": [
       "<Figure size 432x288 with 1 Axes>"
      ]
     },
     "metadata": {
      "needs_background": "light"
     },
     "output_type": "display_data"
    }
   ],
   "source": [
    "sns.distplot(cer_1.loc[cer_1.TAG == '3_HI_FA_EP6'].Confidence)"
   ]
  },
  {
   "cell_type": "code",
   "execution_count": 54,
   "metadata": {},
   "outputs": [],
   "source": [
    "smax_path_hi_fa_file = '/shared/suryansh.tiwari/random_4k_vs_ouput/HI_FA_app_1870371502_3804535257462472960_smax.pkl'\n",
    "smax_path_hi_fa_ep6_file =  \"/shared/suryansh.tiwari/random_4k_vs_ouput/HI_FA_EP6_app_1870371502_3804535257462472960_smax.pkl\"\n",
    "smax_doubt_file = \"/shared/suryansh.tiwari/doubtful_smax.pkl\"\n",
    "# smax_path = '/shared/suryansh.tiwari/random_4k_vs_ouput/HI_FA_EP6_app_948603124_3819926112914375680_smax.pkl'\n",
    "# smax_path = '/shared/suryansh.tiwari/debugging_lm3/attempt_5/app_1028305151_3818713832440726528_softmax.pkl'\n",
    "\n",
    "with open(smax_path_hi_fa_file, \"rb\") as f_smax_hi_fa:\n",
    "    smax_path_hi_fa = pickle.load(f_smax_hi_fa, encoding='bytes')\n",
    "\n",
    "\n",
    "with open(smax_path_hi_fa_ep6_file, \"rb\") as f_smax_hi_fa_ep6:\n",
    "    smax_path_hi_fa_ep6 = pickle.load(f_smax_hi_fa_ep6, encoding='bytes')\n",
    "\n",
    "with open(smax_doubt_file, \"rb\") as f_smax_doubt:\n",
    "    smax_doubt = pickle.load(f_smax_doubt, encoding='bytes')\n"
   ]
  },
  {
   "cell_type": "code",
   "execution_count": 51,
   "metadata": {},
   "outputs": [
    {
     "data": {
      "text/plain": [
       "<AxesSubplot:>"
      ]
     },
     "execution_count": 51,
     "metadata": {},
     "output_type": "execute_result"
    },
    {
     "data": {
      "image/png": "[encoded data removed]",
      "text/plain": [
       "<Figure size 432x288 with 2 Axes>"
      ]
     },
     "metadata": {
      "needs_background": "light"
     },
     "output_type": "display_data"
    }
   ],
   "source": [
    "sns.heatmap(smax_path_hi_fa)"
   ]
  },
  {
   "cell_type": "code",
   "execution_count": 52,
   "metadata": {},
   "outputs": [
    {
     "data": {
      "text/plain": [
       "<AxesSubplot:>"
      ]
     },
     "execution_count": 52,
     "metadata": {},
     "output_type": "execute_result"
    },
    {
     "data": {
      "image/png": "[encoded data removed]",
      "text/plain": [
       "<Figure size 432x288 with 2 Axes>"
      ]
     },
     "metadata": {
      "needs_background": "light"
     },
     "output_type": "display_data"
    }
   ],
   "source": [
    "sns.heatmap(smax_path_hi_fa_ep6)"
   ]
  },
  {
   "cell_type": "code",
   "execution_count": 55,
   "metadata": {},
   "outputs": [
    {
     "data": {
      "text/plain": [
       "<AxesSubplot:>"
      ]
     },
     "execution_count": 55,
     "metadata": {},
     "output_type": "execute_result"
    },
    {
     "data": {
      "image/png": "[encoded data removed]",
      "text/plain": [
       "<Figure size 432x288 with 2 Axes>"
      ]
     },
     "metadata": {
      "needs_background": "light"
     },
     "output_type": "display_data"
    }
   ],
   "source": [
    "sns.heatmap(smax_doubt)"
   ]
  }
 ],
 "metadata": {
  "kernelspec": {
   "display_name": "Python 3",
   "language": "python",
   "name": "python3"
  },
  "language_info": {
   "codemirror_mode": {
    "name": "ipython",
    "version": 3
   },
   "file_extension": ".py",
   "mimetype": "text/x-python",
   "name": "python",
   "nbconvert_exporter": "python",
   "pygments_lexer": "ipython3",
   "version": "3.8.3"
  }
 },
 "nbformat": 4,
 "nbformat_minor": 4
}
