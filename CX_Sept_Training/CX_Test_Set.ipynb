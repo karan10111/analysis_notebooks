{
 "cells": [
  {
   "cell_type": "code",
   "execution_count": 1,
   "metadata": {},
   "outputs": [],
   "source": [
    "import os\n",
    "import base64\n",
    "from sqlalchemy import create_engine\n",
    "import pymysql\n",
    "import pandas as pd\n",
    "import seaborn as sns\n",
    "import matplotlib.pyplot as plt\n",
    "import sys\n",
    "sys.path.append(\"/home/karan.verma\")\n",
    "from verification_guardrails import get_type_of_text "
   ]
  },
  {
   "cell_type": "code",
   "execution_count": 2,
   "metadata": {},
   "outputs": [],
   "source": [
    "userid = 'Transcriber@transcription-prod'\n",
    "passwd = 'TranscribePass1'\n",
    "ipaddr = 'transcription-prod.mysql.database.azure.com'\n",
    "db_name = 'speech_transcribe'\n",
    "dest_sql = \"mysql+mysqldb://\" + userid + \":\" + passwd + \"@\" + ipaddr + \"/\" + db_name + \"?charset=utf8&use_unicode=0\"\n",
    "sql_engine = create_engine(dest_sql,pool_recycle=3600)\n",
    "db_connection    = sql_engine.connect()"
   ]
  },
  {
   "cell_type": "markdown",
   "metadata": {},
   "source": [
    "# Defining Relevant Tags and checking dataframe columns\n"
   ]
  },
  {
   "cell_type": "code",
   "execution_count": 3,
   "metadata": {},
   "outputs": [],
   "source": [
    "cx_hi_tags = [('fk_cx_data', 277), ('fk_cx_data_live_short_ap', 278), ('cx_live_after_may2020', 286)]\n",
    "cx_roman_tags = [('cx_roman', 280)]"
   ]
  },
  {
   "cell_type": "code",
   "execution_count": 4,
   "metadata": {},
   "outputs": [],
   "source": [
    "fx_cx_data_training = pd.read_sql(\"select * from data_cx_transcribe_05102020;\", db_connection)"
   ]
  },
  {
   "cell_type": "code",
   "execution_count": 5,
   "metadata": {},
   "outputs": [
    {
     "data": {
      "text/plain": [
       "277    59913\n",
       "286    21124\n",
       "278    12365\n",
       "Name: tag, dtype: int64"
      ]
     },
     "execution_count": 5,
     "metadata": {},
     "output_type": "execute_result"
    }
   ],
   "source": [
    "fx_cx_data_training.tag.value_counts()"
   ]
  },
  {
   "cell_type": "code",
   "execution_count": 6,
   "metadata": {},
   "outputs": [],
   "source": [
    "cx_all_devnagri_tag_data =  pd.read_sql(\"select * from data_transcribe where tag in (277, 286, 278) and verified in (1,8,11,7,17,18)\", db_connection)"
   ]
  },
  {
   "cell_type": "code",
   "execution_count": 7,
   "metadata": {},
   "outputs": [
    {
     "data": {
      "text/plain": [
       "Timestamp('2020-10-13 13:32:34')"
      ]
     },
     "execution_count": 7,
     "metadata": {},
     "output_type": "execute_result"
    }
   ],
   "source": [
    "cx_all_devnagri_tag_data.verified_time.max()"
   ]
  },
  {
   "cell_type": "code",
   "execution_count": 8,
   "metadata": {},
   "outputs": [
    {
     "data": {
      "text/plain": [
       "b'2020-10-01 14:40:10'"
      ]
     },
     "execution_count": 8,
     "metadata": {},
     "output_type": "execute_result"
    }
   ],
   "source": [
    "fx_cx_data_training.verified_time.max()"
   ]
  },
  {
   "cell_type": "code",
   "execution_count": 9,
   "metadata": {},
   "outputs": [],
   "source": [
    "out_of_training = cx_all_devnagri_tag_data[~cx_all_devnagri_tag_data.text_id.isin(fx_cx_data_training.text_id)]"
   ]
  },
  {
   "cell_type": "code",
   "execution_count": 10,
   "metadata": {},
   "outputs": [
    {
     "data": {
      "text/plain": [
       "(72847, 26)"
      ]
     },
     "execution_count": 10,
     "metadata": {},
     "output_type": "execute_result"
    }
   ],
   "source": [
    "out_of_training.shape"
   ]
  },
  {
   "cell_type": "code",
   "execution_count": 11,
   "metadata": {},
   "outputs": [
    {
     "name": "stderr",
     "output_type": "stream",
     "text": [
      "<ipython-input-11-c0976dce2026>:1: SettingWithCopyWarning: \n",
      "A value is trying to be set on a copy of a slice from a DataFrame.\n",
      "Try using .loc[row_indexer,col_indexer] = value instead\n",
      "\n",
      "See the caveats in the documentation: https://pandas.pydata.org/pandas-docs/stable/user_guide/indexing.html#returning-a-view-versus-a-copy\n",
      "  out_of_training['corrected_utf_text_decoded'] = out_of_training['corrected_utf_text'].apply(base64.urlsafe_b64decode).str.decode('utf8')\n",
      "<ipython-input-11-c0976dce2026>:2: SettingWithCopyWarning: \n",
      "A value is trying to be set on a copy of a slice from a DataFrame.\n",
      "Try using .loc[row_indexer,col_indexer] = value instead\n",
      "\n",
      "See the caveats in the documentation: https://pandas.pydata.org/pandas-docs/stable/user_guide/indexing.html#returning-a-view-versus-a-copy\n",
      "  out_of_training['type_of_text'] = out_of_training['corrected_utf_text_decoded'].apply(get_type_of_text)\n"
     ]
    }
   ],
   "source": [
    "out_of_training['corrected_utf_text_decoded'] = out_of_training['corrected_utf_text'].apply(base64.urlsafe_b64decode).str.decode('utf8')\n",
    "out_of_training['type_of_text'] = out_of_training['corrected_utf_text_decoded'].apply(get_type_of_text)"
   ]
  },
  {
   "cell_type": "code",
   "execution_count": 12,
   "metadata": {},
   "outputs": [
    {
     "data": {
      "text/plain": [
       "1    70153\n",
       "0     1233\n",
       "3     1145\n",
       "2      316\n",
       "Name: type_of_text, dtype: int64"
      ]
     },
     "execution_count": 12,
     "metadata": {},
     "output_type": "execute_result"
    }
   ],
   "source": [
    "out_of_training.type_of_text.value_counts()"
   ]
  },
  {
   "cell_type": "markdown",
   "metadata": {},
   "source": [
    "## TYPE OF DATA\n",
    "0 primary ----\n",
    "1 primary und ----\n",
    "2 sec non prom ----\n",
    "3 sec prom\n"
   ]
  },
  {
   "cell_type": "code",
   "execution_count": null,
   "metadata": {},
   "outputs": [],
   "source": []
  }
 ],
 "metadata": {
  "kernelspec": {
   "display_name": "Python 3",
   "language": "python",
   "name": "python3"
  },
  "language_info": {
   "codemirror_mode": {
    "name": "ipython",
    "version": 3
   },
   "file_extension": ".py",
   "mimetype": "text/x-python",
   "name": "python",
   "nbconvert_exporter": "python",
   "pygments_lexer": "ipython3",
   "version": "3.8.3"
  }
 },
 "nbformat": 4,
 "nbformat_minor": 4
}
