{
 "cells": [
  {
   "cell_type": "code",
   "execution_count": 1,
   "outputs": [],
   "source": [
    "import pandas as pd\n",
    "import seaborn as sns\n",
    "import sys\n",
    "sys.path.append(\"/home/karan.verma/analysis_notebooks/\")\n",
    "from vs_v2_data.utils import get_per_epoch_files\n",
    "\n",
    "sns.set_style(\"darkgrid\")\n",
    "sns.set(rc={'figure.figsize':(11.7,8.27)})"
   ],
   "metadata": {
    "collapsed": false,
    "pycharm": {
     "name": "#%%\n"
    }
   }
  },
  {
   "cell_type": "code",
   "execution_count": 2,
   "outputs": [],
   "source": [
    "sec_non_prom_df = pd.read_csv(\"/shared/karan.verma/vs_exps/vs_v2_data/sec_non_prom_vs_transcribed_train_388k.csv\")\n",
    "sec_non_prom_paths = sec_non_prom_df.audio_file.to_list()\n",
    "sec_non_prom_paths = [eval(x).decode('utf8').split(\".\")[0] for x in sec_non_prom_paths]\n",
    "sec_non_prom_paths_set = set(sec_non_prom_paths)"
   ],
   "metadata": {
    "collapsed": false,
    "pycharm": {
     "name": "#%%\n"
    }
   }
  },
  {
   "cell_type": "code",
   "execution_count": 3,
   "metadata": {
    "pycharm": {
     "name": "#%%\n"
    }
   },
   "outputs": [
    {
     "name": "stdout",
     "output_type": "stream",
     "text": [
      "317045\n"
     ]
    }
   ],
   "source": [
    "epoch_1_files = get_per_epoch_files(\"/shared/karan.verma/vs_exps/audio_paths_used.txt\", 1)\n",
    "transformed_ep1_paths = []\n",
    "\n",
    "for x in epoch_1_files:\n",
    "    file_path = x.split('/')[-2] + \"/\" +  x.split('/')[-1].split(\".\")[0]\n",
    "    transformed_ep1_paths.append(file_path)\n",
    "\n",
    "transformed_ep1_paths_set = set(transformed_ep1_paths)\n",
    "intersection_sec_non_prom = set(sec_non_prom_paths).intersection(transformed_ep1_paths_set)\n",
    "print(len(intersection_sec_non_prom))\n"
   ]
  },
  {
   "cell_type": "code",
   "execution_count": 4,
   "outputs": [
    {
     "name": "stdout",
     "output_type": "stream",
     "text": [
      "342209\n"
     ]
    }
   ],
   "source": [
    "epoch_2_files = get_per_epoch_files(\"/shared/karan.verma/vs_exps/audio_paths_used.txt\", 2)\n",
    "transformed_ep2_paths = []\n",
    "\n",
    "for x in epoch_2_files:\n",
    "    file_path = x.split('/')[-2] + \"/\" +  x.split('/')[-1].split(\".\")[0]\n",
    "    transformed_ep2_paths.append(file_path)\n",
    "\n",
    "transformed_ep2_paths_set = set(transformed_ep2_paths)\n",
    "intersection_sec_non_prom_2 = set(sec_non_prom_paths).intersection(transformed_ep2_paths_set)\n",
    "print(len(intersection_sec_non_prom_2))"
   ],
   "metadata": {
    "collapsed": false,
    "pycharm": {
     "name": "#%%\n"
    }
   }
  },
  {
   "cell_type": "code",
   "execution_count": 5,
   "outputs": [
    {
     "name": "stdout",
     "output_type": "stream",
     "text": [
      "344206\n"
     ]
    }
   ],
   "source": [
    "epoch_3_files = get_per_epoch_files(\"/shared/karan.verma/vs_exps/audio_paths_used.txt\", 3)\n",
    "transformed_ep3_paths = []\n",
    "\n",
    "for x in epoch_3_files:\n",
    "    file_path = x.split('/')[-2] + \"/\" +  x.split('/')[-1].split(\".\")[0]\n",
    "    transformed_ep3_paths.append(file_path)\n",
    "\n",
    "transformed_ep3_paths_set = set(transformed_ep3_paths)\n",
    "intersection_sec_non_prom_3 = set(sec_non_prom_paths).intersection(transformed_ep3_paths_set)\n",
    "print(len(intersection_sec_non_prom_3))\n",
    "\n",
    "\n"
   ],
   "metadata": {
    "collapsed": false,
    "pycharm": {
     "name": "#%%\n"
    }
   }
  },
  {
   "cell_type": "code",
   "execution_count": 10,
   "outputs": [
    {
     "name": "stdout",
     "output_type": "stream",
     "text": [
      "344344\n"
     ]
    }
   ],
   "source": [
    "epoch_4_files = get_per_epoch_files(\"/shared/karan.verma/vs_exps/audio_paths_used.txt\", 4)\n",
    "transformed_ep4_paths = []\n",
    "\n",
    "for x in epoch_4_files:\n",
    "    file_path = x.split('/')[-2] + \"/\" +  x.split('/')[-1].split(\".\")[0]\n",
    "    transformed_ep4_paths.append(file_path)\n",
    "\n",
    "transformed_ep4_paths_set = set(transformed_ep4_paths)\n",
    "intersection_sec_non_prom_4 = set(sec_non_prom_paths).intersection(transformed_ep4_paths_set)\n",
    "print(len(set(intersection_sec_non_prom_4)))\n"
   ],
   "metadata": {
    "collapsed": false,
    "pycharm": {
     "name": "#%%\n"
    }
   }
  },
  {
   "cell_type": "code",
   "execution_count": 9,
   "outputs": [
    {
     "data": {
      "text/plain": "342209"
     },
     "execution_count": 9,
     "metadata": {},
     "output_type": "execute_result"
    }
   ],
   "source": [
    "len(intersection_sec_non_prom_2.intersection(intersection_sec_non_prom_4))"
   ],
   "metadata": {
    "collapsed": false,
    "pycharm": {
     "name": "#%%\n"
    }
   }
  },
  {
   "cell_type": "code",
   "execution_count": null,
   "outputs": [],
   "source": [
    "\n"
   ],
   "metadata": {
    "collapsed": false,
    "pycharm": {
     "name": "#%%\n"
    }
   }
  }
 ],
 "metadata": {
  "kernelspec": {
   "display_name": "Python 3",
   "language": "python",
   "name": "python3"
  },
  "language_info": {
   "codemirror_mode": {
    "name": "ipython",
    "version": 3
   },
   "file_extension": ".py",
   "mimetype": "text/x-python",
   "name": "python",
   "nbconvert_exporter": "python",
   "pygments_lexer": "ipython3",
   "version": "3.8.3"
  }
 },
 "nbformat": 4,
 "nbformat_minor": 4
}