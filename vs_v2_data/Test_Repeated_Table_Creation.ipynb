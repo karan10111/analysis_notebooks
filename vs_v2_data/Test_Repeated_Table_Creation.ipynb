{
 "cells": [
  {
   "cell_type": "code",
   "execution_count": 2,
   "metadata": {},
   "outputs": [],
   "source": [
    "import os\n",
    "import base64\n",
    "from sqlalchemy import create_engine\n",
    "import pymysql\n",
    "import pandas as pd\n",
    "import seaborn as sns\n",
    "import matplotlib.pyplot as plt\n",
    "import sys\n",
    "import base64"
   ]
  },
  {
   "cell_type": "code",
   "execution_count": 3,
   "metadata": {},
   "outputs": [],
   "source": [
    "userid = 'Transcriber@transcription-prod'\n",
    "passwd = 'TranscribePass1'\n",
    "ipaddr = 'transcription-prod.mysql.database.azure.com'\n",
    "db_name = 'speech_transcribe'\n",
    "dest_sql = \"mysql+mysqldb://\" + userid + \":\" + passwd + \"@\" + ipaddr + \"/\" + db_name + \"?charset=utf8&use_unicode=0\"\n",
    "sql_engine = create_engine(dest_sql,pool_recycle=3600)\n",
    "db_connection    = sql_engine.connect()"
   ]
  },
  {
   "cell_type": "code",
   "execution_count": 5,
   "metadata": {},
   "outputs": [
    {
     "data": {
      "text/html": [
       "<div>\n",
       "<style scoped>\n",
       "    .dataframe tbody tr th:only-of-type {\n",
       "        vertical-align: middle;\n",
       "    }\n",
       "\n",
       "    .dataframe tbody tr th {\n",
       "        vertical-align: top;\n",
       "    }\n",
       "\n",
       "    .dataframe thead th {\n",
       "        text-align: right;\n",
       "    }\n",
       "</style>\n",
       "<table border=\"1\" class=\"dataframe\">\n",
       "  <thead>\n",
       "    <tr style=\"text-align: right;\">\n",
       "      <th></th>\n",
       "      <th>text_id</th>\n",
       "      <th>uploaded</th>\n",
       "      <th>verified</th>\n",
       "      <th>user_id</th>\n",
       "      <th>tag</th>\n",
       "      <th>verified_by</th>\n",
       "      <th>length</th>\n",
       "      <th>confidence</th>\n",
       "      <th>uploaded_time</th>\n",
       "      <th>verified_time</th>\n",
       "      <th>last_modified_time</th>\n",
       "      <th>base_dir</th>\n",
       "      <th>utf_text</th>\n",
       "      <th>corrected_utf_text</th>\n",
       "      <th>hindi_text</th>\n",
       "      <th>audio_file</th>\n",
       "      <th>hindi_txt</th>\n",
       "      <th>pre_processed</th>\n",
       "      <th>file_id</th>\n",
       "      <th>seq_id</th>\n",
       "      <th>test_data</th>\n",
       "      <th>lang</th>\n",
       "      <th>lang_lm</th>\n",
       "      <th>auto_lang</th>\n",
       "      <th>current_month_verification</th>\n",
       "    </tr>\n",
       "  </thead>\n",
       "  <tbody>\n",
       "    <tr>\n",
       "      <th>0</th>\n",
       "      <td>43471664</td>\n",
       "      <td>1</td>\n",
       "      <td>1</td>\n",
       "      <td>6835</td>\n",
       "      <td>284</td>\n",
       "      <td>5010</td>\n",
       "      <td>644</td>\n",
       "      <td>0.694978</td>\n",
       "      <td>None</td>\n",
       "      <td>2020-07-14 15:05:21</td>\n",
       "      <td>2020-08-27 10:30:16</td>\n",
       "      <td>b'livtranscription/transcription-gluster-audio/'</td>\n",
       "      <td>b'4KS14KWC4KSu4KWH4KSoIOCksOCkqOCkv-CkguCklyDg...</td>\n",
       "      <td>b'4KS14KS_4KSu4KWH4KSoIOCksOCkqOCkv-CkguCklyDg...</td>\n",
       "      <td>None</td>\n",
       "      <td>b'api_EN_S_09Jun20/app_162973279_3764026045167...</td>\n",
       "      <td>None</td>\n",
       "      <td>0</td>\n",
       "      <td>67042816</td>\n",
       "      <td>0</td>\n",
       "      <td>0</td>\n",
       "      <td>1</td>\n",
       "      <td>0</td>\n",
       "      <td>b'NA'</td>\n",
       "      <td>1</td>\n",
       "    </tr>\n",
       "  </tbody>\n",
       "</table>\n",
       "</div>"
      ],
      "text/plain": [
       "    text_id  uploaded  verified  user_id  tag  verified_by  length  confidence uploaded_time       verified_time  last_modified_time                                          base_dir                                           utf_text                                 corrected_utf_text hindi_text                                         audio_file hindi_txt  pre_processed   file_id  seq_id  test_data  lang  lang_lm auto_lang  current_month_verification\n",
       "0  43471664         1         1     6835  284         5010     644    0.694978          None 2020-07-14 15:05:21 2020-08-27 10:30:16  b'livtranscription/transcription-gluster-audio/'  b'4KS14KWC4KSu4KWH4KSoIOCksOCkqOCkv-CkguCklyDg...  b'4KS14KS_4KSu4KWH4KSoIOCksOCkqOCkv-CkguCklyDg...       None  b'api_EN_S_09Jun20/app_162973279_3764026045167...      None              0  67042816       0          0     1        0     b'NA'                           1"
      ]
     },
     "execution_count": 5,
     "metadata": {},
     "output_type": "execute_result"
    }
   ],
   "source": [
    "pd.set_option('display.max_columns', 40)\n",
    "pd.set_option('display.width', 1000)\n",
    "repeated = pd.read_sql('select * from vs_data_transcribe_till_27082020', db_connection)\n",
    "repeated.head(1)"
   ]
  },
  {
   "cell_type": "code",
   "execution_count": 4,
   "metadata": {},
   "outputs": [
    {
     "data": {
      "text/html": [
       "<div>\n",
       "<style scoped>\n",
       "    .dataframe tbody tr th:only-of-type {\n",
       "        vertical-align: middle;\n",
       "    }\n",
       "\n",
       "    .dataframe tbody tr th {\n",
       "        vertical-align: top;\n",
       "    }\n",
       "\n",
       "    .dataframe thead th {\n",
       "        text-align: right;\n",
       "    }\n",
       "</style>\n",
       "<table border=\"1\" class=\"dataframe\">\n",
       "  <thead>\n",
       "    <tr style=\"text-align: right;\">\n",
       "      <th></th>\n",
       "      <th>index</th>\n",
       "      <th>text_id</th>\n",
       "      <th>uploaded</th>\n",
       "      <th>verified</th>\n",
       "      <th>user_id</th>\n",
       "      <th>tag</th>\n",
       "      <th>verified_by</th>\n",
       "      <th>length</th>\n",
       "      <th>confidence</th>\n",
       "      <th>uploaded_time</th>\n",
       "      <th>verified_time</th>\n",
       "      <th>last_modified_time</th>\n",
       "      <th>base_dir</th>\n",
       "      <th>utf_text</th>\n",
       "      <th>corrected_utf_text</th>\n",
       "      <th>hindi_text</th>\n",
       "      <th>audio_file</th>\n",
       "      <th>hindi_txt</th>\n",
       "      <th>pre_processed</th>\n",
       "      <th>file_id</th>\n",
       "      <th>seq_id</th>\n",
       "      <th>test_data</th>\n",
       "      <th>lang</th>\n",
       "      <th>lang_lm</th>\n",
       "      <th>auto_lang</th>\n",
       "      <th>current_month_verification</th>\n",
       "    </tr>\n",
       "  </thead>\n",
       "  <tbody>\n",
       "    <tr>\n",
       "      <th>0</th>\n",
       "      <td>0</td>\n",
       "      <td>43541562</td>\n",
       "      <td>1</td>\n",
       "      <td>18</td>\n",
       "      <td>6831</td>\n",
       "      <td>284</td>\n",
       "      <td>5075</td>\n",
       "      <td>454</td>\n",
       "      <td>0.63473</td>\n",
       "      <td>None</td>\n",
       "      <td>2020-08-17 17:39:13</td>\n",
       "      <td>2020-08-27 10:30:16</td>\n",
       "      <td>b'livtranscription/transcription-gluster-audio/'</td>\n",
       "      <td>b'4KS14KWJ4KSaIOCknOClgA=='</td>\n",
       "      <td>b'4KS14KWJ4KSaIEAgXyBA'</td>\n",
       "      <td>None</td>\n",
       "      <td>b'api_EN_S_11Jun20/app_1760062898_376556396070...</td>\n",
       "      <td>None</td>\n",
       "      <td>0</td>\n",
       "      <td>7776768</td>\n",
       "      <td>0</td>\n",
       "      <td>0</td>\n",
       "      <td>1</td>\n",
       "      <td>0</td>\n",
       "      <td>b'NA'</td>\n",
       "      <td>1</td>\n",
       "    </tr>\n",
       "  </tbody>\n",
       "</table>\n",
       "</div>"
      ],
      "text/plain": [
       "   index   text_id  uploaded  verified  user_id  tag  verified_by  length  confidence uploaded_time       verified_time  last_modified_time                                          base_dir                     utf_text       corrected_utf_text hindi_text                                         audio_file hindi_txt  pre_processed  file_id  seq_id  test_data  lang  lang_lm auto_lang  current_month_verification\n",
       "0      0  43541562         1        18     6831  284         5075     454     0.63473          None 2020-08-17 17:39:13 2020-08-27 10:30:16  b'livtranscription/transcription-gluster-audio/'  b'4KS14KWJ4KSaIOCknOClgA=='  b'4KS14KWJ4KSaIEAgXyBA'       None  b'api_EN_S_11Jun20/app_1760062898_376556396070...      None              0  7776768       0          0     1        0     b'NA'                           1"
      ]
     },
     "execution_count": 4,
     "metadata": {},
     "output_type": "execute_result"
    }
   ],
   "source": [
    "pd.set_option('display.max_columns', 40)\n",
    "pd.set_option('display.width', 1000)\n",
    "repeated_1 = pd.read_sql('select * from data_transcribe_repeated_43541562_sec_non_prominent', db_connection)\n",
    "repeated_1.head(1)"
   ]
  },
  {
   "cell_type": "code",
   "execution_count": 12,
   "metadata": {},
   "outputs": [],
   "source": [
    "repeated = repeated.sort_values(by=['length'], ascending=False)"
   ]
  },
  {
   "cell_type": "code",
   "execution_count": 31,
   "metadata": {},
   "outputs": [
    {
     "data": {
      "text/plain": [
       "'होन्नर का नाइन सेवन कॉस्ट @ _ @ _ @ _ @'"
      ]
     },
     "execution_count": 31,
     "metadata": {},
     "output_type": "execute_result"
    }
   ],
   "source": [
    "base64.b64decode(repeated[repeated.text_id == 45396400].corrected_utf_text.tolist()[0].decode()).decode()"
   ]
  },
  {
   "cell_type": "code",
   "execution_count": 36,
   "metadata": {},
   "outputs": [],
   "source": [
    "repeated = repeated[repeated.text_id == 45396400]\n",
    "repeated = pd.concat([repeated]*500).sort_index()"
   ]
  },
  {
   "cell_type": "code",
   "execution_count": 34,
   "metadata": {},
   "outputs": [
    {
     "data": {
      "text/html": [
       "<div>\n",
       "<style scoped>\n",
       "    .dataframe tbody tr th:only-of-type {\n",
       "        vertical-align: middle;\n",
       "    }\n",
       "\n",
       "    .dataframe tbody tr th {\n",
       "        vertical-align: top;\n",
       "    }\n",
       "\n",
       "    .dataframe thead th {\n",
       "        text-align: right;\n",
       "    }\n",
       "</style>\n",
       "<table border=\"1\" class=\"dataframe\">\n",
       "  <thead>\n",
       "    <tr style=\"text-align: right;\">\n",
       "      <th></th>\n",
       "      <th>text_id</th>\n",
       "      <th>uploaded</th>\n",
       "      <th>verified</th>\n",
       "      <th>user_id</th>\n",
       "      <th>tag</th>\n",
       "      <th>verified_by</th>\n",
       "      <th>length</th>\n",
       "      <th>confidence</th>\n",
       "      <th>uploaded_time</th>\n",
       "      <th>verified_time</th>\n",
       "      <th>last_modified_time</th>\n",
       "      <th>base_dir</th>\n",
       "      <th>utf_text</th>\n",
       "      <th>corrected_utf_text</th>\n",
       "      <th>hindi_text</th>\n",
       "      <th>audio_file</th>\n",
       "      <th>hindi_txt</th>\n",
       "      <th>pre_processed</th>\n",
       "      <th>file_id</th>\n",
       "      <th>seq_id</th>\n",
       "      <th>test_data</th>\n",
       "      <th>lang</th>\n",
       "      <th>lang_lm</th>\n",
       "      <th>auto_lang</th>\n",
       "      <th>current_month_verification</th>\n",
       "    </tr>\n",
       "  </thead>\n",
       "  <tbody>\n",
       "    <tr>\n",
       "      <th>1080040</th>\n",
       "      <td>45396400</td>\n",
       "      <td>1</td>\n",
       "      <td>18</td>\n",
       "      <td>6773</td>\n",
       "      <td>285</td>\n",
       "      <td>5022</td>\n",
       "      <td>997</td>\n",
       "      <td>0.561086</td>\n",
       "      <td>None</td>\n",
       "      <td>2020-08-05 13:59:49</td>\n",
       "      <td>2020-08-27 10:30:16</td>\n",
       "      <td>b'livtranscription/transcription-gluster-audio/'</td>\n",
       "      <td>b'4KSR4KSw4KWN4KSh4KSwIOCkleCkviDgpKjgpL7gpIfg...</td>\n",
       "      <td>b'4KS54KWL4KSo4KWN4KSo4KSwIOCkleCkviDgpKjgpL7g...</td>\n",
       "      <td>None</td>\n",
       "      <td>b'api_HI_S_04Aug20/app_726083806_3804528468411...</td>\n",
       "      <td>None</td>\n",
       "      <td>0</td>\n",
       "      <td>11023360</td>\n",
       "      <td>0</td>\n",
       "      <td>0</td>\n",
       "      <td>1</td>\n",
       "      <td>0</td>\n",
       "      <td>b'NA'</td>\n",
       "      <td>1</td>\n",
       "    </tr>\n",
       "  </tbody>\n",
       "</table>\n",
       "</div>"
      ],
      "text/plain": [
       "          text_id  uploaded  verified  user_id  tag  verified_by  length  confidence uploaded_time       verified_time  last_modified_time                                          base_dir                                           utf_text                                 corrected_utf_text hindi_text                                         audio_file hindi_txt  pre_processed   file_id  seq_id  test_data  lang  lang_lm auto_lang  current_month_verification\n",
       "1080040  45396400         1        18     6773  285         5022     997    0.561086          None 2020-08-05 13:59:49 2020-08-27 10:30:16  b'livtranscription/transcription-gluster-audio/'  b'4KSR4KSw4KWN4KSh4KSwIOCkleCkviDgpKjgpL7gpIfg...  b'4KS54KWL4KSo4KWN4KSo4KSwIOCkleCkviDgpKjgpL7g...       None  b'api_HI_S_04Aug20/app_726083806_3804528468411...      None              0  11023360       0          0     1        0     b'NA'                           1"
      ]
     },
     "execution_count": 34,
     "metadata": {},
     "output_type": "execute_result"
    }
   ],
   "source": [
    "repeated = repeated"
   ]
  },
  {
   "cell_type": "code",
   "execution_count": 14,
   "metadata": {},
   "outputs": [
    {
     "data": {
      "text/plain": [
       "[b'api_EN_S_11Jun20/app_1760062898_3765563960707776768.mp3']"
      ]
     },
     "execution_count": 14,
     "metadata": {},
     "output_type": "execute_result"
    }
   ],
   "source": [
    "repeated.head(1)['audio_file'].tolist()"
   ]
  },
  {
   "cell_type": "code",
   "execution_count": null,
   "metadata": {},
   "outputs": [],
   "source": [
    "# Check for columns\n",
    "data_to_sql.columns"
   ]
  },
  {
   "cell_type": "code",
   "execution_count": null,
   "metadata": {},
   "outputs": [],
   "source": [
    "# Change the details of table\n",
    "\n",
    "from sqlalchemy import create_engine\n",
    "import pymysql\n",
    "import pandas as pd\n",
    "\n",
    "tableName   = \"data_transcribe_repeated_45396400_sec_non_prominent\"\n",
    "\n",
    "userid = 'Transcriber@transcription-prod'\n",
    "passwd = 'TranscribePass1'\n",
    "ipaddr = 'transcription-prod.mysql.database.azure.com'\n",
    "db_name = 'speech_transcribe'\n",
    "dest_sql = \"mysql+mysqldb://\" + userid + \":\" + passwd + \"@\" + ipaddr + \"/\" + db_name + \"?charset=utf8&use_unicode=0\"\n",
    "sql_engine = create_engine(dest_sql,pool_recycle=3600)\n",
    "db_connection    = sql_engine.connect()\n",
    "\n",
    "try:\n",
    "    frame = data_to_sql.to_sql(tableName, db_connection, if_exists='fail');\n",
    "except ValueError as vx:\n",
    "    print(vx)\n",
    "except Exception as ex:   \n",
    "    print(ex)\n",
    "else:\n",
    "    print(\"Table %s created successfully.\"%tableName);   \n",
    "finally:\n",
    "    db_connection.close()"
   ]
  },
  {
   "cell_type": "code",
   "execution_count": 5,
   "metadata": {},
   "outputs": [],
   "source": [
    "g = 1"
   ]
  },
  {
   "cell_type": "code",
   "execution_count": null,
   "metadata": {},
   "outputs": [],
   "source": []
  }
 ],
 "metadata": {
  "kernelspec": {
   "display_name": "Python 3",
   "language": "python",
   "name": "python3"
  },
  "language_info": {
   "codemirror_mode": {
    "name": "ipython",
    "version": 3
   },
   "file_extension": ".py",
   "mimetype": "text/x-python",
   "name": "python",
   "nbconvert_exporter": "python",
   "pygments_lexer": "ipython3",
   "version": "3.8.3"
  }
 },
 "nbformat": 4,
 "nbformat_minor": 4
}
