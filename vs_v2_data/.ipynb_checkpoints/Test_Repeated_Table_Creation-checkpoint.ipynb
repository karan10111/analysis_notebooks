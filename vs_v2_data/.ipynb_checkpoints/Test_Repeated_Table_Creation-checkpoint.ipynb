{
 "cells": [
  {
   "cell_type": "code",
   "execution_count": null,
   "metadata": {},
   "outputs": [],
   "source": [
    "# Replace Dataframes to be used\n",
    "\n",
    "data_from_transcribe_prev_overlap_sec_nonprom_example_1 = data_from_transcribe_prev_overlap_sec_nonprom[data_from_transcribe_prev_overlap_sec_nonprom.text_id==43541562]\n",
    "data_to_sql = pd.concat([data_from_transcribe_prev_overlap_sec_nonprom_example_1]*500, ignore_index=True)\n"
   ]
  },
  {
   "cell_type": "code",
   "execution_count": null,
   "metadata": {},
   "outputs": [],
   "source": [
    "# Check for columns\n",
    "data_to_sql.columns"
   ]
  },
  {
   "cell_type": "code",
   "execution_count": null,
   "metadata": {},
   "outputs": [],
   "source": [
    "# Change the details of table\n",
    "\n",
    "from sqlalchemy import create_engine\n",
    "import pymysql\n",
    "import pandas as pd\n",
    "\n",
    "tableName   = \"data_transcribe_repeated_43541562_sec_non_prominent\"\n",
    "\n",
    "userid = 'Transcriber@transcription-prod'\n",
    "passwd = 'TranscribePass1'\n",
    "ipaddr = 'transcription-prod.mysql.database.azure.com'\n",
    "db_name = 'speech_transcribe'\n",
    "dest_sql = \"mysql+mysqldb://\" + userid + \":\" + passwd + \"@\" + ipaddr + \"/\" + db_name + \"?charset=utf8&use_unicode=0\"\n",
    "sql_engine = create_engine(dest_sql,pool_recycle=3600)\n",
    "db_connection    = sql_engine.connect()\n",
    "\n",
    "try:\n",
    "    frame = data_to_sql.to_sql(tableName, db_connection, if_exists='fail');\n",
    "except ValueError as vx:\n",
    "    print(vx)\n",
    "except Exception as ex:   \n",
    "    print(ex)\n",
    "else:\n",
    "    print(\"Table %s created successfully.\"%tableName);   \n",
    "finally:\n",
    "    db_connection.close()"
   ]
  }
 ],
 "metadata": {
  "kernelspec": {
   "display_name": "Python 3",
   "language": "python",
   "name": "python3"
  },
  "language_info": {
   "codemirror_mode": {
    "name": "ipython",
    "version": 3
   },
   "file_extension": ".py",
   "mimetype": "text/x-python",
   "name": "python",
   "nbconvert_exporter": "python",
   "pygments_lexer": "ipython3",
   "version": "3.8.3"
  }
 },
 "nbformat": 4,
 "nbformat_minor": 4
}
