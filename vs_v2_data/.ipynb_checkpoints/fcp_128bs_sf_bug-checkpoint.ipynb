{
 "cells": [
  {
   "cell_type": "code",
   "execution_count": 3,
   "metadata": {},
   "outputs": [],
   "source": [
    "import pandas as pd\n",
    "import seaborn as sns\n",
    "\n",
    "sns.set_style(\"darkgrid\")\n",
    "sns.set(rc={'figure.figsize':(11.7,8.27)})\n",
    "\n",
    "from matplotlib import pyplot as plt"
   ]
  },
  {
   "cell_type": "markdown",
   "metadata": {},
   "source": [
    "# Get Data"
   ]
  },
  {
   "cell_type": "code",
   "execution_count": 10,
   "metadata": {},
   "outputs": [],
   "source": [
    "baseline = pd.read_csv(\"/shared/suryansh.tiwari/output_csv/VS_BASE_2_voice_search_5th_oct.csv\")  # baseline\n",
    "baseline_grocery = pd.read_csv(\"/shared/karan.verma/fcp_output_files/5_oct_HI.txt\")\n",
    "\n",
    "\n",
    " \n",
    "ep_1_prod = pd.read_csv(\"/shared/suryansh.tiwari/output_csv/VS_4999_2_voice_search_5th_oct.csv\")  \n",
    "\n",
    "\n",
    "ep_2_tf = pd.read_csv(\"/shared/karan.verma/fcp_output_files/5_oct_VS_128BS_EP1.txt\")\n",
    "ep_2_prod = pd.read_csv(\"/shared/suryansh.tiwari/output_csv/VS_9999_2_voice_search_5th_oct.csv\") \n",
    "\n",
    "ep_3_tf = pd.read_csv(\"/shared/karan.verma/fcp_output_files/5_oct_VS_128BS_EP2.txt\")\n",
    "ep_3_prod = pd.read_csv(\"/shared/karan.verma/fcp_outputs/5_oct_14999.txt\")\n",
    "\n",
    "\n",
    "ep_4_tf = pd.read_csv(\"/shared/karan.verma/fcp_output_files/5_oct_VS_128BS_EP3.txt\")\n",
    "ep_4_prod = pd.read_csv(\"/shared/karan.verma/fcp_output_files//5_oct_19999.txt\")\n",
    "\n",
    "\n",
    "ep_5_prod = pd.read_csv(\"/shared/karan.verma/fcp_output_files/5_oct_24999.txt\")\n",
    "\n",
    "\n",
    "ep_6_tf = pd.read_csv(\"/shared/karan.verma/fcp_output_files/5_oct_VS_128BS_EP6.txt\")\n",
    "\n",
    "prod = pd.read_csv(\"/shared/suryansh.tiwari/output_csv/HI_FA_2_voice_search_5th_oct.csv\") # Current Prod"
   ]
  },
  {
   "cell_type": "code",
   "execution_count": 4,
   "metadata": {},
   "outputs": [
    {
     "data": {
      "text/html": [
       "<div>\n",
       "<style scoped>\n",
       "    .dataframe tbody tr th:only-of-type {\n",
       "        vertical-align: middle;\n",
       "    }\n",
       "\n",
       "    .dataframe tbody tr th {\n",
       "        vertical-align: top;\n",
       "    }\n",
       "\n",
       "    .dataframe thead tr th {\n",
       "        text-align: left;\n",
       "    }\n",
       "</style>\n",
       "<table border=\"1\" class=\"dataframe\">\n",
       "  <thead>\n",
       "    <tr>\n",
       "      <th></th>\n",
       "      <th>Type_of_text</th>\n",
       "      <th>wer</th>\n",
       "    </tr>\n",
       "  </thead>\n",
       "  <tbody>\n",
       "    <tr>\n",
       "      <th>0</th>\n",
       "      <td>multi_speaker_replaced_by_blank</td>\n",
       "      <td>0.209641</td>\n",
       "    </tr>\n",
       "    <tr>\n",
       "      <th>1</th>\n",
       "      <td>multi_speaker_replaced_by_wildcard</td>\n",
       "      <td>0.141445</td>\n",
       "    </tr>\n",
       "    <tr>\n",
       "      <th>2</th>\n",
       "      <td>primary_speaker_replaced_by_blank</td>\n",
       "      <td>0.136555</td>\n",
       "    </tr>\n",
       "    <tr>\n",
       "      <th>3</th>\n",
       "      <td>primary_speaker_with_wildcard</td>\n",
       "      <td>0.108601</td>\n",
       "    </tr>\n",
       "  </tbody>\n",
       "</table>\n",
       "</div>"
      ],
      "text/plain": [
       "                         Type_of_text       wer\n",
       "0     multi_speaker_replaced_by_blank  0.209641\n",
       "1  multi_speaker_replaced_by_wildcard  0.141445\n",
       "2   primary_speaker_replaced_by_blank  0.136555\n",
       "3       primary_speaker_with_wildcard  0.108601"
      ]
     },
     "execution_count": 4,
     "metadata": {},
     "output_type": "execute_result"
    }
   ],
   "source": [
    "prod_wer = (prod.groupby(by=\"Type_of_text\")[\"WER*GT_len\"].agg('sum')/prod.groupby(by=\"Type_of_text\")[\"GT_len\"].agg('sum')).reset_index()\n",
    "prod_wer.columns = [['Type_of_text', \"wer\"]]\n",
    "prod_wer"
   ]
  },
  {
   "cell_type": "markdown",
   "metadata": {},
   "source": [
    "# WER/CER"
   ]
  },
  {
   "cell_type": "markdown",
   "metadata": {},
   "source": [
    "#### Baseline WER"
   ]
  },
  {
   "cell_type": "code",
   "execution_count": 5,
   "metadata": {},
   "outputs": [
    {
     "data": {
      "text/html": [
       "<div>\n",
       "<style scoped>\n",
       "    .dataframe tbody tr th:only-of-type {\n",
       "        vertical-align: middle;\n",
       "    }\n",
       "\n",
       "    .dataframe tbody tr th {\n",
       "        vertical-align: top;\n",
       "    }\n",
       "\n",
       "    .dataframe thead tr th {\n",
       "        text-align: left;\n",
       "    }\n",
       "</style>\n",
       "<table border=\"1\" class=\"dataframe\">\n",
       "  <thead>\n",
       "    <tr>\n",
       "      <th></th>\n",
       "      <th>Type_of_text</th>\n",
       "      <th>wer</th>\n",
       "    </tr>\n",
       "  </thead>\n",
       "  <tbody>\n",
       "    <tr>\n",
       "      <th>0</th>\n",
       "      <td>multi_speaker_replaced_by_blank</td>\n",
       "      <td>0.301675</td>\n",
       "    </tr>\n",
       "    <tr>\n",
       "      <th>1</th>\n",
       "      <td>multi_speaker_replaced_by_wildcard</td>\n",
       "      <td>0.198476</td>\n",
       "    </tr>\n",
       "    <tr>\n",
       "      <th>2</th>\n",
       "      <td>primary_speaker_replaced_by_blank</td>\n",
       "      <td>0.193288</td>\n",
       "    </tr>\n",
       "    <tr>\n",
       "      <th>3</th>\n",
       "      <td>primary_speaker_with_wildcard</td>\n",
       "      <td>0.165746</td>\n",
       "    </tr>\n",
       "  </tbody>\n",
       "</table>\n",
       "</div>"
      ],
      "text/plain": [
       "                         Type_of_text       wer\n",
       "0     multi_speaker_replaced_by_blank  0.301675\n",
       "1  multi_speaker_replaced_by_wildcard  0.198476\n",
       "2   primary_speaker_replaced_by_blank  0.193288\n",
       "3       primary_speaker_with_wildcard  0.165746"
      ]
     },
     "execution_count": 5,
     "metadata": {},
     "output_type": "execute_result"
    }
   ],
   "source": [
    "baseline_wer = (baseline.groupby(by=\"Type_of_text\")[\"WER*GT_len\"].agg('sum')/baseline.groupby(by=\"Type_of_text\")[\"GT_len\"].agg('sum')).reset_index()\n",
    "baseline_wer.columns = [['Type_of_text', \"wer\"]]\n",
    "baseline_wer"
   ]
  },
  {
   "cell_type": "code",
   "execution_count": 6,
   "metadata": {},
   "outputs": [
    {
     "data": {
      "text/html": [
       "<div>\n",
       "<style scoped>\n",
       "    .dataframe tbody tr th:only-of-type {\n",
       "        vertical-align: middle;\n",
       "    }\n",
       "\n",
       "    .dataframe tbody tr th {\n",
       "        vertical-align: top;\n",
       "    }\n",
       "\n",
       "    .dataframe thead tr th {\n",
       "        text-align: left;\n",
       "    }\n",
       "</style>\n",
       "<table border=\"1\" class=\"dataframe\">\n",
       "  <thead>\n",
       "    <tr>\n",
       "      <th></th>\n",
       "      <th>Type_of_text</th>\n",
       "      <th>wer</th>\n",
       "    </tr>\n",
       "  </thead>\n",
       "  <tbody>\n",
       "    <tr>\n",
       "      <th>0</th>\n",
       "      <td>multi_speaker_replaced_by_blank</td>\n",
       "      <td>0.414605</td>\n",
       "    </tr>\n",
       "    <tr>\n",
       "      <th>1</th>\n",
       "      <td>multi_speaker_replaced_by_wildcard</td>\n",
       "      <td>0.297978</td>\n",
       "    </tr>\n",
       "    <tr>\n",
       "      <th>2</th>\n",
       "      <td>primary_speaker_replaced_by_blank</td>\n",
       "      <td>0.291911</td>\n",
       "    </tr>\n",
       "    <tr>\n",
       "      <th>3</th>\n",
       "      <td>primary_speaker_with_wildcard</td>\n",
       "      <td>0.266760</td>\n",
       "    </tr>\n",
       "  </tbody>\n",
       "</table>\n",
       "</div>"
      ],
      "text/plain": [
       "                         Type_of_text       wer\n",
       "0     multi_speaker_replaced_by_blank  0.414605\n",
       "1  multi_speaker_replaced_by_wildcard  0.297978\n",
       "2   primary_speaker_replaced_by_blank  0.291911\n",
       "3       primary_speaker_with_wildcard  0.266760"
      ]
     },
     "execution_count": 6,
     "metadata": {},
     "output_type": "execute_result"
    }
   ],
   "source": [
    "baseline_grocery_wer = (baseline_grocery.groupby(by=\"Type_of_text\")[\"WER*GT_len\"].agg('sum')/baseline_grocery.groupby(by=\"Type_of_text\")[\"GT_len\"].agg('sum')).reset_index()\n",
    "baseline_grocery_wer.columns = [['Type_of_text', \"wer\"]]\n",
    "baseline_grocery_wer"
   ]
  },
  {
   "cell_type": "markdown",
   "metadata": {},
   "source": [
    "### Theano 1st epoch WER"
   ]
  },
  {
   "cell_type": "code",
   "execution_count": 8,
   "metadata": {},
   "outputs": [
    {
     "data": {
      "text/html": [
       "<div>\n",
       "<style scoped>\n",
       "    .dataframe tbody tr th:only-of-type {\n",
       "        vertical-align: middle;\n",
       "    }\n",
       "\n",
       "    .dataframe tbody tr th {\n",
       "        vertical-align: top;\n",
       "    }\n",
       "\n",
       "    .dataframe thead tr th {\n",
       "        text-align: left;\n",
       "    }\n",
       "</style>\n",
       "<table border=\"1\" class=\"dataframe\">\n",
       "  <thead>\n",
       "    <tr>\n",
       "      <th></th>\n",
       "      <th>Type_of_text</th>\n",
       "      <th>wer</th>\n",
       "    </tr>\n",
       "  </thead>\n",
       "  <tbody>\n",
       "    <tr>\n",
       "      <th>0</th>\n",
       "      <td>multi_speaker_replaced_by_blank</td>\n",
       "      <td>0.264413</td>\n",
       "    </tr>\n",
       "    <tr>\n",
       "      <th>1</th>\n",
       "      <td>multi_speaker_replaced_by_wildcard</td>\n",
       "      <td>0.198913</td>\n",
       "    </tr>\n",
       "    <tr>\n",
       "      <th>2</th>\n",
       "      <td>primary_speaker_replaced_by_blank</td>\n",
       "      <td>0.193535</td>\n",
       "    </tr>\n",
       "    <tr>\n",
       "      <th>3</th>\n",
       "      <td>primary_speaker_with_wildcard</td>\n",
       "      <td>0.167972</td>\n",
       "    </tr>\n",
       "  </tbody>\n",
       "</table>\n",
       "</div>"
      ],
      "text/plain": [
       "                         Type_of_text       wer\n",
       "0     multi_speaker_replaced_by_blank  0.264413\n",
       "1  multi_speaker_replaced_by_wildcard  0.198913\n",
       "2   primary_speaker_replaced_by_blank  0.193535\n",
       "3       primary_speaker_with_wildcard  0.167972"
      ]
     },
     "execution_count": 8,
     "metadata": {},
     "output_type": "execute_result"
    }
   ],
   "source": [
    "ep_1_prod_wer = (ep_1_prod.groupby(by=\"Type_of_text\")[\"WER*GT_len\"].agg('sum')/ep_1_prod.groupby(by=\"Type_of_text\")[\"GT_len\"].agg('sum')).reset_index()\n",
    "ep_1_prod_wer.columns = [['Type_of_text', \"wer\"]]\n",
    "ep_1_prod_wer"
   ]
  },
  {
   "cell_type": "markdown",
   "metadata": {},
   "source": [
    "### TF 10k Steps, 2nd Epoch WER"
   ]
  },
  {
   "cell_type": "code",
   "execution_count": 9,
   "metadata": {},
   "outputs": [
    {
     "data": {
      "text/html": [
       "<div>\n",
       "<style scoped>\n",
       "    .dataframe tbody tr th:only-of-type {\n",
       "        vertical-align: middle;\n",
       "    }\n",
       "\n",
       "    .dataframe tbody tr th {\n",
       "        vertical-align: top;\n",
       "    }\n",
       "\n",
       "    .dataframe thead tr th {\n",
       "        text-align: left;\n",
       "    }\n",
       "</style>\n",
       "<table border=\"1\" class=\"dataframe\">\n",
       "  <thead>\n",
       "    <tr>\n",
       "      <th></th>\n",
       "      <th>Type_of_text</th>\n",
       "      <th>wer</th>\n",
       "    </tr>\n",
       "  </thead>\n",
       "  <tbody>\n",
       "    <tr>\n",
       "      <th>0</th>\n",
       "      <td>multi_speaker_replaced_by_blank</td>\n",
       "      <td>0.266410</td>\n",
       "    </tr>\n",
       "    <tr>\n",
       "      <th>1</th>\n",
       "      <td>multi_speaker_replaced_by_wildcard</td>\n",
       "      <td>0.188019</td>\n",
       "    </tr>\n",
       "    <tr>\n",
       "      <th>2</th>\n",
       "      <td>primary_speaker_replaced_by_blank</td>\n",
       "      <td>0.181496</td>\n",
       "    </tr>\n",
       "    <tr>\n",
       "      <th>3</th>\n",
       "      <td>primary_speaker_with_wildcard</td>\n",
       "      <td>0.155933</td>\n",
       "    </tr>\n",
       "  </tbody>\n",
       "</table>\n",
       "</div>"
      ],
      "text/plain": [
       "                         Type_of_text       wer\n",
       "0     multi_speaker_replaced_by_blank  0.266410\n",
       "1  multi_speaker_replaced_by_wildcard  0.188019\n",
       "2   primary_speaker_replaced_by_blank  0.181496\n",
       "3       primary_speaker_with_wildcard  0.155933"
      ]
     },
     "execution_count": 9,
     "metadata": {},
     "output_type": "execute_result"
    }
   ],
   "source": [
    "ep_2_tf_wer = (ep_2_tf.groupby(by=\"Type_of_text\")[\"WER*GT_len\"].agg('sum')/ep_2_tf.groupby(by=\"Type_of_text\")[\"GT_len\"].agg('sum')).reset_index()\n",
    "ep_2_tf_wer.columns = [['Type_of_text', \"wer\"]]\n",
    "ep_2_tf_wer"
   ]
  },
  {
   "cell_type": "markdown",
   "metadata": {},
   "source": [
    "### Theano 2nd epoch WER"
   ]
  },
  {
   "cell_type": "code",
   "execution_count": 10,
   "metadata": {},
   "outputs": [
    {
     "data": {
      "text/html": [
       "<div>\n",
       "<style scoped>\n",
       "    .dataframe tbody tr th:only-of-type {\n",
       "        vertical-align: middle;\n",
       "    }\n",
       "\n",
       "    .dataframe tbody tr th {\n",
       "        vertical-align: top;\n",
       "    }\n",
       "\n",
       "    .dataframe thead tr th {\n",
       "        text-align: left;\n",
       "    }\n",
       "</style>\n",
       "<table border=\"1\" class=\"dataframe\">\n",
       "  <thead>\n",
       "    <tr>\n",
       "      <th></th>\n",
       "      <th>Type_of_text</th>\n",
       "      <th>wer</th>\n",
       "    </tr>\n",
       "  </thead>\n",
       "  <tbody>\n",
       "    <tr>\n",
       "      <th>0</th>\n",
       "      <td>multi_speaker_replaced_by_blank</td>\n",
       "      <td>0.242077</td>\n",
       "    </tr>\n",
       "    <tr>\n",
       "      <th>1</th>\n",
       "      <td>multi_speaker_replaced_by_wildcard</td>\n",
       "      <td>0.177860</td>\n",
       "    </tr>\n",
       "    <tr>\n",
       "      <th>2</th>\n",
       "      <td>primary_speaker_replaced_by_blank</td>\n",
       "      <td>0.173540</td>\n",
       "    </tr>\n",
       "    <tr>\n",
       "      <th>3</th>\n",
       "      <td>primary_speaker_with_wildcard</td>\n",
       "      <td>0.146981</td>\n",
       "    </tr>\n",
       "  </tbody>\n",
       "</table>\n",
       "</div>"
      ],
      "text/plain": [
       "                         Type_of_text       wer\n",
       "0     multi_speaker_replaced_by_blank  0.242077\n",
       "1  multi_speaker_replaced_by_wildcard  0.177860\n",
       "2   primary_speaker_replaced_by_blank  0.173540\n",
       "3       primary_speaker_with_wildcard  0.146981"
      ]
     },
     "execution_count": 10,
     "metadata": {},
     "output_type": "execute_result"
    }
   ],
   "source": [
    "ep_2_prod_wer = (ep_2_prod.groupby(by=\"Type_of_text\")[\"WER*GT_len\"].agg('sum')/ep_2_prod.groupby(by=\"Type_of_text\")[\"GT_len\"].agg('sum')).reset_index()\n",
    "ep_2_prod_wer.columns = [['Type_of_text', \"wer\"]]\n",
    "ep_2_prod_wer"
   ]
  },
  {
   "cell_type": "markdown",
   "metadata": {},
   "source": [
    "### TF 3rd Epoch WER"
   ]
  },
  {
   "cell_type": "code",
   "execution_count": 5,
   "metadata": {},
   "outputs": [
    {
     "data": {
      "text/html": [
       "<div>\n",
       "<style scoped>\n",
       "    .dataframe tbody tr th:only-of-type {\n",
       "        vertical-align: middle;\n",
       "    }\n",
       "\n",
       "    .dataframe tbody tr th {\n",
       "        vertical-align: top;\n",
       "    }\n",
       "\n",
       "    .dataframe thead tr th {\n",
       "        text-align: left;\n",
       "    }\n",
       "</style>\n",
       "<table border=\"1\" class=\"dataframe\">\n",
       "  <thead>\n",
       "    <tr>\n",
       "      <th></th>\n",
       "      <th>Type_of_text</th>\n",
       "      <th>wer</th>\n",
       "    </tr>\n",
       "  </thead>\n",
       "  <tbody>\n",
       "    <tr>\n",
       "      <th>0</th>\n",
       "      <td>multi_speaker_replaced_by_blank</td>\n",
       "      <td>0.269579</td>\n",
       "    </tr>\n",
       "    <tr>\n",
       "      <th>1</th>\n",
       "      <td>multi_speaker_replaced_by_wildcard</td>\n",
       "      <td>0.182511</td>\n",
       "    </tr>\n",
       "    <tr>\n",
       "      <th>2</th>\n",
       "      <td>primary_speaker_replaced_by_blank</td>\n",
       "      <td>0.174899</td>\n",
       "    </tr>\n",
       "    <tr>\n",
       "      <th>3</th>\n",
       "      <td>primary_speaker_with_wildcard</td>\n",
       "      <td>0.147027</td>\n",
       "    </tr>\n",
       "  </tbody>\n",
       "</table>\n",
       "</div>"
      ],
      "text/plain": [
       "                         Type_of_text       wer\n",
       "0     multi_speaker_replaced_by_blank  0.269579\n",
       "1  multi_speaker_replaced_by_wildcard  0.182511\n",
       "2   primary_speaker_replaced_by_blank  0.174899\n",
       "3       primary_speaker_with_wildcard  0.147027"
      ]
     },
     "execution_count": 5,
     "metadata": {},
     "output_type": "execute_result"
    }
   ],
   "source": [
    "ep_3_tf_wer = (ep_3_tf.groupby(by=\"Type_of_text\")[\"WER*GT_len\"].agg('sum')/ep_3_tf.groupby(by=\"Type_of_text\")[\"GT_len\"].agg('sum')).reset_index()\n",
    "ep_3_tf_wer.columns = [['Type_of_text', \"wer\"]]\n",
    "ep_3_tf_wer"
   ]
  },
  {
   "cell_type": "markdown",
   "metadata": {},
   "source": [
    "### Theano 3rd epoch WER"
   ]
  },
  {
   "cell_type": "code",
   "execution_count": 18,
   "metadata": {},
   "outputs": [
    {
     "data": {
      "text/html": [
       "<div>\n",
       "<style scoped>\n",
       "    .dataframe tbody tr th:only-of-type {\n",
       "        vertical-align: middle;\n",
       "    }\n",
       "\n",
       "    .dataframe tbody tr th {\n",
       "        vertical-align: top;\n",
       "    }\n",
       "\n",
       "    .dataframe thead tr th {\n",
       "        text-align: left;\n",
       "    }\n",
       "</style>\n",
       "<table border=\"1\" class=\"dataframe\">\n",
       "  <thead>\n",
       "    <tr>\n",
       "      <th></th>\n",
       "      <th>Type_of_text</th>\n",
       "      <th>wer</th>\n",
       "    </tr>\n",
       "  </thead>\n",
       "  <tbody>\n",
       "    <tr>\n",
       "      <th>0</th>\n",
       "      <td>multi_speaker_replaced_by_blank</td>\n",
       "      <td>0.237775</td>\n",
       "    </tr>\n",
       "    <tr>\n",
       "      <th>1</th>\n",
       "      <td>multi_speaker_replaced_by_wildcard</td>\n",
       "      <td>0.171521</td>\n",
       "    </tr>\n",
       "    <tr>\n",
       "      <th>2</th>\n",
       "      <td>primary_speaker_replaced_by_blank</td>\n",
       "      <td>0.163849</td>\n",
       "    </tr>\n",
       "    <tr>\n",
       "      <th>3</th>\n",
       "      <td>primary_speaker_with_wildcard</td>\n",
       "      <td>0.136060</td>\n",
       "    </tr>\n",
       "  </tbody>\n",
       "</table>\n",
       "</div>"
      ],
      "text/plain": [
       "                         Type_of_text       wer\n",
       "0     multi_speaker_replaced_by_blank  0.237775\n",
       "1  multi_speaker_replaced_by_wildcard  0.171521\n",
       "2   primary_speaker_replaced_by_blank  0.163849\n",
       "3       primary_speaker_with_wildcard  0.136060"
      ]
     },
     "execution_count": 18,
     "metadata": {},
     "output_type": "execute_result"
    }
   ],
   "source": [
    "ep_3_prod_wer = (ep_3_prod.groupby(by=\"Type_of_text\")[\"WER*GT_len\"].agg('sum')/ep_3_prod.groupby(by=\"Type_of_text\")[\"GT_len\"].agg('sum')).reset_index()\n",
    "ep_3_prod_wer.columns = [['Type_of_text', \"wer\"]]\n",
    "ep_3_prod_wer"
   ]
  },
  {
   "cell_type": "markdown",
   "metadata": {},
   "source": [
    "#### Theano 4th"
   ]
  },
  {
   "cell_type": "code",
   "execution_count": 23,
   "metadata": {},
   "outputs": [
    {
     "data": {
      "text/html": [
       "<div>\n",
       "<style scoped>\n",
       "    .dataframe tbody tr th:only-of-type {\n",
       "        vertical-align: middle;\n",
       "    }\n",
       "\n",
       "    .dataframe tbody tr th {\n",
       "        vertical-align: top;\n",
       "    }\n",
       "\n",
       "    .dataframe thead tr th {\n",
       "        text-align: left;\n",
       "    }\n",
       "</style>\n",
       "<table border=\"1\" class=\"dataframe\">\n",
       "  <thead>\n",
       "    <tr>\n",
       "      <th></th>\n",
       "      <th>Type_of_text</th>\n",
       "      <th>wer</th>\n",
       "    </tr>\n",
       "  </thead>\n",
       "  <tbody>\n",
       "    <tr>\n",
       "      <th>0</th>\n",
       "      <td>multi_speaker_replaced_by_blank</td>\n",
       "      <td>0.230154</td>\n",
       "    </tr>\n",
       "    <tr>\n",
       "      <th>1</th>\n",
       "      <td>multi_speaker_replaced_by_wildcard</td>\n",
       "      <td>0.161485</td>\n",
       "    </tr>\n",
       "    <tr>\n",
       "      <th>2</th>\n",
       "      <td>primary_speaker_replaced_by_blank</td>\n",
       "      <td>0.158572</td>\n",
       "    </tr>\n",
       "    <tr>\n",
       "      <th>3</th>\n",
       "      <td>primary_speaker_with_wildcard</td>\n",
       "      <td>0.129958</td>\n",
       "    </tr>\n",
       "  </tbody>\n",
       "</table>\n",
       "</div>"
      ],
      "text/plain": [
       "                         Type_of_text       wer\n",
       "0     multi_speaker_replaced_by_blank  0.230154\n",
       "1  multi_speaker_replaced_by_wildcard  0.161485\n",
       "2   primary_speaker_replaced_by_blank  0.158572\n",
       "3       primary_speaker_with_wildcard  0.129958"
      ]
     },
     "execution_count": 23,
     "metadata": {},
     "output_type": "execute_result"
    }
   ],
   "source": [
    "ep_4_prod_wer = (ep_4_prod.groupby(by=\"Type_of_text\")[\"WER*GT_len\"].agg('sum')/ep_4_prod.groupby(by=\"Type_of_text\")[\"GT_len\"].agg('sum')).reset_index()\n",
    "ep_4_prod_wer.columns = [['Type_of_text', \"wer\"]]\n",
    "ep_4_prod_wer"
   ]
  },
  {
   "cell_type": "markdown",
   "metadata": {},
   "source": [
    "#### TF 4th"
   ]
  },
  {
   "cell_type": "code",
   "execution_count": 7,
   "metadata": {},
   "outputs": [
    {
     "data": {
      "text/html": [
       "<div>\n",
       "<style scoped>\n",
       "    .dataframe tbody tr th:only-of-type {\n",
       "        vertical-align: middle;\n",
       "    }\n",
       "\n",
       "    .dataframe tbody tr th {\n",
       "        vertical-align: top;\n",
       "    }\n",
       "\n",
       "    .dataframe thead tr th {\n",
       "        text-align: left;\n",
       "    }\n",
       "</style>\n",
       "<table border=\"1\" class=\"dataframe\">\n",
       "  <thead>\n",
       "    <tr>\n",
       "      <th></th>\n",
       "      <th>Type_of_text</th>\n",
       "      <th>wer</th>\n",
       "    </tr>\n",
       "  </thead>\n",
       "  <tbody>\n",
       "    <tr>\n",
       "      <th>0</th>\n",
       "      <td>multi_speaker_replaced_by_blank</td>\n",
       "      <td>0.264258</td>\n",
       "    </tr>\n",
       "    <tr>\n",
       "      <th>1</th>\n",
       "      <td>multi_speaker_replaced_by_wildcard</td>\n",
       "      <td>0.176524</td>\n",
       "    </tr>\n",
       "    <tr>\n",
       "      <th>2</th>\n",
       "      <td>primary_speaker_replaced_by_blank</td>\n",
       "      <td>0.170199</td>\n",
       "    </tr>\n",
       "    <tr>\n",
       "      <th>3</th>\n",
       "      <td>primary_speaker_with_wildcard</td>\n",
       "      <td>0.143481</td>\n",
       "    </tr>\n",
       "  </tbody>\n",
       "</table>\n",
       "</div>"
      ],
      "text/plain": [
       "                         Type_of_text       wer\n",
       "0     multi_speaker_replaced_by_blank  0.264258\n",
       "1  multi_speaker_replaced_by_wildcard  0.176524\n",
       "2   primary_speaker_replaced_by_blank  0.170199\n",
       "3       primary_speaker_with_wildcard  0.143481"
      ]
     },
     "execution_count": 7,
     "metadata": {},
     "output_type": "execute_result"
    }
   ],
   "source": [
    "ep_4_tf_wer = (ep_4_tf.groupby(by=\"Type_of_text\")[\"WER*GT_len\"].agg('sum')/ep_4_tf.groupby(by=\"Type_of_text\")[\"GT_len\"].agg('sum')).reset_index()\n",
    "ep_4_tf_wer.columns = [['Type_of_text', \"wer\"]]\n",
    "ep_4_tf_wer"
   ]
  },
  {
   "cell_type": "markdown",
   "metadata": {},
   "source": [
    "# TF 6th"
   ]
  },
  {
   "cell_type": "code",
   "execution_count": 11,
   "metadata": {},
   "outputs": [
    {
     "data": {
      "text/html": [
       "<div>\n",
       "<style scoped>\n",
       "    .dataframe tbody tr th:only-of-type {\n",
       "        vertical-align: middle;\n",
       "    }\n",
       "\n",
       "    .dataframe tbody tr th {\n",
       "        vertical-align: top;\n",
       "    }\n",
       "\n",
       "    .dataframe thead tr th {\n",
       "        text-align: left;\n",
       "    }\n",
       "</style>\n",
       "<table border=\"1\" class=\"dataframe\">\n",
       "  <thead>\n",
       "    <tr>\n",
       "      <th></th>\n",
       "      <th>Type_of_text</th>\n",
       "      <th>wer</th>\n",
       "    </tr>\n",
       "  </thead>\n",
       "  <tbody>\n",
       "    <tr>\n",
       "      <th>0</th>\n",
       "      <td>multi_speaker_replaced_by_blank</td>\n",
       "      <td>0.256186</td>\n",
       "    </tr>\n",
       "    <tr>\n",
       "      <th>1</th>\n",
       "      <td>multi_speaker_replaced_by_wildcard</td>\n",
       "      <td>0.168075</td>\n",
       "    </tr>\n",
       "    <tr>\n",
       "      <th>2</th>\n",
       "      <td>primary_speaker_replaced_by_blank</td>\n",
       "      <td>0.164591</td>\n",
       "    </tr>\n",
       "    <tr>\n",
       "      <th>3</th>\n",
       "      <td>primary_speaker_with_wildcard</td>\n",
       "      <td>0.137544</td>\n",
       "    </tr>\n",
       "  </tbody>\n",
       "</table>\n",
       "</div>"
      ],
      "text/plain": [
       "                         Type_of_text       wer\n",
       "0     multi_speaker_replaced_by_blank  0.256186\n",
       "1  multi_speaker_replaced_by_wildcard  0.168075\n",
       "2   primary_speaker_replaced_by_blank  0.164591\n",
       "3       primary_speaker_with_wildcard  0.137544"
      ]
     },
     "execution_count": 11,
     "metadata": {},
     "output_type": "execute_result"
    }
   ],
   "source": [
    "ep_6_tf_wer = (ep_6_tf.groupby(by=\"Type_of_text\")[\"WER*GT_len\"].agg('sum')/ep_6_tf.groupby(by=\"Type_of_text\")[\"GT_len\"].agg('sum')).reset_index()\n",
    "ep_6_tf_wer.columns = [['Type_of_text', \"wer\"]]\n",
    "ep_6_tf_wer"
   ]
  },
  {
   "cell_type": "markdown",
   "metadata": {},
   "source": [
    "## Theano 5th"
   ]
  },
  {
   "cell_type": "code",
   "execution_count": 103,
   "metadata": {},
   "outputs": [
    {
     "data": {
      "text/html": [
       "<div>\n",
       "<style scoped>\n",
       "    .dataframe tbody tr th:only-of-type {\n",
       "        vertical-align: middle;\n",
       "    }\n",
       "\n",
       "    .dataframe tbody tr th {\n",
       "        vertical-align: top;\n",
       "    }\n",
       "\n",
       "    .dataframe thead tr th {\n",
       "        text-align: left;\n",
       "    }\n",
       "</style>\n",
       "<table border=\"1\" class=\"dataframe\">\n",
       "  <thead>\n",
       "    <tr>\n",
       "      <th></th>\n",
       "      <th>Type_of_text</th>\n",
       "      <th>wer</th>\n",
       "    </tr>\n",
       "  </thead>\n",
       "  <tbody>\n",
       "    <tr>\n",
       "      <th>0</th>\n",
       "      <td>multi_speaker_replaced_by_blank</td>\n",
       "      <td>0.222113</td>\n",
       "    </tr>\n",
       "    <tr>\n",
       "      <th>1</th>\n",
       "      <td>multi_speaker_replaced_by_wildcard</td>\n",
       "      <td>0.154264</td>\n",
       "    </tr>\n",
       "    <tr>\n",
       "      <th>2</th>\n",
       "      <td>primary_speaker_replaced_by_blank</td>\n",
       "      <td>0.151892</td>\n",
       "    </tr>\n",
       "    <tr>\n",
       "      <th>3</th>\n",
       "      <td>primary_speaker_with_wildcard</td>\n",
       "      <td>0.124598</td>\n",
       "    </tr>\n",
       "  </tbody>\n",
       "</table>\n",
       "</div>"
      ],
      "text/plain": [
       "                         Type_of_text       wer\n",
       "0     multi_speaker_replaced_by_blank  0.222113\n",
       "1  multi_speaker_replaced_by_wildcard  0.154264\n",
       "2   primary_speaker_replaced_by_blank  0.151892\n",
       "3       primary_speaker_with_wildcard  0.124598"
      ]
     },
     "execution_count": 103,
     "metadata": {},
     "output_type": "execute_result"
    }
   ],
   "source": [
    "ep_5_prod_wer = (ep_5_prod.groupby(by=\"Type_of_text\")[\"WER*GT_len\"].agg('sum')/ep_5_prod.groupby(by=\"Type_of_text\")[\"GT_len\"].agg('sum')).reset_index()\n",
    "ep_5_prod_wer.columns = [['Type_of_text', \"wer\"]]\n",
    "ep_5_prod_wer"
   ]
  }
 ],
 "metadata": {
  "kernelspec": {
   "display_name": "Python 3",
   "language": "python",
   "name": "python3"
  },
  "language_info": {
   "codemirror_mode": {
    "name": "ipython",
    "version": 3
   },
   "file_extension": ".py",
   "mimetype": "text/x-python",
   "name": "python",
   "nbconvert_exporter": "python",
   "pygments_lexer": "ipython3",
   "version": "3.8.3"
  }
 },
 "nbformat": 4,
 "nbformat_minor": 4
}
