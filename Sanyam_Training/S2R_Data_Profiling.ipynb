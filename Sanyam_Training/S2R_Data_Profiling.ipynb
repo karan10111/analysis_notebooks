{
 "cells": [
  {
   "cell_type": "code",
   "execution_count": 5,
   "metadata": {},
   "outputs": [],
   "source": [
    "import os\n",
    "import base64\n",
    "from sqlalchemy import create_engine\n",
    "import pymysql\n",
    "import pandas as pd\n",
    "import seaborn as sns\n",
    "import matplotlib.pyplot as plt\n",
    "import sys\n",
    "sys.path.append(\"/home/karan.verma\")\n",
    "from verification_guardrails import get_type_of_text "
   ]
  },
  {
   "cell_type": "code",
   "execution_count": 3,
   "metadata": {},
   "outputs": [],
   "source": [
    "ipaddr = 'speak2recharge.mysql.database.azure.com'\n",
    "db_name = 'speech_uat'\n",
    "passwd = 'S2RPass7'\n",
    "userid = 'myadmin@speak2recharge'\n",
    "dest_sql = \"mysql+mysqldb://\" + userid + \":\" + passwd + \"@\" + ipaddr + \"/\" + db_name + \"?charset=utf8&use_unicode=0\"\n",
    "sql_engine = create_engine(dest_sql,pool_recycle=3600)\n",
    "db_connection    = sql_engine.connect()"
   ]
  },
  {
   "cell_type": "code",
   "execution_count": 4,
   "metadata": {
    "collapsed": true,
    "jupyter": {
     "outputs_hidden": true,
     "source_hidden": true
    }
   },
   "outputs": [
    {
     "data": {
      "text/html": [
       "<div>\n",
       "<style scoped>\n",
       "    .dataframe tbody tr th:only-of-type {\n",
       "        vertical-align: middle;\n",
       "    }\n",
       "\n",
       "    .dataframe tbody tr th {\n",
       "        vertical-align: top;\n",
       "    }\n",
       "\n",
       "    .dataframe thead th {\n",
       "        text-align: right;\n",
       "    }\n",
       "</style>\n",
       "<table border=\"1\" class=\"dataframe\">\n",
       "  <thead>\n",
       "    <tr style=\"text-align: right;\">\n",
       "      <th></th>\n",
       "      <th>Tables_in_speech_uat</th>\n",
       "    </tr>\n",
       "  </thead>\n",
       "  <tbody>\n",
       "    <tr>\n",
       "      <th>0</th>\n",
       "      <td>b'config'</td>\n",
       "    </tr>\n",
       "    <tr>\n",
       "      <th>1</th>\n",
       "      <td>b'data'</td>\n",
       "    </tr>\n",
       "    <tr>\n",
       "      <th>2</th>\n",
       "      <td>b'data_assamese'</td>\n",
       "    </tr>\n",
       "    <tr>\n",
       "      <th>3</th>\n",
       "      <td>b'data_bengali'</td>\n",
       "    </tr>\n",
       "    <tr>\n",
       "      <th>4</th>\n",
       "      <td>b'data_gujarati'</td>\n",
       "    </tr>\n",
       "    <tr>\n",
       "      <th>...</th>\n",
       "      <td>...</td>\n",
       "    </tr>\n",
       "    <tr>\n",
       "      <th>83</th>\n",
       "      <td>b'user_punjabi'</td>\n",
       "    </tr>\n",
       "    <tr>\n",
       "      <th>84</th>\n",
       "      <td>b'user_tamil'</td>\n",
       "    </tr>\n",
       "    <tr>\n",
       "      <th>85</th>\n",
       "      <td>b'user_telugu'</td>\n",
       "    </tr>\n",
       "    <tr>\n",
       "      <th>86</th>\n",
       "      <td>b'user_urdu'</td>\n",
       "    </tr>\n",
       "    <tr>\n",
       "      <th>87</th>\n",
       "      <td>b'web_log'</td>\n",
       "    </tr>\n",
       "  </tbody>\n",
       "</table>\n",
       "<p>88 rows × 1 columns</p>\n",
       "</div>"
      ],
      "text/plain": [
       "   Tables_in_speech_uat\n",
       "0             b'config'\n",
       "1               b'data'\n",
       "2      b'data_assamese'\n",
       "3       b'data_bengali'\n",
       "4      b'data_gujarati'\n",
       "..                  ...\n",
       "83      b'user_punjabi'\n",
       "84        b'user_tamil'\n",
       "85       b'user_telugu'\n",
       "86         b'user_urdu'\n",
       "87           b'web_log'\n",
       "\n",
       "[88 rows x 1 columns]"
      ]
     },
     "execution_count": 4,
     "metadata": {},
     "output_type": "execute_result"
    }
   ],
   "source": [
    "tables = pd.read_sql(\"show tables;\", db_connection)\n",
    "tables\n"
   ]
  },
  {
   "cell_type": "code",
   "execution_count": 4,
   "metadata": {},
   "outputs": [
    {
     "data": {
      "text/html": [
       "<div>\n",
       "<style scoped>\n",
       "    .dataframe tbody tr th:only-of-type {\n",
       "        vertical-align: middle;\n",
       "    }\n",
       "\n",
       "    .dataframe tbody tr th {\n",
       "        vertical-align: top;\n",
       "    }\n",
       "\n",
       "    .dataframe thead th {\n",
       "        text-align: right;\n",
       "    }\n",
       "</style>\n",
       "<table border=\"1\" class=\"dataframe\">\n",
       "  <thead>\n",
       "    <tr style=\"text-align: right;\">\n",
       "      <th></th>\n",
       "      <th>count(*)</th>\n",
       "    </tr>\n",
       "  </thead>\n",
       "  <tbody>\n",
       "    <tr>\n",
       "      <th>0</th>\n",
       "      <td>2290120</td>\n",
       "    </tr>\n",
       "  </tbody>\n",
       "</table>\n",
       "</div>"
      ],
      "text/plain": [
       "   count(*)\n",
       "0   2290120"
      ]
     },
     "execution_count": 4,
     "metadata": {},
     "output_type": "execute_result"
    }
   ],
   "source": [
    "count_temporary = pd.read_sql(\"select count(*) from s2r_vs_grocery_combined_30092020\", db_connection)\n",
    "count_temporary"
   ]
  },
  {
   "cell_type": "markdown",
   "metadata": {},
   "source": [
    "# Analyising Data From S2R"
   ]
  },
  {
   "cell_type": "code",
   "execution_count": 4,
   "metadata": {},
   "outputs": [],
   "source": [
    "data_from_s2r = pd.read_sql(\"select * from s2r_vs_grocery_combined_30092020;\", db_connection)\n",
    "data_from_s2r['utf_text_decoded'] = data_from_s2r['utf_text'].apply(base64.urlsafe_b64decode).str.decode('utf8')"
   ]
  },
  {
   "cell_type": "markdown",
   "metadata": {},
   "source": [
    "## Dumping Data to intermediate File"
   ]
  },
  {
   "cell_type": "code",
   "execution_count": 3,
   "metadata": {
    "collapsed": true,
    "jupyter": {
     "outputs_hidden": true
    }
   },
   "outputs": [
    {
     "ename": "NameError",
     "evalue": "name 'data_from_s2r' is not defined",
     "output_type": "error",
     "traceback": [
      "\u001b[0;31m---------------------------------------------------------------------------\u001b[0m",
      "\u001b[0;31mNameError\u001b[0m                                 Traceback (most recent call last)",
      "\u001b[0;32m<ipython-input-3-12ec6f939ac8>\u001b[0m in \u001b[0;36m<module>\u001b[0;34m\u001b[0m\n\u001b[0;32m----> 1\u001b[0;31m \u001b[0mdata_from_s2r\u001b[0m\u001b[0;34m.\u001b[0m\u001b[0mto_csv\u001b[0m\u001b[0;34m(\u001b[0m\u001b[0;34m'/home/sanyam.sood/jupyter_lab_files/s2r_file.csv'\u001b[0m\u001b[0;34m)\u001b[0m\u001b[0;34m\u001b[0m\u001b[0;34m\u001b[0m\u001b[0m\n\u001b[0m",
      "\u001b[0;31mNameError\u001b[0m: name 'data_from_s2r' is not defined"
     ]
    }
   ],
   "source": [
    "data_from_s2r.to_csv('/home/sanyam.sood/jupyter_lab_files/s2r_file.csv')\n"
   ]
  },
  {
   "cell_type": "code",
   "execution_count": 1,
   "metadata": {},
   "outputs": [],
   "source": [
    "import pandas as pd\n",
    "data_from_s2r = pd.read_csv('/home/sanyam.sood/jupyter_lab_files/s2r_file.csv')\n"
   ]
  },
  {
   "cell_type": "code",
   "execution_count": 2,
   "metadata": {},
   "outputs": [],
   "source": [
    "data_from_s2r['word_len'] = data_from_s2r['utf_text_decoded'].str.split().apply(len)\n",
    "# data_from_s2r.head()"
   ]
  },
  {
   "cell_type": "code",
   "execution_count": 3,
   "metadata": {},
   "outputs": [
    {
     "data": {
      "text/html": [
       "<div>\n",
       "<style scoped>\n",
       "    .dataframe tbody tr th:only-of-type {\n",
       "        vertical-align: middle;\n",
       "    }\n",
       "\n",
       "    .dataframe tbody tr th {\n",
       "        vertical-align: top;\n",
       "    }\n",
       "\n",
       "    .dataframe thead th {\n",
       "        text-align: right;\n",
       "    }\n",
       "</style>\n",
       "<table border=\"1\" class=\"dataframe\">\n",
       "  <thead>\n",
       "    <tr style=\"text-align: right;\">\n",
       "      <th></th>\n",
       "      <th>Unnamed: 0</th>\n",
       "      <th>id</th>\n",
       "      <th>user_id</th>\n",
       "      <th>assigned</th>\n",
       "      <th>tag</th>\n",
       "      <th>flag_decode</th>\n",
       "      <th>hash</th>\n",
       "      <th>verified_time</th>\n",
       "      <th>upload_time</th>\n",
       "      <th>uploaded</th>\n",
       "      <th>verified</th>\n",
       "      <th>synced</th>\n",
       "      <th>last_modifed</th>\n",
       "      <th>length</th>\n",
       "      <th>word_len</th>\n",
       "    </tr>\n",
       "  </thead>\n",
       "  <tbody>\n",
       "    <tr>\n",
       "      <th>count</th>\n",
       "      <td>2.290120e+06</td>\n",
       "      <td>2.290120e+06</td>\n",
       "      <td>2.290120e+06</td>\n",
       "      <td>2290120.0</td>\n",
       "      <td>2.290120e+06</td>\n",
       "      <td>2290120.0</td>\n",
       "      <td>2290120.0</td>\n",
       "      <td>0.0</td>\n",
       "      <td>2290120.0</td>\n",
       "      <td>2290120.0</td>\n",
       "      <td>2290120.0</td>\n",
       "      <td>2.290120e+06</td>\n",
       "      <td>0.0</td>\n",
       "      <td>2290120.0</td>\n",
       "      <td>2.290120e+06</td>\n",
       "    </tr>\n",
       "    <tr>\n",
       "      <th>mean</th>\n",
       "      <td>1.145060e+06</td>\n",
       "      <td>2.355756e+07</td>\n",
       "      <td>2.089056e+05</td>\n",
       "      <td>1.0</td>\n",
       "      <td>4.512596e+01</td>\n",
       "      <td>0.0</td>\n",
       "      <td>9.0</td>\n",
       "      <td>NaN</td>\n",
       "      <td>0.0</td>\n",
       "      <td>1.0</td>\n",
       "      <td>20.0</td>\n",
       "      <td>9.945309e-01</td>\n",
       "      <td>NaN</td>\n",
       "      <td>0.0</td>\n",
       "      <td>5.706867e+00</td>\n",
       "    </tr>\n",
       "    <tr>\n",
       "      <th>std</th>\n",
       "      <td>6.611008e+05</td>\n",
       "      <td>1.551490e+06</td>\n",
       "      <td>2.132748e+04</td>\n",
       "      <td>0.0</td>\n",
       "      <td>6.359106e+00</td>\n",
       "      <td>0.0</td>\n",
       "      <td>0.0</td>\n",
       "      <td>NaN</td>\n",
       "      <td>0.0</td>\n",
       "      <td>0.0</td>\n",
       "      <td>0.0</td>\n",
       "      <td>7.375118e-02</td>\n",
       "      <td>NaN</td>\n",
       "      <td>0.0</td>\n",
       "      <td>3.312782e+00</td>\n",
       "    </tr>\n",
       "    <tr>\n",
       "      <th>min</th>\n",
       "      <td>0.000000e+00</td>\n",
       "      <td>1.772072e+07</td>\n",
       "      <td>1.161800e+04</td>\n",
       "      <td>1.0</td>\n",
       "      <td>3.700000e+01</td>\n",
       "      <td>0.0</td>\n",
       "      <td>9.0</td>\n",
       "      <td>NaN</td>\n",
       "      <td>0.0</td>\n",
       "      <td>1.0</td>\n",
       "      <td>20.0</td>\n",
       "      <td>0.000000e+00</td>\n",
       "      <td>NaN</td>\n",
       "      <td>0.0</td>\n",
       "      <td>1.000000e+00</td>\n",
       "    </tr>\n",
       "    <tr>\n",
       "      <th>25%</th>\n",
       "      <td>5.725298e+05</td>\n",
       "      <td>2.307041e+07</td>\n",
       "      <td>2.071550e+05</td>\n",
       "      <td>1.0</td>\n",
       "      <td>3.900000e+01</td>\n",
       "      <td>0.0</td>\n",
       "      <td>9.0</td>\n",
       "      <td>NaN</td>\n",
       "      <td>0.0</td>\n",
       "      <td>1.0</td>\n",
       "      <td>20.0</td>\n",
       "      <td>1.000000e+00</td>\n",
       "      <td>NaN</td>\n",
       "      <td>0.0</td>\n",
       "      <td>3.000000e+00</td>\n",
       "    </tr>\n",
       "    <tr>\n",
       "      <th>50%</th>\n",
       "      <td>1.145060e+06</td>\n",
       "      <td>2.389660e+07</td>\n",
       "      <td>2.145980e+05</td>\n",
       "      <td>1.0</td>\n",
       "      <td>3.900000e+01</td>\n",
       "      <td>0.0</td>\n",
       "      <td>9.0</td>\n",
       "      <td>NaN</td>\n",
       "      <td>0.0</td>\n",
       "      <td>1.0</td>\n",
       "      <td>20.0</td>\n",
       "      <td>1.000000e+00</td>\n",
       "      <td>NaN</td>\n",
       "      <td>0.0</td>\n",
       "      <td>5.000000e+00</td>\n",
       "    </tr>\n",
       "    <tr>\n",
       "      <th>75%</th>\n",
       "      <td>1.717589e+06</td>\n",
       "      <td>2.469568e+07</td>\n",
       "      <td>2.191790e+05</td>\n",
       "      <td>1.0</td>\n",
       "      <td>5.200000e+01</td>\n",
       "      <td>0.0</td>\n",
       "      <td>9.0</td>\n",
       "      <td>NaN</td>\n",
       "      <td>0.0</td>\n",
       "      <td>1.0</td>\n",
       "      <td>20.0</td>\n",
       "      <td>1.000000e+00</td>\n",
       "      <td>NaN</td>\n",
       "      <td>0.0</td>\n",
       "      <td>8.000000e+00</td>\n",
       "    </tr>\n",
       "    <tr>\n",
       "      <th>max</th>\n",
       "      <td>2.290119e+06</td>\n",
       "      <td>2.557554e+07</td>\n",
       "      <td>2.283950e+05</td>\n",
       "      <td>1.0</td>\n",
       "      <td>5.200000e+01</td>\n",
       "      <td>0.0</td>\n",
       "      <td>9.0</td>\n",
       "      <td>NaN</td>\n",
       "      <td>0.0</td>\n",
       "      <td>1.0</td>\n",
       "      <td>20.0</td>\n",
       "      <td>1.000000e+00</td>\n",
       "      <td>NaN</td>\n",
       "      <td>0.0</td>\n",
       "      <td>3.100000e+01</td>\n",
       "    </tr>\n",
       "  </tbody>\n",
       "</table>\n",
       "</div>"
      ],
      "text/plain": [
       "         Unnamed: 0            id       user_id   assigned           tag  \\\n",
       "count  2.290120e+06  2.290120e+06  2.290120e+06  2290120.0  2.290120e+06   \n",
       "mean   1.145060e+06  2.355756e+07  2.089056e+05        1.0  4.512596e+01   \n",
       "std    6.611008e+05  1.551490e+06  2.132748e+04        0.0  6.359106e+00   \n",
       "min    0.000000e+00  1.772072e+07  1.161800e+04        1.0  3.700000e+01   \n",
       "25%    5.725298e+05  2.307041e+07  2.071550e+05        1.0  3.900000e+01   \n",
       "50%    1.145060e+06  2.389660e+07  2.145980e+05        1.0  3.900000e+01   \n",
       "75%    1.717589e+06  2.469568e+07  2.191790e+05        1.0  5.200000e+01   \n",
       "max    2.290119e+06  2.557554e+07  2.283950e+05        1.0  5.200000e+01   \n",
       "\n",
       "       flag_decode       hash  verified_time  upload_time   uploaded  \\\n",
       "count    2290120.0  2290120.0            0.0    2290120.0  2290120.0   \n",
       "mean           0.0        9.0            NaN          0.0        1.0   \n",
       "std            0.0        0.0            NaN          0.0        0.0   \n",
       "min            0.0        9.0            NaN          0.0        1.0   \n",
       "25%            0.0        9.0            NaN          0.0        1.0   \n",
       "50%            0.0        9.0            NaN          0.0        1.0   \n",
       "75%            0.0        9.0            NaN          0.0        1.0   \n",
       "max            0.0        9.0            NaN          0.0        1.0   \n",
       "\n",
       "        verified        synced  last_modifed     length      word_len  \n",
       "count  2290120.0  2.290120e+06           0.0  2290120.0  2.290120e+06  \n",
       "mean        20.0  9.945309e-01           NaN        0.0  5.706867e+00  \n",
       "std          0.0  7.375118e-02           NaN        0.0  3.312782e+00  \n",
       "min         20.0  0.000000e+00           NaN        0.0  1.000000e+00  \n",
       "25%         20.0  1.000000e+00           NaN        0.0  3.000000e+00  \n",
       "50%         20.0  1.000000e+00           NaN        0.0  5.000000e+00  \n",
       "75%         20.0  1.000000e+00           NaN        0.0  8.000000e+00  \n",
       "max         20.0  1.000000e+00           NaN        0.0  3.100000e+01  "
      ]
     },
     "execution_count": 3,
     "metadata": {},
     "output_type": "execute_result"
    }
   ],
   "source": [
    "data_from_s2r.describe()"
   ]
  },
  {
   "cell_type": "markdown",
   "metadata": {},
   "source": [
    "# Plot for sample size 10K"
   ]
  },
  {
   "cell_type": "code",
   "execution_count": 8,
   "metadata": {},
   "outputs": [],
   "source": [
    "data_from_s2r_word_1 = data_from_s2r['word_len'].sample(n=10000, random_state=1)\n",
    "data_from_s2r_word_2 = data_from_s2r['word_len'].sample(n=10000, random_state=2)\n",
    "data_from_s2r_word_3 = data_from_s2r['word_len'].sample(n=10000, random_state=3)\n",
    "data_from_s2r_word_4 = data_from_s2r['word_len'].sample(n=10000, random_state=4)\n",
    "data_from_s2r_word_5 = data_from_s2r['word_len'].sample(n=10000, random_state=5)\n",
    "data_from_s2r_word_6 = data_from_s2r['word_len'].sample(n=10000, random_state=6)\n",
    "data_from_s2r_word_7 = data_from_s2r['word_len'].sample(n=10000, random_state=7)\n",
    "data_from_s2r_word_8 = data_from_s2r['word_len'].sample(n=10000, random_state=8)\n",
    "data_from_s2r_word_9 = data_from_s2r['word_len'].sample(n=10000, random_state=9)"
   ]
  },
  {
   "cell_type": "code",
   "execution_count": 11,
   "metadata": {},
   "outputs": [
    {
     "name": "stderr",
     "output_type": "stream",
     "text": [
      "<ipython-input-11-9f235287cef6>:2: UserWarning: Tight layout not applied. tight_layout cannot make axes width small enough to accommodate all axes decorations\n",
      "  fig.tight_layout(pad=10.0)\n"
     ]
    },
    {
     "data": {
      "text/plain": [
       "<AxesSubplot:xlabel='word_len', ylabel='Count'>"
      ]
     },
     "execution_count": 11,
     "metadata": {},
     "output_type": "execute_result"
    },
    {
     "data": {
      "image/png": "[encoded data removed]",
      "text/plain": [
       "<Figure size 1440x576 with 9 Axes>"
      ]
     },
     "metadata": {
      "needs_background": "light"
     },
     "output_type": "display_data"
    }
   ],
   "source": [
    "fig, axs = plt.subplots(3,3)\n",
    "fig.tight_layout(pad=10.0)\n",
    "fig.set_figheight(8)\n",
    "fig.set_figwidth(20)\n",
    "\n",
    "sns.histplot(data_from_s2r_word_1, ax =axs[0][0])\n",
    "sns.histplot(data_from_s2r_word_2, ax =axs[0][1])\n",
    "sns.histplot(data_from_s2r_word_3, ax =axs[0][2])\n",
    "sns.histplot(data_from_s2r_word_4, ax =axs[1][0])\n",
    "sns.histplot(data_from_s2r_word_5, ax =axs[1][1])\n",
    "sns.histplot(data_from_s2r_word_6, ax =axs[1][2])\n",
    "sns.histplot(data_from_s2r_word_7, ax =axs[2][0])\n",
    "sns.histplot(data_from_s2r_word_8, ax =axs[2][1])\n",
    "sns.histplot(data_from_s2r_word_9, ax =axs[2][2])\n"
   ]
  },
  {
   "cell_type": "markdown",
   "metadata": {},
   "source": [
    "# Plot for sample size 25K"
   ]
  },
  {
   "cell_type": "code",
   "execution_count": null,
   "metadata": {},
   "outputs": [],
   "source": [
    "data_from_s2r_word_1 = data_from_s2r['word_len'].sample(n=25000, random_state=1)\n",
    "data_from_s2r_word_2 = data_from_s2r['word_len'].sample(n=25000, random_state=2)\n",
    "data_from_s2r_word_3 = data_from_s2r['word_len'].sample(n=25000, random_state=3)\n",
    "data_from_s2r_word_4 = data_from_s2r['word_len'].sample(n=25000, random_state=4)\n",
    "data_from_s2r_word_5 = data_from_s2r['word_len'].sample(n=25000, random_state=5)\n",
    "data_from_s2r_word_6 = data_from_s2r['word_len'].sample(n=25000, random_state=6)\n",
    "data_from_s2r_word_7 = data_from_s2r['word_len'].sample(n=25000, random_state=7)\n",
    "data_from_s2r_word_8 = data_from_s2r['word_len'].sample(n=25000, random_state=8)\n",
    "data_from_s2r_word_9 = data_from_s2r['word_len'].sample(n=25000, random_state=9)"
   ]
  },
  {
   "cell_type": "code",
   "execution_count": 13,
   "metadata": {},
   "outputs": [
    {
     "name": "stderr",
     "output_type": "stream",
     "text": [
      "<ipython-input-13-9f235287cef6>:2: UserWarning: Tight layout not applied. tight_layout cannot make axes width small enough to accommodate all axes decorations\n",
      "  fig.tight_layout(pad=10.0)\n"
     ]
    },
    {
     "data": {
      "text/plain": [
       "<AxesSubplot:xlabel='word_len', ylabel='Count'>"
      ]
     },
     "execution_count": 13,
     "metadata": {},
     "output_type": "execute_result"
    },
    {
     "data": {
      "image/png": "[encoded data removed]",
      "text/plain": [
       "<Figure size 1440x576 with 9 Axes>"
      ]
     },
     "metadata": {
      "needs_background": "light"
     },
     "output_type": "display_data"
    }
   ],
   "source": [
    "fig, axs = plt.subplots(3,3)\n",
    "fig.tight_layout(pad=10.0)\n",
    "fig.set_figheight(8)\n",
    "fig.set_figwidth(20)\n",
    "\n",
    "sns.histplot(data_from_s2r_word_1, ax =axs[0][0])\n",
    "sns.histplot(data_from_s2r_word_2, ax =axs[0][1])\n",
    "sns.histplot(data_from_s2r_word_3, ax =axs[0][2])\n",
    "sns.histplot(data_from_s2r_word_4, ax =axs[1][0])\n",
    "sns.histplot(data_from_s2r_word_5, ax =axs[1][1])\n",
    "sns.histplot(data_from_s2r_word_6, ax =axs[1][2])\n",
    "sns.histplot(data_from_s2r_word_7, ax =axs[2][0])\n",
    "sns.histplot(data_from_s2r_word_8, ax =axs[2][1])\n",
    "sns.histplot(data_from_s2r_word_9, ax =axs[2][2])\n"
   ]
  },
  {
   "cell_type": "markdown",
   "metadata": {},
   "source": [
    "# Plot for Sample Size 100k"
   ]
  },
  {
   "cell_type": "code",
   "execution_count": 16,
   "metadata": {},
   "outputs": [],
   "source": [
    "data_from_s2r_word_1 = data_from_s2r['word_len'].sample(n=100000, random_state=1)\n",
    "data_from_s2r_word_2 = data_from_s2r['word_len'].sample(n=100000, random_state=2)\n",
    "data_from_s2r_word_3 = data_from_s2r['word_len'].sample(n=100000, random_state=3)\n",
    "data_from_s2r_word_4 = data_from_s2r['word_len'].sample(n=100000, random_state=4)\n",
    "data_from_s2r_word_5 = data_from_s2r['word_len'].sample(n=100000, random_state=5)\n",
    "data_from_s2r_word_6 = data_from_s2r['word_len'].sample(n=100000, random_state=6)\n",
    "data_from_s2r_word_7 = data_from_s2r['word_len'].sample(n=100000, random_state=7)\n",
    "data_from_s2r_word_8 = data_from_s2r['word_len'].sample(n=100000, random_state=8)\n",
    "data_from_s2r_word_9 = data_from_s2r['word_len'].sample(n=100000, random_state=9)"
   ]
  },
  {
   "cell_type": "code",
   "execution_count": 17,
   "metadata": {},
   "outputs": [
    {
     "name": "stderr",
     "output_type": "stream",
     "text": [
      "<ipython-input-17-9f235287cef6>:2: UserWarning: Tight layout not applied. tight_layout cannot make axes width small enough to accommodate all axes decorations\n",
      "  fig.tight_layout(pad=10.0)\n"
     ]
    },
    {
     "data": {
      "text/plain": [
       "<AxesSubplot:xlabel='word_len', ylabel='Count'>"
      ]
     },
     "execution_count": 17,
     "metadata": {},
     "output_type": "execute_result"
    },
    {
     "data": {
      "image/png": "[encoded data removed]",
      "text/plain": [
       "<Figure size 1440x576 with 9 Axes>"
      ]
     },
     "metadata": {
      "needs_background": "light"
     },
     "output_type": "display_data"
    }
   ],
   "source": [
    "fig, axs = plt.subplots(3,3)\n",
    "fig.tight_layout(pad=10.0)\n",
    "fig.set_figheight(8)\n",
    "fig.set_figwidth(20)\n",
    "\n",
    "sns.histplot(data_from_s2r_word_1, ax =axs[0][0])\n",
    "sns.histplot(data_from_s2r_word_2, ax =axs[0][1])\n",
    "sns.histplot(data_from_s2r_word_3, ax =axs[0][2])\n",
    "sns.histplot(data_from_s2r_word_4, ax =axs[1][0])\n",
    "sns.histplot(data_from_s2r_word_5, ax =axs[1][1])\n",
    "sns.histplot(data_from_s2r_word_6, ax =axs[1][2])\n",
    "sns.histplot(data_from_s2r_word_7, ax =axs[2][0])\n",
    "sns.histplot(data_from_s2r_word_8, ax =axs[2][1])\n",
    "sns.histplot(data_from_s2r_word_9, ax =axs[2][2])\n"
   ]
  },
  {
   "cell_type": "markdown",
   "metadata": {},
   "source": [
    "# Attempt to Plot without Sampling"
   ]
  },
  {
   "cell_type": "code",
   "execution_count": 19,
   "metadata": {},
   "outputs": [
    {
     "data": {
      "text/plain": [
       "<AxesSubplot:xlabel='word_len', ylabel='Count'>"
      ]
     },
     "execution_count": 19,
     "metadata": {},
     "output_type": "execute_result"
    },
    {
     "data": {
      "image/png": "[encoded data removed]",
      "text/plain": [
       "<Figure size 432x288 with 1 Axes>"
      ]
     },
     "metadata": {
      "needs_background": "light"
     },
     "output_type": "display_data"
    }
   ],
   "source": [
    "sns.histplot(data_from_s2r.word_len, color= 'red')"
   ]
  },
  {
   "cell_type": "code",
   "execution_count": 7,
   "metadata": {},
   "outputs": [
    {
     "name": "stderr",
     "output_type": "stream",
     "text": [
      "/home/karan.verma/miniconda3/lib/python3.8/site-packages/seaborn/distributions.py:2551: FutureWarning: `distplot` is a deprecated function and will be removed in a future version. Please adapt your code to use either `displot` (a figure-level function with similar flexibility) or `histplot` (an axes-level function for histograms).\n",
      "  warnings.warn(msg, FutureWarning)\n"
     ]
    },
    {
     "data": {
      "text/plain": [
       "<AxesSubplot:xlabel='word_len', ylabel='Density'>"
      ]
     },
     "execution_count": 7,
     "metadata": {},
     "output_type": "execute_result"
    },
    {
     "data": {
      "image/png": "[encoded data removed]",
      "text/plain": [
       "<Figure size 432x288 with 1 Axes>"
      ]
     },
     "metadata": {
      "needs_background": "light"
     },
     "output_type": "display_data"
    }
   ],
   "source": [
    "kwargs = {'cumulative': True}\n",
    "sns.distplot(data_from_s2r.word_len, color= 'red', hist_kws=kwargs, kde_kws=kwargs)"
   ]
  },
  {
   "cell_type": "code",
   "execution_count": null,
   "metadata": {},
   "outputs": [],
   "source": []
  }
 ],
 "metadata": {
  "kernelspec": {
   "display_name": "Python 3",
   "language": "python",
   "name": "python3"
  },
  "language_info": {
   "codemirror_mode": {
    "name": "ipython",
    "version": 3
   },
   "file_extension": ".py",
   "mimetype": "text/x-python",
   "name": "python",
   "nbconvert_exporter": "python",
   "pygments_lexer": "ipython3",
   "version": "3.8.3"
  }
 },
 "nbformat": 4,
 "nbformat_minor": 4
}
