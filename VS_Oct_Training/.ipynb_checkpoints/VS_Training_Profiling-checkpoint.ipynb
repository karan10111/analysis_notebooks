{
 "cells": [
  {
   "cell_type": "code",
   "execution_count": 1,
   "metadata": {},
   "outputs": [],
   "source": [
    "import os\n",
    "import base64\n",
    "from sqlalchemy import create_engine\n",
    "import pymysql\n",
    "import pandas as pd\n",
    "import seaborn as sns\n",
    "import matplotlib.pyplot as plt\n",
    "import sys\n",
    "sys.path.append(\"/home/karan.verma\")\n",
    "from verification_guardrails import get_type_of_text"
   ]
  },
  {
   "cell_type": "code",
   "execution_count": 2,
   "metadata": {},
   "outputs": [],
   "source": [
    "userid = 'Transcriber@transcription-prod'\n",
    "passwd = 'TranscribePass1'\n",
    "ipaddr = 'transcription-prod.mysql.database.azure.com'\n",
    "db_name = 'speech_transcribe'\n",
    "dest_sql = \"mysql+mysqldb://\" + userid + \":\" + passwd + \"@\" + ipaddr + \"/\" + db_name + \"?charset=utf8&use_unicode=0\"\n",
    "sql_engine = create_engine(dest_sql,pool_recycle=3600)\n",
    "db_connection    = sql_engine.connect()\n"
   ]
  },
  {
   "cell_type": "markdown",
   "metadata": {},
   "source": [
    "# Analysing Data Transcribe"
   ]
  },
  {
   "cell_type": "code",
   "execution_count": 4,
   "metadata": {},
   "outputs": [
    {
     "data": {
      "text/html": [
       "<div>\n",
       "<style scoped>\n",
       "    .dataframe tbody tr th:only-of-type {\n",
       "        vertical-align: middle;\n",
       "    }\n",
       "\n",
       "    .dataframe tbody tr th {\n",
       "        vertical-align: top;\n",
       "    }\n",
       "\n",
       "    .dataframe thead th {\n",
       "        text-align: right;\n",
       "    }\n",
       "</style>\n",
       "<table border=\"1\" class=\"dataframe\">\n",
       "  <thead>\n",
       "    <tr style=\"text-align: right;\">\n",
       "      <th></th>\n",
       "      <th>text_id</th>\n",
       "      <th>uploaded</th>\n",
       "      <th>verified</th>\n",
       "      <th>user_id</th>\n",
       "      <th>tag</th>\n",
       "      <th>verified_by</th>\n",
       "      <th>length</th>\n",
       "      <th>confidence</th>\n",
       "      <th>pre_processed</th>\n",
       "      <th>file_id</th>\n",
       "      <th>seq_id</th>\n",
       "      <th>test_data</th>\n",
       "      <th>lang</th>\n",
       "      <th>lang_lm</th>\n",
       "      <th>current_month_verification</th>\n",
       "    </tr>\n",
       "  </thead>\n",
       "  <tbody>\n",
       "    <tr>\n",
       "      <th>count</th>\n",
       "      <td>1.778273e+06</td>\n",
       "      <td>1778273.0</td>\n",
       "      <td>1.778273e+06</td>\n",
       "      <td>1.778273e+06</td>\n",
       "      <td>1.778273e+06</td>\n",
       "      <td>1.778273e+06</td>\n",
       "      <td>1.778273e+06</td>\n",
       "      <td>1.778273e+06</td>\n",
       "      <td>1778273.0</td>\n",
       "      <td>1.778273e+06</td>\n",
       "      <td>1778273.0</td>\n",
       "      <td>1.778273e+06</td>\n",
       "      <td>1778273.0</td>\n",
       "      <td>1.778273e+06</td>\n",
       "      <td>1778273.0</td>\n",
       "    </tr>\n",
       "    <tr>\n",
       "      <th>mean</th>\n",
       "      <td>4.608704e+07</td>\n",
       "      <td>1.0</td>\n",
       "      <td>6.444224e+00</td>\n",
       "      <td>6.793892e+03</td>\n",
       "      <td>2.845672e+02</td>\n",
       "      <td>4.765345e+03</td>\n",
       "      <td>5.885862e+03</td>\n",
       "      <td>6.785796e-01</td>\n",
       "      <td>0.0</td>\n",
       "      <td>4.998201e+07</td>\n",
       "      <td>0.0</td>\n",
       "      <td>2.013527e-01</td>\n",
       "      <td>1.0</td>\n",
       "      <td>2.811717e-06</td>\n",
       "      <td>1.0</td>\n",
       "    </tr>\n",
       "    <tr>\n",
       "      <th>std</th>\n",
       "      <td>1.326583e+06</td>\n",
       "      <td>0.0</td>\n",
       "      <td>5.465623e+00</td>\n",
       "      <td>2.521735e+01</td>\n",
       "      <td>6.052277e-01</td>\n",
       "      <td>1.109746e+03</td>\n",
       "      <td>2.155278e+03</td>\n",
       "      <td>7.755577e-02</td>\n",
       "      <td>0.0</td>\n",
       "      <td>2.886734e+07</td>\n",
       "      <td>0.0</td>\n",
       "      <td>1.404630e+00</td>\n",
       "      <td>0.0</td>\n",
       "      <td>3.091898e-03</td>\n",
       "      <td>0.0</td>\n",
       "    </tr>\n",
       "    <tr>\n",
       "      <th>min</th>\n",
       "      <td>4.346808e+07</td>\n",
       "      <td>1.0</td>\n",
       "      <td>1.000000e+00</td>\n",
       "      <td>6.719000e+03</td>\n",
       "      <td>2.840000e+02</td>\n",
       "      <td>0.000000e+00</td>\n",
       "      <td>5.760000e+02</td>\n",
       "      <td>0.000000e+00</td>\n",
       "      <td>0.0</td>\n",
       "      <td>0.000000e+00</td>\n",
       "      <td>0.0</td>\n",
       "      <td>0.000000e+00</td>\n",
       "      <td>1.0</td>\n",
       "      <td>0.000000e+00</td>\n",
       "      <td>1.0</td>\n",
       "    </tr>\n",
       "    <tr>\n",
       "      <th>25%</th>\n",
       "      <td>4.531792e+07</td>\n",
       "      <td>1.0</td>\n",
       "      <td>1.000000e+00</td>\n",
       "      <td>6.774000e+03</td>\n",
       "      <td>2.840000e+02</td>\n",
       "      <td>5.017000e+03</td>\n",
       "      <td>4.572000e+03</td>\n",
       "      <td>6.285110e-01</td>\n",
       "      <td>0.0</td>\n",
       "      <td>2.497997e+07</td>\n",
       "      <td>0.0</td>\n",
       "      <td>0.000000e+00</td>\n",
       "      <td>1.0</td>\n",
       "      <td>0.000000e+00</td>\n",
       "      <td>1.0</td>\n",
       "    </tr>\n",
       "    <tr>\n",
       "      <th>50%</th>\n",
       "      <td>4.618399e+07</td>\n",
       "      <td>1.0</td>\n",
       "      <td>7.000000e+00</td>\n",
       "      <td>6.789000e+03</td>\n",
       "      <td>2.850000e+02</td>\n",
       "      <td>5.042000e+03</td>\n",
       "      <td>5.112000e+03</td>\n",
       "      <td>6.863890e-01</td>\n",
       "      <td>0.0</td>\n",
       "      <td>4.996301e+07</td>\n",
       "      <td>0.0</td>\n",
       "      <td>0.000000e+00</td>\n",
       "      <td>1.0</td>\n",
       "      <td>0.000000e+00</td>\n",
       "      <td>1.0</td>\n",
       "    </tr>\n",
       "    <tr>\n",
       "      <th>75%</th>\n",
       "      <td>4.701590e+07</td>\n",
       "      <td>1.0</td>\n",
       "      <td>8.000000e+00</td>\n",
       "      <td>6.816000e+03</td>\n",
       "      <td>2.850000e+02</td>\n",
       "      <td>5.069000e+03</td>\n",
       "      <td>6.516000e+03</td>\n",
       "      <td>7.358920e-01</td>\n",
       "      <td>0.0</td>\n",
       "      <td>7.499597e+07</td>\n",
       "      <td>0.0</td>\n",
       "      <td>0.000000e+00</td>\n",
       "      <td>1.0</td>\n",
       "      <td>0.000000e+00</td>\n",
       "      <td>1.0</td>\n",
       "    </tr>\n",
       "    <tr>\n",
       "      <th>max</th>\n",
       "      <td>4.847621e+07</td>\n",
       "      <td>1.0</td>\n",
       "      <td>1.800000e+01</td>\n",
       "      <td>6.859000e+03</td>\n",
       "      <td>2.870000e+02</td>\n",
       "      <td>5.094000e+03</td>\n",
       "      <td>1.544400e+04</td>\n",
       "      <td>8.741070e-01</td>\n",
       "      <td>0.0</td>\n",
       "      <td>9.999974e+07</td>\n",
       "      <td>0.0</td>\n",
       "      <td>1.000000e+01</td>\n",
       "      <td>1.0</td>\n",
       "      <td>4.000000e+00</td>\n",
       "      <td>1.0</td>\n",
       "    </tr>\n",
       "  </tbody>\n",
       "</table>\n",
       "</div>"
      ],
      "text/plain": [
       "            text_id   uploaded      verified       user_id           tag  \\\n",
       "count  1.778273e+06  1778273.0  1.778273e+06  1.778273e+06  1.778273e+06   \n",
       "mean   4.608704e+07        1.0  6.444224e+00  6.793892e+03  2.845672e+02   \n",
       "std    1.326583e+06        0.0  5.465623e+00  2.521735e+01  6.052277e-01   \n",
       "min    4.346808e+07        1.0  1.000000e+00  6.719000e+03  2.840000e+02   \n",
       "25%    4.531792e+07        1.0  1.000000e+00  6.774000e+03  2.840000e+02   \n",
       "50%    4.618399e+07        1.0  7.000000e+00  6.789000e+03  2.850000e+02   \n",
       "75%    4.701590e+07        1.0  8.000000e+00  6.816000e+03  2.850000e+02   \n",
       "max    4.847621e+07        1.0  1.800000e+01  6.859000e+03  2.870000e+02   \n",
       "\n",
       "        verified_by        length    confidence  pre_processed       file_id  \\\n",
       "count  1.778273e+06  1.778273e+06  1.778273e+06      1778273.0  1.778273e+06   \n",
       "mean   4.765345e+03  5.885862e+03  6.785796e-01            0.0  4.998201e+07   \n",
       "std    1.109746e+03  2.155278e+03  7.755577e-02            0.0  2.886734e+07   \n",
       "min    0.000000e+00  5.760000e+02  0.000000e+00            0.0  0.000000e+00   \n",
       "25%    5.017000e+03  4.572000e+03  6.285110e-01            0.0  2.497997e+07   \n",
       "50%    5.042000e+03  5.112000e+03  6.863890e-01            0.0  4.996301e+07   \n",
       "75%    5.069000e+03  6.516000e+03  7.358920e-01            0.0  7.499597e+07   \n",
       "max    5.094000e+03  1.544400e+04  8.741070e-01            0.0  9.999974e+07   \n",
       "\n",
       "          seq_id     test_data       lang       lang_lm  \\\n",
       "count  1778273.0  1.778273e+06  1778273.0  1.778273e+06   \n",
       "mean         0.0  2.013527e-01        1.0  2.811717e-06   \n",
       "std          0.0  1.404630e+00        0.0  3.091898e-03   \n",
       "min          0.0  0.000000e+00        1.0  0.000000e+00   \n",
       "25%          0.0  0.000000e+00        1.0  0.000000e+00   \n",
       "50%          0.0  0.000000e+00        1.0  0.000000e+00   \n",
       "75%          0.0  0.000000e+00        1.0  0.000000e+00   \n",
       "max          0.0  1.000000e+01        1.0  4.000000e+00   \n",
       "\n",
       "       current_month_verification  \n",
       "count                   1778273.0  \n",
       "mean                          1.0  \n",
       "std                           0.0  \n",
       "min                           1.0  \n",
       "25%                           1.0  \n",
       "50%                           1.0  \n",
       "75%                           1.0  \n",
       "max                           1.0  "
      ]
     },
     "execution_count": 4,
     "metadata": {},
     "output_type": "execute_result"
    }
   ],
   "source": [
    "data_from_transcribe = pd.read_sql('select * from data_transcribe where tag in (285,287,284) and verified in (1,8,11,7,17,18) and verified_time>=\"2020-08-01\"', db_connection)\n",
    "data_from_transcribe.describe()\n"
   ]
  },
  {
   "cell_type": "code",
   "execution_count": 5,
   "metadata": {},
   "outputs": [],
   "source": [
    "data_from_transcribe['corrected_utf_text_decoded'] = data_from_transcribe['corrected_utf_text'].apply(base64.urlsafe_b64decode).str.decode('utf8', errors='ignore').dropna()\n",
    "data_from_transcribe['type_of_text'] = data_from_transcribe['corrected_utf_text_decoded'].apply(get_type_of_text)"
   ]
  },
  {
   "cell_type": "code",
   "execution_count": 6,
   "metadata": {},
   "outputs": [
    {
     "data": {
      "text/html": [
       "<div>\n",
       "<style scoped>\n",
       "    .dataframe tbody tr th:only-of-type {\n",
       "        vertical-align: middle;\n",
       "    }\n",
       "\n",
       "    .dataframe tbody tr th {\n",
       "        vertical-align: top;\n",
       "    }\n",
       "\n",
       "    .dataframe thead th {\n",
       "        text-align: right;\n",
       "    }\n",
       "</style>\n",
       "<table border=\"1\" class=\"dataframe\">\n",
       "  <thead>\n",
       "    <tr style=\"text-align: right;\">\n",
       "      <th></th>\n",
       "      <th>text_id</th>\n",
       "      <th>uploaded</th>\n",
       "      <th>verified</th>\n",
       "      <th>user_id</th>\n",
       "      <th>tag</th>\n",
       "      <th>verified_by</th>\n",
       "      <th>length</th>\n",
       "      <th>confidence</th>\n",
       "      <th>uploaded_time</th>\n",
       "      <th>verified_time</th>\n",
       "      <th>...</th>\n",
       "      <th>seq_id</th>\n",
       "      <th>test_data</th>\n",
       "      <th>lang</th>\n",
       "      <th>lang_lm</th>\n",
       "      <th>auto_lang</th>\n",
       "      <th>current_month_verification</th>\n",
       "      <th>srv_session_id</th>\n",
       "      <th>corrected_utf_text_decoded</th>\n",
       "      <th>type_of_text</th>\n",
       "      <th>word_len</th>\n",
       "    </tr>\n",
       "  </thead>\n",
       "  <tbody>\n",
       "    <tr>\n",
       "      <th>0</th>\n",
       "      <td>43541441</td>\n",
       "      <td>1</td>\n",
       "      <td>1</td>\n",
       "      <td>6815</td>\n",
       "      <td>284</td>\n",
       "      <td>5052</td>\n",
       "      <td>4572</td>\n",
       "      <td>0.746853</td>\n",
       "      <td>NaT</td>\n",
       "      <td>2020-09-28 13:43:18</td>\n",
       "      <td>...</td>\n",
       "      <td>0</td>\n",
       "      <td>0</td>\n",
       "      <td>1</td>\n",
       "      <td>0</td>\n",
       "      <td>b'NA'</td>\n",
       "      <td>1</td>\n",
       "      <td>None</td>\n",
       "      <td>मास्क</td>\n",
       "      <td>0</td>\n",
       "      <td>1</td>\n",
       "    </tr>\n",
       "    <tr>\n",
       "      <th>1</th>\n",
       "      <td>43541443</td>\n",
       "      <td>1</td>\n",
       "      <td>7</td>\n",
       "      <td>6830</td>\n",
       "      <td>284</td>\n",
       "      <td>5081</td>\n",
       "      <td>5112</td>\n",
       "      <td>0.752223</td>\n",
       "      <td>NaT</td>\n",
       "      <td>2020-09-08 08:00:37</td>\n",
       "      <td>...</td>\n",
       "      <td>0</td>\n",
       "      <td>0</td>\n",
       "      <td>1</td>\n",
       "      <td>0</td>\n",
       "      <td>b'NA'</td>\n",
       "      <td>1</td>\n",
       "      <td>None</td>\n",
       "      <td>@ _ @ गेम खेलने वाली मशीन</td>\n",
       "      <td>2</td>\n",
       "      <td>7</td>\n",
       "    </tr>\n",
       "    <tr>\n",
       "      <th>2</th>\n",
       "      <td>43541444</td>\n",
       "      <td>1</td>\n",
       "      <td>1</td>\n",
       "      <td>6815</td>\n",
       "      <td>284</td>\n",
       "      <td>5052</td>\n",
       "      <td>8424</td>\n",
       "      <td>0.667935</td>\n",
       "      <td>NaT</td>\n",
       "      <td>2020-09-28 13:43:18</td>\n",
       "      <td>...</td>\n",
       "      <td>0</td>\n",
       "      <td>0</td>\n",
       "      <td>1</td>\n",
       "      <td>0</td>\n",
       "      <td>b'NA'</td>\n",
       "      <td>1</td>\n",
       "      <td>None</td>\n",
       "      <td>खिलौने वाली गाड़ी इसमें दो लोग बैठ सकते हैं असली</td>\n",
       "      <td>0</td>\n",
       "      <td>10</td>\n",
       "    </tr>\n",
       "    <tr>\n",
       "      <th>3</th>\n",
       "      <td>43541453</td>\n",
       "      <td>1</td>\n",
       "      <td>7</td>\n",
       "      <td>6831</td>\n",
       "      <td>284</td>\n",
       "      <td>5075</td>\n",
       "      <td>4284</td>\n",
       "      <td>0.748266</td>\n",
       "      <td>NaT</td>\n",
       "      <td>2020-08-17 17:39:13</td>\n",
       "      <td>...</td>\n",
       "      <td>0</td>\n",
       "      <td>0</td>\n",
       "      <td>1</td>\n",
       "      <td>0</td>\n",
       "      <td>b'NA'</td>\n",
       "      <td>1</td>\n",
       "      <td>None</td>\n",
       "      <td>गर्ल्स शूज @ _ हाँ @</td>\n",
       "      <td>3</td>\n",
       "      <td>6</td>\n",
       "    </tr>\n",
       "    <tr>\n",
       "      <th>4</th>\n",
       "      <td>43541457</td>\n",
       "      <td>1</td>\n",
       "      <td>8</td>\n",
       "      <td>6785</td>\n",
       "      <td>284</td>\n",
       "      <td>5040</td>\n",
       "      <td>1512</td>\n",
       "      <td>0.874107</td>\n",
       "      <td>NaT</td>\n",
       "      <td>2020-09-07 12:51:34</td>\n",
       "      <td>...</td>\n",
       "      <td>0</td>\n",
       "      <td>0</td>\n",
       "      <td>1</td>\n",
       "      <td>0</td>\n",
       "      <td>b'NA'</td>\n",
       "      <td>1</td>\n",
       "      <td>None</td>\n",
       "      <td>___</td>\n",
       "      <td>1</td>\n",
       "      <td>1</td>\n",
       "    </tr>\n",
       "  </tbody>\n",
       "</table>\n",
       "<p>5 rows × 29 columns</p>\n",
       "</div>"
      ],
      "text/plain": [
       "    text_id  uploaded  verified  user_id  tag  verified_by  length  \\\n",
       "0  43541441         1         1     6815  284         5052    4572   \n",
       "1  43541443         1         7     6830  284         5081    5112   \n",
       "2  43541444         1         1     6815  284         5052    8424   \n",
       "3  43541453         1         7     6831  284         5075    4284   \n",
       "4  43541457         1         8     6785  284         5040    1512   \n",
       "\n",
       "   confidence uploaded_time       verified_time  ... seq_id test_data lang  \\\n",
       "0    0.746853           NaT 2020-09-28 13:43:18  ...      0         0    1   \n",
       "1    0.752223           NaT 2020-09-08 08:00:37  ...      0         0    1   \n",
       "2    0.667935           NaT 2020-09-28 13:43:18  ...      0         0    1   \n",
       "3    0.748266           NaT 2020-08-17 17:39:13  ...      0         0    1   \n",
       "4    0.874107           NaT 2020-09-07 12:51:34  ...      0         0    1   \n",
       "\n",
       "  lang_lm auto_lang current_month_verification srv_session_id  \\\n",
       "0       0     b'NA'                          1           None   \n",
       "1       0     b'NA'                          1           None   \n",
       "2       0     b'NA'                          1           None   \n",
       "3       0     b'NA'                          1           None   \n",
       "4       0     b'NA'                          1           None   \n",
       "\n",
       "                         corrected_utf_text_decoded  type_of_text  word_len  \n",
       "0                                             मास्क             0         1  \n",
       "1                         @ _ @ गेम खेलने वाली मशीन             2         7  \n",
       "2  खिलौने वाली गाड़ी इसमें दो लोग बैठ सकते हैं असली             0        10  \n",
       "3                              गर्ल्स शूज @ _ हाँ @             3         6  \n",
       "4                                               ___             1         1  \n",
       "\n",
       "[5 rows x 29 columns]"
      ]
     },
     "execution_count": 6,
     "metadata": {},
     "output_type": "execute_result"
    }
   ],
   "source": [
    "data_from_transcribe['word_len'] = data_from_transcribe['corrected_utf_text_decoded'].str.split().apply(len)\n",
    "data_from_transcribe.head()"
   ]
  },
  {
   "cell_type": "markdown",
   "metadata": {},
   "source": [
    "## Hours of Data for each type"
   ]
  },
  {
   "cell_type": "markdown",
   "metadata": {},
   "source": [
    "### Primary Clean"
   ]
  },
  {
   "cell_type": "code",
   "execution_count": 8,
   "metadata": {},
   "outputs": [
    {
     "name": "stdout",
     "output_type": "stream",
     "text": [
      "Total Audio Duration in hours  :-  1228.1695677777777\n",
      "Total files                    :-  811567\n",
      "Mean Audio Duration            :-  5447.991902085718\n",
      "Mean Confidence                :-  0.6960377693314294\n"
     ]
    }
   ],
   "source": [
    "data_from_transcribe_pri_clean =  data_from_transcribe[data_from_transcribe['type_of_text']==0]\n",
    "\n",
    "data_from_transcribe_pri_clean_hr = data_from_transcribe_pri_clean[\"length\"].sum()/(60*1000*60)\n",
    "print(\"Total Audio Duration in hours  :- \", data_from_transcribe_pri_clean_hr)\n",
    "\n",
    "\n",
    "data_from_transcribe_pri_clean_count = data_from_transcribe_pri_clean[\"length\"].count()\n",
    "print(\"Total files                    :- \", data_from_transcribe_pri_clean_count)\n",
    "\n",
    "data_from_transcribe_pri_clean_mean = data_from_transcribe_pri_clean[\"length\"].mean()\n",
    "print(\"Mean Audio Duration            :- \", data_from_transcribe_pri_clean_mean)\n",
    "\n",
    "data_from_transcribe_pri_clean_mean_confidence = data_from_transcribe_pri_clean[\"confidence\"].mean()\n",
    "print(\"Mean Confidence                :- \", data_from_transcribe_pri_clean_mean_confidence)\n"
   ]
  },
  {
   "cell_type": "markdown",
   "metadata": {},
   "source": [
    "### Primary Underscore"
   ]
  },
  {
   "cell_type": "code",
   "execution_count": 9,
   "metadata": {},
   "outputs": [
    {
     "name": "stdout",
     "output_type": "stream",
     "text": [
      "Total Audio Duration in hours  :-  219.85367027777778\n",
      "Total files                    :-  154442\n",
      "Mean Audio Duration            :-  5124.727813677627\n",
      "Mean Confidence                :-  0.6718310598218102\n"
     ]
    }
   ],
   "source": [
    "data_from_transcribe_pri_underscore =  data_from_transcribe[data_from_transcribe['type_of_text']==1]\n",
    "\n",
    "data_from_transcribe_pri_underscore_hr = data_from_transcribe_pri_underscore[\"length\"].sum()/(60*1000*60)\n",
    "print(\"Total Audio Duration in hours  :- \", data_from_transcribe_pri_underscore_hr)\n",
    "\n",
    "\n",
    "data_from_transcribe_pri_underscore_count = data_from_transcribe_pri_underscore[\"length\"].count()\n",
    "print(\"Total files                    :- \", data_from_transcribe_pri_underscore_count)\n",
    "\n",
    "data_from_transcribe_pri_underscore_mean = data_from_transcribe_pri_underscore[\"length\"].mean()\n",
    "print(\"Mean Audio Duration            :- \", data_from_transcribe_pri_underscore_mean)\n",
    "\n",
    "data_from_transcribe_pri_underscore_mean_confidence = data_from_transcribe_pri_underscore[\"confidence\"].mean()\n",
    "print(\"Mean Confidence                :- \", data_from_transcribe_pri_underscore_mean_confidence)\n"
   ]
  },
  {
   "cell_type": "markdown",
   "metadata": {},
   "source": [
    "### Secondary Non-prominent"
   ]
  },
  {
   "cell_type": "code",
   "execution_count": 10,
   "metadata": {},
   "outputs": [
    {
     "name": "stdout",
     "output_type": "stream",
     "text": [
      "Total Audio Duration in hours  :-  953.7068013888888\n",
      "Total files                    :-  576915\n",
      "Mean Audio Duration            :-  5951.213757659274\n",
      "Mean Confidence                :-  0.6745693015695554\n"
     ]
    }
   ],
   "source": [
    "data_from_transcribe_sec_non_prominent =  data_from_transcribe[data_from_transcribe['type_of_text']==2]\n",
    "\n",
    "data_from_transcribe_sec_non_prominent_hr = data_from_transcribe_sec_non_prominent[\"length\"].sum()/(60*1000*60)\n",
    "print(\"Total Audio Duration in hours  :- \", data_from_transcribe_sec_non_prominent_hr)\n",
    "\n",
    "\n",
    "data_from_transcribe_sec_non_prominent_count = data_from_transcribe_sec_non_prominent[\"length\"].count()\n",
    "print(\"Total files                    :- \", data_from_transcribe_sec_non_prominent_count)\n",
    "\n",
    "data_from_transcribe_sec_non_prominent_mean = data_from_transcribe_sec_non_prominent[\"length\"].mean()\n",
    "print(\"Mean Audio Duration            :- \", data_from_transcribe_sec_non_prominent_mean)\n",
    "\n",
    "data_from_transcribe_sec_non_prominent_mean_confidence = data_from_transcribe_sec_non_prominent[\"confidence\"].mean()\n",
    "print(\"Mean Confidence                :- \", data_from_transcribe_sec_non_prominent_mean_confidence)\n"
   ]
  },
  {
   "cell_type": "markdown",
   "metadata": {},
   "source": [
    "### Secondary Prominent"
   ]
  },
  {
   "cell_type": "code",
   "execution_count": 12,
   "metadata": {},
   "outputs": [
    {
     "name": "stdout",
     "output_type": "stream",
     "text": [
      "Total Audio Duration in hours  :-  505.6781755555556\n",
      "Total files                    :-  235349\n",
      "Mean Audio Duration            :-  7735.071880483877\n",
      "Mean Confidence                :-  0.6326366802578299\n"
     ]
    }
   ],
   "source": [
    "data_from_transcribe_sec_prominent =  data_from_transcribe[data_from_transcribe['type_of_text']==3]\n",
    "\n",
    "data_from_transcribe_sec_prominent_hr = data_from_transcribe_sec_prominent[\"length\"].sum()/(60*1000*60)\n",
    "print(\"Total Audio Duration in hours  :- \", data_from_transcribe_sec_prominent_hr)\n",
    "\n",
    "\n",
    "data_from_transcribe_sec_prominent_count = data_from_transcribe_sec_prominent[\"length\"].count()\n",
    "print(\"Total files                    :- \", data_from_transcribe_sec_prominent_count)\n",
    "\n",
    "data_from_transcribe_sec_prominent_mean = data_from_transcribe_sec_prominent[\"length\"].mean()\n",
    "print(\"Mean Audio Duration            :- \", data_from_transcribe_sec_prominent_mean)\n",
    "\n",
    "data_from_transcribe_sec_prominent_mean_confidence = data_from_transcribe_sec_prominent[\"confidence\"].mean()\n",
    "print(\"Mean Confidence                :- \", data_from_transcribe_sec_prominent_mean_confidence)\n"
   ]
  },
  {
   "cell_type": "markdown",
   "metadata": {},
   "source": [
    "### Total Data Transcribe"
   ]
  },
  {
   "cell_type": "code",
   "execution_count": 13,
   "metadata": {},
   "outputs": [
    {
     "name": "stdout",
     "output_type": "stream",
     "text": [
      "Total Audio Duration in hours  :-  2907.408215\n",
      "Total files                    :-  1778273\n",
      "Mean Audio Duration            :-  5885.862054926324\n",
      "Mean Confidence                :-  0.6785795969240949\n"
     ]
    }
   ],
   "source": [
    "data_from_transcribe_hr = data_from_transcribe[\"length\"].sum()/(60*1000*60)\n",
    "print(\"Total Audio Duration in hours  :- \", data_from_transcribe_hr)\n",
    "\n",
    "\n",
    "data_from_transcribe_count = data_from_transcribe[\"length\"].count()\n",
    "print(\"Total files                    :- \", data_from_transcribe_count)\n",
    "\n",
    "data_from_transcribe_mean = data_from_transcribe[\"length\"].mean()\n",
    "print(\"Mean Audio Duration            :- \", data_from_transcribe_mean)\n",
    "\n",
    "data_from_transcribe_mean_confidence = data_from_transcribe[\"confidence\"].mean()\n",
    "print(\"Mean Confidence                :- \", data_from_transcribe_mean_confidence)\n"
   ]
  },
  {
   "cell_type": "markdown",
   "metadata": {},
   "source": [
    "# Word Length Distribution"
   ]
  },
  {
   "cell_type": "markdown",
   "metadata": {},
   "source": [
    "## Primary Clean"
   ]
  },
  {
   "cell_type": "code",
   "execution_count": 22,
   "metadata": {},
   "outputs": [
    {
     "data": {
      "text/plain": [
       "<AxesSubplot:xlabel='word_len', ylabel='count'>"
      ]
     },
     "execution_count": 22,
     "metadata": {},
     "output_type": "execute_result"
    },
    {
     "data": {
      "image/png": "[encoded data removed]",
      "text/plain": [
       "<Figure size 842.4x595.44 with 1 Axes>"
      ]
     },
     "metadata": {},
     "output_type": "display_data"
    }
   ],
   "source": [
    "sns.countplot(x=\"word_len\", data=data_from_transcribe_pri_clean)"
   ]
  },
  {
   "cell_type": "markdown",
   "metadata": {},
   "source": [
    "## Primary Underscore"
   ]
  },
  {
   "cell_type": "code",
   "execution_count": 21,
   "metadata": {},
   "outputs": [
    {
     "data": {
      "text/plain": [
       "<AxesSubplot:xlabel='word_len', ylabel='count'>"
      ]
     },
     "execution_count": 21,
     "metadata": {},
     "output_type": "execute_result"
    },
    {
     "data": {
      "image/png": "[encoded data removed]",
      "text/plain": [
       "<Figure size 842.4x595.44 with 1 Axes>"
      ]
     },
     "metadata": {},
     "output_type": "display_data"
    }
   ],
   "source": [
    "sns.countplot(x=\"word_len\", data=data_from_transcribe_pri_underscore)"
   ]
  },
  {
   "cell_type": "markdown",
   "metadata": {},
   "source": [
    "## Secondary Non-prominent"
   ]
  },
  {
   "cell_type": "code",
   "execution_count": 23,
   "metadata": {},
   "outputs": [
    {
     "data": {
      "text/plain": [
       "<AxesSubplot:xlabel='word_len', ylabel='count'>"
      ]
     },
     "execution_count": 23,
     "metadata": {},
     "output_type": "execute_result"
    },
    {
     "data": {
      "image/png": "[encoded data removed]",
      "text/plain": [
       "<Figure size 842.4x595.44 with 1 Axes>"
      ]
     },
     "metadata": {},
     "output_type": "display_data"
    }
   ],
   "source": [
    "sns.countplot(x=\"word_len\", data=data_from_transcribe_sec_non_prominent, saturation=0.75)"
   ]
  },
  {
   "cell_type": "code",
   "execution_count": null,
   "metadata": {},
   "outputs": [],
   "source": []
  }
 ],
 "metadata": {
  "kernelspec": {
   "display_name": "Python 3",
   "language": "python",
   "name": "python3"
  },
  "language_info": {
   "codemirror_mode": {
    "name": "ipython",
    "version": 3
   },
   "file_extension": ".py",
   "mimetype": "text/x-python",
   "name": "python",
   "nbconvert_exporter": "python",
   "pygments_lexer": "ipython3",
   "version": "3.8.3"
  }
 },
 "nbformat": 4,
 "nbformat_minor": 4
}
